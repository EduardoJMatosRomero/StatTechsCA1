{
 "cells": [
  {
   "cell_type": "markdown",
   "id": "f576fa07",
   "metadata": {},
   "source": [
    "You are working at the bank as a data analyst, your task is to perform a comprehensive statistical analysis\n",
    "of the \"Bank Marketing\" dataset. Your analysis should cover various statistics topics, including Descriptive\n",
    "Statistics, Probability and Distributions."
   ]
  },
  {
   "cell_type": "markdown",
   "id": "f267a292",
   "metadata": {},
   "source": [
    "1. Calculate descriptive statistics and present a summary for relevant variables in the dataset.\n",
    "Describe the central tendencies and variability in the data. You must justify the choice of the\n",
    "variables in this point. [0 – 25%]\n",
    "2. Create two visualisations (e.g., histograms, box plots) to represent the distribution of the numeric\n",
    "variables that you consider relevant. What patterns can you observe? [0 – 10%]\n",
    "3. Calculate and interpret probabilities that might affect the success of a marketing campaign. Why\n",
    "these variables are relevant? [0 -15%]\n",
    "4. Analyse a subset of the dataset related and calculate a specified probability of success. With this\n",
    "probability, place a Binomial distribution and explain why this result is important in a banking\n",
    "marketing campaign. [0 - 20%]\n",
    "5. Use Normal distribution to explain a main variable. Visualise the data of your variable and\n",
    "determine whether this could be considered normally distributed or not. [0 – 15%]\n",
    "6. Present all your results in a form of a report (minimum 1700 words). The report should contain an\n",
    "executive introduction, body, and conclusion with suggestions for the marketing campaign. [0-15%]"
   ]
  },
  {
   "cell_type": "code",
   "execution_count": 1,
   "id": "4f04f815",
   "metadata": {},
   "outputs": [],
   "source": [
    "import pandas as pd\n",
    "import numpy as np\n",
    "import matplotlib.pyplot as plt\n",
    "import seaborn as sns\n",
    "df = pd.read_csv(\"Bank_Mkt_Campaign.csv\")"
   ]
  },
  {
   "cell_type": "markdown",
   "id": "0beafd5a",
   "metadata": {},
   "source": [
    "### Index\n",
    "1. Data overview\n",
    "\n",
    "2. Data Analysis\n",
    "\n",
    "> 2.1 Campaign Success\n",
    "\n",
    "> 2.1.1 Analysis of Relative Frequencies\n",
    "\n",
    "> 2.2 Campaign Results by Group of Ages\n",
    "\n",
    "> 2.2.1 Analysis of Relative Frequencies\n",
    "\n",
    "> 2.3 Campaign Results by Marital Status\n",
    "\n",
    "> 2.3.1 Analysis of Relative Frequencies\n",
    "\n",
    "> 2.4 Campaign Results by Bank Debt Status\n",
    "\n",
    "> 2.4.1 Analysis of Relative Frequencies\n",
    "\n",
    "> 2.5 Campaign Results by job\n",
    "\n",
    "> 2.5.1 Analysis of Relative Frequencies\n",
    "\n",
    "> 2.6 Campaign Results by Education\n",
    "\n",
    "> 2.6.1 Analysis of Relative Frequencies\n",
    "\n",
    "> 2.7 Campaign Results by Average Balance in the Bank\n",
    "\n",
    "> 2.7.1 Analysis of Relative Frequencies\n",
    "\n",
    "> 2.8 Summary analysis"
   ]
  },
  {
   "cell_type": "markdown",
   "id": "5500c955",
   "metadata": {},
   "source": [
    "### Data overview"
   ]
  },
  {
   "cell_type": "code",
   "execution_count": 2,
   "id": "1d39e775",
   "metadata": {},
   "outputs": [
    {
     "name": "stdout",
     "output_type": "stream",
     "text": [
      "<class 'pandas.core.frame.DataFrame'>\n",
      "RangeIndex: 4521 entries, 0 to 4520\n",
      "Data columns (total 17 columns):\n",
      " #   Column     Non-Null Count  Dtype \n",
      "---  ------     --------------  ----- \n",
      " 0   age        4521 non-null   int64 \n",
      " 1   job        4521 non-null   object\n",
      " 2   marital    4521 non-null   object\n",
      " 3   education  4521 non-null   object\n",
      " 4   default    4521 non-null   object\n",
      " 5   balance    4521 non-null   int64 \n",
      " 6   housing    4521 non-null   object\n",
      " 7   loan       4521 non-null   object\n",
      " 8   contact    4521 non-null   object\n",
      " 9   day        4521 non-null   int64 \n",
      " 10  month      4521 non-null   object\n",
      " 11  duration   4521 non-null   int64 \n",
      " 12  campaign   4521 non-null   int64 \n",
      " 13  pdays      4521 non-null   int64 \n",
      " 14  previous   4521 non-null   int64 \n",
      " 15  poutcome   4521 non-null   object\n",
      " 16  y          4521 non-null   object\n",
      "dtypes: int64(7), object(10)\n",
      "memory usage: 600.6+ KB\n"
     ]
    }
   ],
   "source": [
    "df.info()"
   ]
  },
  {
   "cell_type": "code",
   "execution_count": 3,
   "id": "f934fd04",
   "metadata": {},
   "outputs": [
    {
     "data": {
      "text/html": [
       "<div>\n",
       "<style scoped>\n",
       "    .dataframe tbody tr th:only-of-type {\n",
       "        vertical-align: middle;\n",
       "    }\n",
       "\n",
       "    .dataframe tbody tr th {\n",
       "        vertical-align: top;\n",
       "    }\n",
       "\n",
       "    .dataframe thead th {\n",
       "        text-align: right;\n",
       "    }\n",
       "</style>\n",
       "<table border=\"1\" class=\"dataframe\">\n",
       "  <thead>\n",
       "    <tr style=\"text-align: right;\">\n",
       "      <th></th>\n",
       "      <th>age</th>\n",
       "      <th>balance</th>\n",
       "      <th>day</th>\n",
       "      <th>duration</th>\n",
       "      <th>campaign</th>\n",
       "      <th>pdays</th>\n",
       "      <th>previous</th>\n",
       "    </tr>\n",
       "  </thead>\n",
       "  <tbody>\n",
       "    <tr>\n",
       "      <th>count</th>\n",
       "      <td>4521.000000</td>\n",
       "      <td>4521.000000</td>\n",
       "      <td>4521.000000</td>\n",
       "      <td>4521.000000</td>\n",
       "      <td>4521.000000</td>\n",
       "      <td>4521.000000</td>\n",
       "      <td>4521.000000</td>\n",
       "    </tr>\n",
       "    <tr>\n",
       "      <th>mean</th>\n",
       "      <td>41.170095</td>\n",
       "      <td>1422.657819</td>\n",
       "      <td>15.915284</td>\n",
       "      <td>263.961292</td>\n",
       "      <td>2.793630</td>\n",
       "      <td>39.766645</td>\n",
       "      <td>0.542579</td>\n",
       "    </tr>\n",
       "    <tr>\n",
       "      <th>std</th>\n",
       "      <td>10.576211</td>\n",
       "      <td>3009.638142</td>\n",
       "      <td>8.247667</td>\n",
       "      <td>259.856633</td>\n",
       "      <td>3.109807</td>\n",
       "      <td>100.121124</td>\n",
       "      <td>1.693562</td>\n",
       "    </tr>\n",
       "    <tr>\n",
       "      <th>min</th>\n",
       "      <td>19.000000</td>\n",
       "      <td>-3313.000000</td>\n",
       "      <td>1.000000</td>\n",
       "      <td>4.000000</td>\n",
       "      <td>1.000000</td>\n",
       "      <td>-1.000000</td>\n",
       "      <td>0.000000</td>\n",
       "    </tr>\n",
       "    <tr>\n",
       "      <th>25%</th>\n",
       "      <td>33.000000</td>\n",
       "      <td>69.000000</td>\n",
       "      <td>9.000000</td>\n",
       "      <td>104.000000</td>\n",
       "      <td>1.000000</td>\n",
       "      <td>-1.000000</td>\n",
       "      <td>0.000000</td>\n",
       "    </tr>\n",
       "    <tr>\n",
       "      <th>50%</th>\n",
       "      <td>39.000000</td>\n",
       "      <td>444.000000</td>\n",
       "      <td>16.000000</td>\n",
       "      <td>185.000000</td>\n",
       "      <td>2.000000</td>\n",
       "      <td>-1.000000</td>\n",
       "      <td>0.000000</td>\n",
       "    </tr>\n",
       "    <tr>\n",
       "      <th>75%</th>\n",
       "      <td>49.000000</td>\n",
       "      <td>1480.000000</td>\n",
       "      <td>21.000000</td>\n",
       "      <td>329.000000</td>\n",
       "      <td>3.000000</td>\n",
       "      <td>-1.000000</td>\n",
       "      <td>0.000000</td>\n",
       "    </tr>\n",
       "    <tr>\n",
       "      <th>max</th>\n",
       "      <td>87.000000</td>\n",
       "      <td>71188.000000</td>\n",
       "      <td>31.000000</td>\n",
       "      <td>3025.000000</td>\n",
       "      <td>50.000000</td>\n",
       "      <td>871.000000</td>\n",
       "      <td>25.000000</td>\n",
       "    </tr>\n",
       "  </tbody>\n",
       "</table>\n",
       "</div>"
      ],
      "text/plain": [
       "               age       balance          day     duration     campaign  \\\n",
       "count  4521.000000   4521.000000  4521.000000  4521.000000  4521.000000   \n",
       "mean     41.170095   1422.657819    15.915284   263.961292     2.793630   \n",
       "std      10.576211   3009.638142     8.247667   259.856633     3.109807   \n",
       "min      19.000000  -3313.000000     1.000000     4.000000     1.000000   \n",
       "25%      33.000000     69.000000     9.000000   104.000000     1.000000   \n",
       "50%      39.000000    444.000000    16.000000   185.000000     2.000000   \n",
       "75%      49.000000   1480.000000    21.000000   329.000000     3.000000   \n",
       "max      87.000000  71188.000000    31.000000  3025.000000    50.000000   \n",
       "\n",
       "             pdays     previous  \n",
       "count  4521.000000  4521.000000  \n",
       "mean     39.766645     0.542579  \n",
       "std     100.121124     1.693562  \n",
       "min      -1.000000     0.000000  \n",
       "25%      -1.000000     0.000000  \n",
       "50%      -1.000000     0.000000  \n",
       "75%      -1.000000     0.000000  \n",
       "max     871.000000    25.000000  "
      ]
     },
     "execution_count": 3,
     "metadata": {},
     "output_type": "execute_result"
    }
   ],
   "source": [
    "df.describe()"
   ]
  },
  {
   "cell_type": "code",
   "execution_count": 4,
   "id": "c83839e8",
   "metadata": {},
   "outputs": [
    {
     "data": {
      "text/html": [
       "<div>\n",
       "<style scoped>\n",
       "    .dataframe tbody tr th:only-of-type {\n",
       "        vertical-align: middle;\n",
       "    }\n",
       "\n",
       "    .dataframe tbody tr th {\n",
       "        vertical-align: top;\n",
       "    }\n",
       "\n",
       "    .dataframe thead th {\n",
       "        text-align: right;\n",
       "    }\n",
       "</style>\n",
       "<table border=\"1\" class=\"dataframe\">\n",
       "  <thead>\n",
       "    <tr style=\"text-align: right;\">\n",
       "      <th></th>\n",
       "      <th>age</th>\n",
       "      <th>job</th>\n",
       "      <th>marital</th>\n",
       "      <th>education</th>\n",
       "      <th>default</th>\n",
       "      <th>balance</th>\n",
       "      <th>housing</th>\n",
       "      <th>loan</th>\n",
       "      <th>contact</th>\n",
       "      <th>day</th>\n",
       "      <th>month</th>\n",
       "      <th>duration</th>\n",
       "      <th>campaign</th>\n",
       "      <th>pdays</th>\n",
       "      <th>previous</th>\n",
       "      <th>poutcome</th>\n",
       "      <th>y</th>\n",
       "    </tr>\n",
       "  </thead>\n",
       "  <tbody>\n",
       "    <tr>\n",
       "      <th>0</th>\n",
       "      <td>30</td>\n",
       "      <td>unemployed</td>\n",
       "      <td>married</td>\n",
       "      <td>primary</td>\n",
       "      <td>no</td>\n",
       "      <td>1787</td>\n",
       "      <td>no</td>\n",
       "      <td>no</td>\n",
       "      <td>cellular</td>\n",
       "      <td>19</td>\n",
       "      <td>oct</td>\n",
       "      <td>79</td>\n",
       "      <td>1</td>\n",
       "      <td>-1</td>\n",
       "      <td>0</td>\n",
       "      <td>unknown</td>\n",
       "      <td>no</td>\n",
       "    </tr>\n",
       "    <tr>\n",
       "      <th>1</th>\n",
       "      <td>33</td>\n",
       "      <td>services</td>\n",
       "      <td>married</td>\n",
       "      <td>secondary</td>\n",
       "      <td>no</td>\n",
       "      <td>4789</td>\n",
       "      <td>yes</td>\n",
       "      <td>yes</td>\n",
       "      <td>cellular</td>\n",
       "      <td>11</td>\n",
       "      <td>may</td>\n",
       "      <td>220</td>\n",
       "      <td>1</td>\n",
       "      <td>339</td>\n",
       "      <td>4</td>\n",
       "      <td>failure</td>\n",
       "      <td>no</td>\n",
       "    </tr>\n",
       "    <tr>\n",
       "      <th>2</th>\n",
       "      <td>35</td>\n",
       "      <td>management</td>\n",
       "      <td>single</td>\n",
       "      <td>tertiary</td>\n",
       "      <td>no</td>\n",
       "      <td>1350</td>\n",
       "      <td>yes</td>\n",
       "      <td>no</td>\n",
       "      <td>cellular</td>\n",
       "      <td>16</td>\n",
       "      <td>apr</td>\n",
       "      <td>185</td>\n",
       "      <td>1</td>\n",
       "      <td>330</td>\n",
       "      <td>1</td>\n",
       "      <td>failure</td>\n",
       "      <td>no</td>\n",
       "    </tr>\n",
       "    <tr>\n",
       "      <th>3</th>\n",
       "      <td>30</td>\n",
       "      <td>management</td>\n",
       "      <td>married</td>\n",
       "      <td>tertiary</td>\n",
       "      <td>no</td>\n",
       "      <td>1476</td>\n",
       "      <td>yes</td>\n",
       "      <td>yes</td>\n",
       "      <td>unknown</td>\n",
       "      <td>3</td>\n",
       "      <td>jun</td>\n",
       "      <td>199</td>\n",
       "      <td>4</td>\n",
       "      <td>-1</td>\n",
       "      <td>0</td>\n",
       "      <td>unknown</td>\n",
       "      <td>no</td>\n",
       "    </tr>\n",
       "    <tr>\n",
       "      <th>4</th>\n",
       "      <td>59</td>\n",
       "      <td>blue-collar</td>\n",
       "      <td>married</td>\n",
       "      <td>secondary</td>\n",
       "      <td>no</td>\n",
       "      <td>0</td>\n",
       "      <td>yes</td>\n",
       "      <td>no</td>\n",
       "      <td>unknown</td>\n",
       "      <td>5</td>\n",
       "      <td>may</td>\n",
       "      <td>226</td>\n",
       "      <td>1</td>\n",
       "      <td>-1</td>\n",
       "      <td>0</td>\n",
       "      <td>unknown</td>\n",
       "      <td>no</td>\n",
       "    </tr>\n",
       "    <tr>\n",
       "      <th>5</th>\n",
       "      <td>35</td>\n",
       "      <td>management</td>\n",
       "      <td>single</td>\n",
       "      <td>tertiary</td>\n",
       "      <td>no</td>\n",
       "      <td>747</td>\n",
       "      <td>no</td>\n",
       "      <td>no</td>\n",
       "      <td>cellular</td>\n",
       "      <td>23</td>\n",
       "      <td>feb</td>\n",
       "      <td>141</td>\n",
       "      <td>2</td>\n",
       "      <td>176</td>\n",
       "      <td>3</td>\n",
       "      <td>failure</td>\n",
       "      <td>no</td>\n",
       "    </tr>\n",
       "    <tr>\n",
       "      <th>6</th>\n",
       "      <td>36</td>\n",
       "      <td>self-employed</td>\n",
       "      <td>married</td>\n",
       "      <td>tertiary</td>\n",
       "      <td>no</td>\n",
       "      <td>307</td>\n",
       "      <td>yes</td>\n",
       "      <td>no</td>\n",
       "      <td>cellular</td>\n",
       "      <td>14</td>\n",
       "      <td>may</td>\n",
       "      <td>341</td>\n",
       "      <td>1</td>\n",
       "      <td>330</td>\n",
       "      <td>2</td>\n",
       "      <td>other</td>\n",
       "      <td>no</td>\n",
       "    </tr>\n",
       "    <tr>\n",
       "      <th>7</th>\n",
       "      <td>39</td>\n",
       "      <td>technician</td>\n",
       "      <td>married</td>\n",
       "      <td>secondary</td>\n",
       "      <td>no</td>\n",
       "      <td>147</td>\n",
       "      <td>yes</td>\n",
       "      <td>no</td>\n",
       "      <td>cellular</td>\n",
       "      <td>6</td>\n",
       "      <td>may</td>\n",
       "      <td>151</td>\n",
       "      <td>2</td>\n",
       "      <td>-1</td>\n",
       "      <td>0</td>\n",
       "      <td>unknown</td>\n",
       "      <td>no</td>\n",
       "    </tr>\n",
       "    <tr>\n",
       "      <th>8</th>\n",
       "      <td>41</td>\n",
       "      <td>entrepreneur</td>\n",
       "      <td>married</td>\n",
       "      <td>tertiary</td>\n",
       "      <td>no</td>\n",
       "      <td>221</td>\n",
       "      <td>yes</td>\n",
       "      <td>no</td>\n",
       "      <td>unknown</td>\n",
       "      <td>14</td>\n",
       "      <td>may</td>\n",
       "      <td>57</td>\n",
       "      <td>2</td>\n",
       "      <td>-1</td>\n",
       "      <td>0</td>\n",
       "      <td>unknown</td>\n",
       "      <td>no</td>\n",
       "    </tr>\n",
       "    <tr>\n",
       "      <th>9</th>\n",
       "      <td>43</td>\n",
       "      <td>services</td>\n",
       "      <td>married</td>\n",
       "      <td>primary</td>\n",
       "      <td>no</td>\n",
       "      <td>-88</td>\n",
       "      <td>yes</td>\n",
       "      <td>yes</td>\n",
       "      <td>cellular</td>\n",
       "      <td>17</td>\n",
       "      <td>apr</td>\n",
       "      <td>313</td>\n",
       "      <td>1</td>\n",
       "      <td>147</td>\n",
       "      <td>2</td>\n",
       "      <td>failure</td>\n",
       "      <td>no</td>\n",
       "    </tr>\n",
       "  </tbody>\n",
       "</table>\n",
       "</div>"
      ],
      "text/plain": [
       "   age            job  marital  education default  balance housing loan  \\\n",
       "0   30     unemployed  married    primary      no     1787      no   no   \n",
       "1   33       services  married  secondary      no     4789     yes  yes   \n",
       "2   35     management   single   tertiary      no     1350     yes   no   \n",
       "3   30     management  married   tertiary      no     1476     yes  yes   \n",
       "4   59    blue-collar  married  secondary      no        0     yes   no   \n",
       "5   35     management   single   tertiary      no      747      no   no   \n",
       "6   36  self-employed  married   tertiary      no      307     yes   no   \n",
       "7   39     technician  married  secondary      no      147     yes   no   \n",
       "8   41   entrepreneur  married   tertiary      no      221     yes   no   \n",
       "9   43       services  married    primary      no      -88     yes  yes   \n",
       "\n",
       "    contact  day month  duration  campaign  pdays  previous poutcome   y  \n",
       "0  cellular   19   oct        79         1     -1         0  unknown  no  \n",
       "1  cellular   11   may       220         1    339         4  failure  no  \n",
       "2  cellular   16   apr       185         1    330         1  failure  no  \n",
       "3   unknown    3   jun       199         4     -1         0  unknown  no  \n",
       "4   unknown    5   may       226         1     -1         0  unknown  no  \n",
       "5  cellular   23   feb       141         2    176         3  failure  no  \n",
       "6  cellular   14   may       341         1    330         2    other  no  \n",
       "7  cellular    6   may       151         2     -1         0  unknown  no  \n",
       "8   unknown   14   may        57         2     -1         0  unknown  no  \n",
       "9  cellular   17   apr       313         1    147         2  failure  no  "
      ]
     },
     "execution_count": 4,
     "metadata": {},
     "output_type": "execute_result"
    }
   ],
   "source": [
    "df.head(10)"
   ]
  },
  {
   "cell_type": "code",
   "execution_count": 5,
   "id": "d9426053",
   "metadata": {},
   "outputs": [
    {
     "data": {
      "text/plain": [
       "no     3830\n",
       "yes     691\n",
       "Name: loan, dtype: int64"
      ]
     },
     "execution_count": 5,
     "metadata": {},
     "output_type": "execute_result"
    }
   ],
   "source": [
    "df.loan.value_counts()"
   ]
  },
  {
   "cell_type": "code",
   "execution_count": 6,
   "id": "3edc4170",
   "metadata": {},
   "outputs": [
    {
     "data": {
      "text/plain": [
       "yes    2559\n",
       "no     1962\n",
       "Name: housing, dtype: int64"
      ]
     },
     "execution_count": 6,
     "metadata": {},
     "output_type": "execute_result"
    }
   ],
   "source": [
    "df.housing.value_counts()"
   ]
  },
  {
   "cell_type": "code",
   "execution_count": 7,
   "id": "5e354aa9",
   "metadata": {},
   "outputs": [
    {
     "data": {
      "text/plain": [
       "no     4445\n",
       "yes      76\n",
       "Name: default, dtype: int64"
      ]
     },
     "execution_count": 7,
     "metadata": {},
     "output_type": "execute_result"
    }
   ],
   "source": [
    "df.default.value_counts()"
   ]
  },
  {
   "cell_type": "code",
   "execution_count": 8,
   "id": "29107f9b",
   "metadata": {},
   "outputs": [
    {
     "data": {
      "text/plain": [
       "management       969\n",
       "blue-collar      946\n",
       "technician       768\n",
       "admin.           478\n",
       "services         417\n",
       "retired          230\n",
       "self-employed    183\n",
       "entrepreneur     168\n",
       "unemployed       128\n",
       "housemaid        112\n",
       "student           84\n",
       "unknown           38\n",
       "Name: job, dtype: int64"
      ]
     },
     "execution_count": 8,
     "metadata": {},
     "output_type": "execute_result"
    }
   ],
   "source": [
    "df.job.value_counts()"
   ]
  },
  {
   "cell_type": "code",
   "execution_count": 9,
   "id": "dafda954",
   "metadata": {},
   "outputs": [
    {
     "data": {
      "text/plain": [
       "cellular     2896\n",
       "unknown      1324\n",
       "telephone     301\n",
       "Name: contact, dtype: int64"
      ]
     },
     "execution_count": 9,
     "metadata": {},
     "output_type": "execute_result"
    }
   ],
   "source": [
    "df.contact.value_counts()"
   ]
  },
  {
   "cell_type": "code",
   "execution_count": 10,
   "id": "2fc254ce",
   "metadata": {},
   "outputs": [
    {
     "data": {
      "text/plain": [
       "unknown    3705\n",
       "failure     490\n",
       "other       197\n",
       "success     129\n",
       "Name: poutcome, dtype: int64"
      ]
     },
     "execution_count": 10,
     "metadata": {},
     "output_type": "execute_result"
    }
   ],
   "source": [
    "df.poutcome.value_counts()"
   ]
  },
  {
   "cell_type": "code",
   "execution_count": 11,
   "id": "5177fb2b",
   "metadata": {},
   "outputs": [
    {
     "data": {
      "text/plain": [
       "may    1398\n",
       "jul     706\n",
       "aug     633\n",
       "jun     531\n",
       "nov     389\n",
       "apr     293\n",
       "feb     222\n",
       "jan     148\n",
       "oct      80\n",
       "sep      52\n",
       "mar      49\n",
       "dec      20\n",
       "Name: month, dtype: int64"
      ]
     },
     "execution_count": 11,
     "metadata": {},
     "output_type": "execute_result"
    }
   ],
   "source": [
    "df.month.value_counts()"
   ]
  },
  {
   "cell_type": "code",
   "execution_count": 12,
   "id": "905d2a69",
   "metadata": {},
   "outputs": [
    {
     "data": {
      "text/plain": [
       "no     4000\n",
       "yes     521\n",
       "Name: y, dtype: int64"
      ]
     },
     "execution_count": 12,
     "metadata": {},
     "output_type": "execute_result"
    }
   ],
   "source": [
    "df.y.value_counts()"
   ]
  },
  {
   "cell_type": "code",
   "execution_count": 13,
   "id": "f78b5861",
   "metadata": {},
   "outputs": [
    {
     "data": {
      "text/plain": [
       "array(['no', 'yes', 'unemployed', 'services', 'management', 'blue-collar',\n",
       "       'self-employed', 'technician', 'entrepreneur', 'admin.', 'student',\n",
       "       'housemaid', 'retired', 'unknown', 'cellular', 'telephone', 'oct',\n",
       "       'may', 'apr', 'jun', 'feb', 'aug', 'jan', 'jul', 'nov', 'sep',\n",
       "       'mar', 'dec', 'failure', 'other', 'success'], dtype=object)"
      ]
     },
     "execution_count": 13,
     "metadata": {},
     "output_type": "execute_result"
    }
   ],
   "source": [
    "pd.unique(df[['default','job','contact','month','poutcome']].values.ravel('K'))"
   ]
  },
  {
   "cell_type": "markdown",
   "id": "9f41a457",
   "metadata": {},
   "source": [
    "### Data cleaning"
   ]
  },
  {
   "cell_type": "code",
   "execution_count": 14,
   "id": "fa8d81db",
   "metadata": {},
   "outputs": [],
   "source": [
    "df.replace('unknown', np.nan, inplace=True)"
   ]
  },
  {
   "cell_type": "code",
   "execution_count": 15,
   "id": "c939e1a8",
   "metadata": {},
   "outputs": [
    {
     "data": {
      "text/plain": [
       "age             0\n",
       "job            38\n",
       "marital         0\n",
       "education     187\n",
       "default         0\n",
       "balance         0\n",
       "housing         0\n",
       "loan            0\n",
       "contact      1324\n",
       "day             0\n",
       "month           0\n",
       "duration        0\n",
       "campaign        0\n",
       "pdays           0\n",
       "previous        0\n",
       "poutcome     3705\n",
       "y               0\n",
       "dtype: int64"
      ]
     },
     "execution_count": 15,
     "metadata": {},
     "output_type": "execute_result"
    }
   ],
   "source": [
    "missing_values = df.isnull().sum()\n",
    "missing_values"
   ]
  },
  {
   "cell_type": "code",
   "execution_count": 16,
   "id": "0c6d7efc",
   "metadata": {},
   "outputs": [
    {
     "data": {
      "text/plain": [
       "<AxesSubplot:>"
      ]
     },
     "execution_count": 16,
     "metadata": {},
     "output_type": "execute_result"
    },
    {
     "data": {
      "image/png": "[encoded data removed]",
      "text/plain": [
       "<Figure size 720x432 with 1 Axes>"
      ]
     },
     "metadata": {
      "needs_background": "light"
     },
     "output_type": "display_data"
    }
   ],
   "source": [
    "df.isnull().sum().nlargest(20).plot(kind='bar', figsize=(10, 6))"
   ]
  },
  {
   "cell_type": "code",
   "execution_count": 17,
   "id": "df72e6b0",
   "metadata": {},
   "outputs": [
    {
     "name": "stdout",
     "output_type": "stream",
     "text": [
      "<class 'pandas.core.frame.DataFrame'>\n",
      "RangeIndex: 4521 entries, 0 to 4520\n",
      "Data columns (total 17 columns):\n",
      " #   Column     Non-Null Count  Dtype \n",
      "---  ------     --------------  ----- \n",
      " 0   age        4521 non-null   int64 \n",
      " 1   job        4483 non-null   object\n",
      " 2   marital    4521 non-null   object\n",
      " 3   education  4334 non-null   object\n",
      " 4   default    4521 non-null   object\n",
      " 5   balance    4521 non-null   int64 \n",
      " 6   housing    4521 non-null   object\n",
      " 7   loan       4521 non-null   object\n",
      " 8   contact    3197 non-null   object\n",
      " 9   day        4521 non-null   int64 \n",
      " 10  month      4521 non-null   object\n",
      " 11  duration   4521 non-null   int64 \n",
      " 12  campaign   4521 non-null   int64 \n",
      " 13  pdays      4521 non-null   int64 \n",
      " 14  previous   4521 non-null   int64 \n",
      " 15  poutcome   816 non-null    object\n",
      " 16  y          4521 non-null   object\n",
      "dtypes: int64(7), object(10)\n",
      "memory usage: 600.6+ KB\n"
     ]
    }
   ],
   "source": [
    "df.info()"
   ]
  },
  {
   "cell_type": "markdown",
   "id": "c3ce6474",
   "metadata": {},
   "source": [
    "### Note about previous code\n",
    "While it may appear insignificant to retain the column 'poutcome' given that we have only gathered data from 816 individuals out of a total of 4521, we have determined that it is still a sufficient sample size to warrant its inclusion in future analyses."
   ]
  },
  {
   "cell_type": "code",
   "execution_count": 18,
   "id": "18c7db0b",
   "metadata": {},
   "outputs": [],
   "source": [
    "#We are dropping pdays column since we might do not consider relevant to get to know the number of days that passed by after the client was last contacted from a previous campaign\n",
    "df2=df.drop('pdays',axis=1)\n",
    "#Last contact duration, in seconds (numeric). Important note: this attribute highly affects the output target (e.g., if duration=0 then y='no'). Yet, the duration is not known before a call is performed. Also, after the end of the call y is obviously known. Thus, this input should only be included for benchmark purposes and should be discarded if the intention is to have a realistic predictive model.\n",
    "df2=df2.drop('duration',axis=1)\n",
    "#We are dropping day column since we might do not consider relevant to get to know the specific day clients were contacted \n",
    "df2=df2.drop('day',axis=1)\n",
    "\n",
    "df2.rename(columns={'default': 'bank_debt',\n",
    "                    'balance': 'avg_balance',\n",
    "                    'housing': 'housing_loan',\n",
    "                    'loan': 'personal_loan',\n",
    "                    'campaign': 'n_contacts_done',\n",
    "                    'poutcome':'results_prev_campains',\n",
    "                    'y':'campaign_results',\n",
    "                    'previous':'pre_n_contacts_done'}, inplace=True)\n",
    "\n",
    "# Convert \"success\" and \"failure\" to binary (1 or 0) in \"results_prev_campains\"\n",
    "# Convert \"yes\" and \"no\" to binary (1 or 0) in \"bank_debt\", \"campaign_results\",\"results_prev_campains\",\"housing_loan\",\"personal_loan\"\n",
    "df2['bank_debt'] = df2['bank_debt'].map({'yes': 1, 'no': 0})\n",
    "df2['results_prev_campains'] = df2['results_prev_campains'].map({'success': 1, 'failure': 0,'other':0})\n",
    "df2['campaign_results'] = df2['campaign_results'].map({'yes': 1, 'no': 0})\n",
    "df2['housing_loan'] = df2['housing_loan'].map({'yes': 1, 'no': 0})\n",
    "df2['personal_loan'] = df2['personal_loan'].map({'yes': 1, 'no': 0})"
   ]
  },
  {
   "cell_type": "markdown",
   "id": "bd56e5e6",
   "metadata": {},
   "source": [
    "### Note about previous code\n",
    "In order to simplify the analysis in the outcome_prev_campains column, we have decided to consider 'other' data values as 'failures', as we could consider 'other' as customers who did not successfully subscribe to a term deposit."
   ]
  },
  {
   "cell_type": "code",
   "execution_count": 19,
   "id": "d3096732",
   "metadata": {},
   "outputs": [
    {
     "name": "stdout",
     "output_type": "stream",
     "text": [
      "<class 'pandas.core.frame.DataFrame'>\n",
      "RangeIndex: 4521 entries, 0 to 4520\n",
      "Data columns (total 14 columns):\n",
      " #   Column                 Non-Null Count  Dtype  \n",
      "---  ------                 --------------  -----  \n",
      " 0   age                    4521 non-null   int64  \n",
      " 1   job                    4483 non-null   object \n",
      " 2   marital                4521 non-null   object \n",
      " 3   education              4334 non-null   object \n",
      " 4   bank_debt              4521 non-null   int64  \n",
      " 5   avg_balance            4521 non-null   int64  \n",
      " 6   housing_loan           4521 non-null   int64  \n",
      " 7   personal_loan          4521 non-null   int64  \n",
      " 8   contact                3197 non-null   object \n",
      " 9   month                  4521 non-null   object \n",
      " 10  n_contacts_done        4521 non-null   int64  \n",
      " 11  pre_n_contacts_done    4521 non-null   int64  \n",
      " 12  results_prev_campains  816 non-null    float64\n",
      " 13  campaign_results       4521 non-null   int64  \n",
      "dtypes: float64(1), int64(8), object(5)\n",
      "memory usage: 494.6+ KB\n"
     ]
    }
   ],
   "source": [
    "df2.info()"
   ]
  },
  {
   "cell_type": "code",
   "execution_count": 20,
   "id": "0791b998",
   "metadata": {},
   "outputs": [
    {
     "data": {
      "text/html": [
       "<div>\n",
       "<style scoped>\n",
       "    .dataframe tbody tr th:only-of-type {\n",
       "        vertical-align: middle;\n",
       "    }\n",
       "\n",
       "    .dataframe tbody tr th {\n",
       "        vertical-align: top;\n",
       "    }\n",
       "\n",
       "    .dataframe thead th {\n",
       "        text-align: right;\n",
       "    }\n",
       "</style>\n",
       "<table border=\"1\" class=\"dataframe\">\n",
       "  <thead>\n",
       "    <tr style=\"text-align: right;\">\n",
       "      <th></th>\n",
       "      <th>age</th>\n",
       "      <th>job</th>\n",
       "      <th>marital</th>\n",
       "      <th>education</th>\n",
       "      <th>bank_debt</th>\n",
       "      <th>avg_balance</th>\n",
       "      <th>housing_loan</th>\n",
       "      <th>personal_loan</th>\n",
       "      <th>contact</th>\n",
       "      <th>month</th>\n",
       "      <th>n_contacts_done</th>\n",
       "      <th>pre_n_contacts_done</th>\n",
       "      <th>results_prev_campains</th>\n",
       "      <th>campaign_results</th>\n",
       "    </tr>\n",
       "  </thead>\n",
       "  <tbody>\n",
       "    <tr>\n",
       "      <th>0</th>\n",
       "      <td>30</td>\n",
       "      <td>unemployed</td>\n",
       "      <td>married</td>\n",
       "      <td>primary</td>\n",
       "      <td>0</td>\n",
       "      <td>1787</td>\n",
       "      <td>0</td>\n",
       "      <td>0</td>\n",
       "      <td>cellular</td>\n",
       "      <td>oct</td>\n",
       "      <td>1</td>\n",
       "      <td>0</td>\n",
       "      <td>NaN</td>\n",
       "      <td>0</td>\n",
       "    </tr>\n",
       "    <tr>\n",
       "      <th>1</th>\n",
       "      <td>33</td>\n",
       "      <td>services</td>\n",
       "      <td>married</td>\n",
       "      <td>secondary</td>\n",
       "      <td>0</td>\n",
       "      <td>4789</td>\n",
       "      <td>1</td>\n",
       "      <td>1</td>\n",
       "      <td>cellular</td>\n",
       "      <td>may</td>\n",
       "      <td>1</td>\n",
       "      <td>4</td>\n",
       "      <td>0.0</td>\n",
       "      <td>0</td>\n",
       "    </tr>\n",
       "    <tr>\n",
       "      <th>2</th>\n",
       "      <td>35</td>\n",
       "      <td>management</td>\n",
       "      <td>single</td>\n",
       "      <td>tertiary</td>\n",
       "      <td>0</td>\n",
       "      <td>1350</td>\n",
       "      <td>1</td>\n",
       "      <td>0</td>\n",
       "      <td>cellular</td>\n",
       "      <td>apr</td>\n",
       "      <td>1</td>\n",
       "      <td>1</td>\n",
       "      <td>0.0</td>\n",
       "      <td>0</td>\n",
       "    </tr>\n",
       "    <tr>\n",
       "      <th>3</th>\n",
       "      <td>30</td>\n",
       "      <td>management</td>\n",
       "      <td>married</td>\n",
       "      <td>tertiary</td>\n",
       "      <td>0</td>\n",
       "      <td>1476</td>\n",
       "      <td>1</td>\n",
       "      <td>1</td>\n",
       "      <td>NaN</td>\n",
       "      <td>jun</td>\n",
       "      <td>4</td>\n",
       "      <td>0</td>\n",
       "      <td>NaN</td>\n",
       "      <td>0</td>\n",
       "    </tr>\n",
       "    <tr>\n",
       "      <th>4</th>\n",
       "      <td>59</td>\n",
       "      <td>blue-collar</td>\n",
       "      <td>married</td>\n",
       "      <td>secondary</td>\n",
       "      <td>0</td>\n",
       "      <td>0</td>\n",
       "      <td>1</td>\n",
       "      <td>0</td>\n",
       "      <td>NaN</td>\n",
       "      <td>may</td>\n",
       "      <td>1</td>\n",
       "      <td>0</td>\n",
       "      <td>NaN</td>\n",
       "      <td>0</td>\n",
       "    </tr>\n",
       "    <tr>\n",
       "      <th>5</th>\n",
       "      <td>35</td>\n",
       "      <td>management</td>\n",
       "      <td>single</td>\n",
       "      <td>tertiary</td>\n",
       "      <td>0</td>\n",
       "      <td>747</td>\n",
       "      <td>0</td>\n",
       "      <td>0</td>\n",
       "      <td>cellular</td>\n",
       "      <td>feb</td>\n",
       "      <td>2</td>\n",
       "      <td>3</td>\n",
       "      <td>0.0</td>\n",
       "      <td>0</td>\n",
       "    </tr>\n",
       "    <tr>\n",
       "      <th>6</th>\n",
       "      <td>36</td>\n",
       "      <td>self-employed</td>\n",
       "      <td>married</td>\n",
       "      <td>tertiary</td>\n",
       "      <td>0</td>\n",
       "      <td>307</td>\n",
       "      <td>1</td>\n",
       "      <td>0</td>\n",
       "      <td>cellular</td>\n",
       "      <td>may</td>\n",
       "      <td>1</td>\n",
       "      <td>2</td>\n",
       "      <td>0.0</td>\n",
       "      <td>0</td>\n",
       "    </tr>\n",
       "    <tr>\n",
       "      <th>7</th>\n",
       "      <td>39</td>\n",
       "      <td>technician</td>\n",
       "      <td>married</td>\n",
       "      <td>secondary</td>\n",
       "      <td>0</td>\n",
       "      <td>147</td>\n",
       "      <td>1</td>\n",
       "      <td>0</td>\n",
       "      <td>cellular</td>\n",
       "      <td>may</td>\n",
       "      <td>2</td>\n",
       "      <td>0</td>\n",
       "      <td>NaN</td>\n",
       "      <td>0</td>\n",
       "    </tr>\n",
       "    <tr>\n",
       "      <th>8</th>\n",
       "      <td>41</td>\n",
       "      <td>entrepreneur</td>\n",
       "      <td>married</td>\n",
       "      <td>tertiary</td>\n",
       "      <td>0</td>\n",
       "      <td>221</td>\n",
       "      <td>1</td>\n",
       "      <td>0</td>\n",
       "      <td>NaN</td>\n",
       "      <td>may</td>\n",
       "      <td>2</td>\n",
       "      <td>0</td>\n",
       "      <td>NaN</td>\n",
       "      <td>0</td>\n",
       "    </tr>\n",
       "    <tr>\n",
       "      <th>9</th>\n",
       "      <td>43</td>\n",
       "      <td>services</td>\n",
       "      <td>married</td>\n",
       "      <td>primary</td>\n",
       "      <td>0</td>\n",
       "      <td>-88</td>\n",
       "      <td>1</td>\n",
       "      <td>1</td>\n",
       "      <td>cellular</td>\n",
       "      <td>apr</td>\n",
       "      <td>1</td>\n",
       "      <td>2</td>\n",
       "      <td>0.0</td>\n",
       "      <td>0</td>\n",
       "    </tr>\n",
       "  </tbody>\n",
       "</table>\n",
       "</div>"
      ],
      "text/plain": [
       "   age            job  marital  education  bank_debt  avg_balance  \\\n",
       "0   30     unemployed  married    primary          0         1787   \n",
       "1   33       services  married  secondary          0         4789   \n",
       "2   35     management   single   tertiary          0         1350   \n",
       "3   30     management  married   tertiary          0         1476   \n",
       "4   59    blue-collar  married  secondary          0            0   \n",
       "5   35     management   single   tertiary          0          747   \n",
       "6   36  self-employed  married   tertiary          0          307   \n",
       "7   39     technician  married  secondary          0          147   \n",
       "8   41   entrepreneur  married   tertiary          0          221   \n",
       "9   43       services  married    primary          0          -88   \n",
       "\n",
       "   housing_loan  personal_loan   contact month  n_contacts_done  \\\n",
       "0             0              0  cellular   oct                1   \n",
       "1             1              1  cellular   may                1   \n",
       "2             1              0  cellular   apr                1   \n",
       "3             1              1       NaN   jun                4   \n",
       "4             1              0       NaN   may                1   \n",
       "5             0              0  cellular   feb                2   \n",
       "6             1              0  cellular   may                1   \n",
       "7             1              0  cellular   may                2   \n",
       "8             1              0       NaN   may                2   \n",
       "9             1              1  cellular   apr                1   \n",
       "\n",
       "   pre_n_contacts_done  results_prev_campains  campaign_results  \n",
       "0                    0                    NaN                 0  \n",
       "1                    4                    0.0                 0  \n",
       "2                    1                    0.0                 0  \n",
       "3                    0                    NaN                 0  \n",
       "4                    0                    NaN                 0  \n",
       "5                    3                    0.0                 0  \n",
       "6                    2                    0.0                 0  \n",
       "7                    0                    NaN                 0  \n",
       "8                    0                    NaN                 0  \n",
       "9                    2                    0.0                 0  "
      ]
     },
     "execution_count": 20,
     "metadata": {},
     "output_type": "execute_result"
    }
   ],
   "source": [
    "df2.head(10)"
   ]
  },
  {
   "cell_type": "markdown",
   "id": "119493af",
   "metadata": {},
   "source": [
    "2. Data Analysis"
   ]
  },
  {
   "cell_type": "code",
   "execution_count": 21,
   "id": "a6d9aaa0",
   "metadata": {},
   "outputs": [
    {
     "data": {
      "text/html": [
       "<div>\n",
       "<style scoped>\n",
       "    .dataframe tbody tr th:only-of-type {\n",
       "        vertical-align: middle;\n",
       "    }\n",
       "\n",
       "    .dataframe tbody tr th {\n",
       "        vertical-align: top;\n",
       "    }\n",
       "\n",
       "    .dataframe thead th {\n",
       "        text-align: right;\n",
       "    }\n",
       "</style>\n",
       "<table border=\"1\" class=\"dataframe\">\n",
       "  <thead>\n",
       "    <tr style=\"text-align: right;\">\n",
       "      <th></th>\n",
       "      <th>month</th>\n",
       "      <th>Frequency</th>\n",
       "      <th>relative_frequencies</th>\n",
       "    </tr>\n",
       "  </thead>\n",
       "  <tbody>\n",
       "    <tr>\n",
       "      <th>0</th>\n",
       "      <td>may</td>\n",
       "      <td>1398</td>\n",
       "      <td>0.309224</td>\n",
       "    </tr>\n",
       "    <tr>\n",
       "      <th>1</th>\n",
       "      <td>jul</td>\n",
       "      <td>706</td>\n",
       "      <td>0.156160</td>\n",
       "    </tr>\n",
       "    <tr>\n",
       "      <th>2</th>\n",
       "      <td>aug</td>\n",
       "      <td>633</td>\n",
       "      <td>0.140013</td>\n",
       "    </tr>\n",
       "    <tr>\n",
       "      <th>3</th>\n",
       "      <td>jun</td>\n",
       "      <td>531</td>\n",
       "      <td>0.117452</td>\n",
       "    </tr>\n",
       "    <tr>\n",
       "      <th>4</th>\n",
       "      <td>nov</td>\n",
       "      <td>389</td>\n",
       "      <td>0.086043</td>\n",
       "    </tr>\n",
       "    <tr>\n",
       "      <th>5</th>\n",
       "      <td>apr</td>\n",
       "      <td>293</td>\n",
       "      <td>0.064809</td>\n",
       "    </tr>\n",
       "    <tr>\n",
       "      <th>6</th>\n",
       "      <td>feb</td>\n",
       "      <td>222</td>\n",
       "      <td>0.049104</td>\n",
       "    </tr>\n",
       "    <tr>\n",
       "      <th>7</th>\n",
       "      <td>jan</td>\n",
       "      <td>148</td>\n",
       "      <td>0.032736</td>\n",
       "    </tr>\n",
       "    <tr>\n",
       "      <th>8</th>\n",
       "      <td>oct</td>\n",
       "      <td>80</td>\n",
       "      <td>0.017695</td>\n",
       "    </tr>\n",
       "    <tr>\n",
       "      <th>9</th>\n",
       "      <td>sep</td>\n",
       "      <td>52</td>\n",
       "      <td>0.011502</td>\n",
       "    </tr>\n",
       "    <tr>\n",
       "      <th>10</th>\n",
       "      <td>mar</td>\n",
       "      <td>49</td>\n",
       "      <td>0.010838</td>\n",
       "    </tr>\n",
       "    <tr>\n",
       "      <th>11</th>\n",
       "      <td>dec</td>\n",
       "      <td>20</td>\n",
       "      <td>0.004424</td>\n",
       "    </tr>\n",
       "  </tbody>\n",
       "</table>\n",
       "</div>"
      ],
      "text/plain": [
       "   month  Frequency  relative_frequencies\n",
       "0    may       1398              0.309224\n",
       "1    jul        706              0.156160\n",
       "2    aug        633              0.140013\n",
       "3    jun        531              0.117452\n",
       "4    nov        389              0.086043\n",
       "5    apr        293              0.064809\n",
       "6    feb        222              0.049104\n",
       "7    jan        148              0.032736\n",
       "8    oct         80              0.017695\n",
       "9    sep         52              0.011502\n",
       "10   mar         49              0.010838\n",
       "11   dec         20              0.004424"
      ]
     },
     "execution_count": 21,
     "metadata": {},
     "output_type": "execute_result"
    }
   ],
   "source": [
    "value_counts=df2['month'].value_counts()\n",
    "relative_frequencies=value_counts/len(df2)\n",
    "subtable=pd.DataFrame({'month':value_counts.index,\n",
    "                      'Frequency':value_counts.values,\n",
    "                      'relative_frequencies':relative_frequencies.values})\n",
    "subtable"
   ]
  },
  {
   "cell_type": "code",
   "execution_count": 24,
   "id": "5ba072c2",
   "metadata": {},
   "outputs": [
    {
     "data": {
      "text/html": [
       "<div>\n",
       "<style scoped>\n",
       "    .dataframe tbody tr th:only-of-type {\n",
       "        vertical-align: middle;\n",
       "    }\n",
       "\n",
       "    .dataframe tbody tr th {\n",
       "        vertical-align: top;\n",
       "    }\n",
       "\n",
       "    .dataframe thead th {\n",
       "        text-align: right;\n",
       "    }\n",
       "</style>\n",
       "<table border=\"1\" class=\"dataframe\">\n",
       "  <thead>\n",
       "    <tr style=\"text-align: right;\">\n",
       "      <th></th>\n",
       "      <th>housing_loan</th>\n",
       "      <th>Frequency</th>\n",
       "      <th>relative_frequencies</th>\n",
       "    </tr>\n",
       "  </thead>\n",
       "  <tbody>\n",
       "    <tr>\n",
       "      <th>0</th>\n",
       "      <td>1</td>\n",
       "      <td>2559</td>\n",
       "      <td>0.566025</td>\n",
       "    </tr>\n",
       "    <tr>\n",
       "      <th>1</th>\n",
       "      <td>0</td>\n",
       "      <td>1962</td>\n",
       "      <td>0.433975</td>\n",
       "    </tr>\n",
       "  </tbody>\n",
       "</table>\n",
       "</div>"
      ],
      "text/plain": [
       "   housing_loan  Frequency  relative_frequencies\n",
       "0             1       2559              0.566025\n",
       "1             0       1962              0.433975"
      ]
     },
     "execution_count": 24,
     "metadata": {},
     "output_type": "execute_result"
    }
   ],
   "source": [
    "value_counts=df2['housing_loan'].value_counts()\n",
    "relative_frequencies=value_counts/len(df2)\n",
    "subtable=pd.DataFrame({'housing_loan':value_counts.index,\n",
    "                      'Frequency':value_counts.values,\n",
    "                      'relative_frequencies':relative_frequencies.values})\n",
    "subtable"
   ]
  },
  {
   "cell_type": "code",
   "execution_count": 25,
   "id": "8275f894",
   "metadata": {},
   "outputs": [
    {
     "data": {
      "text/html": [
       "<div>\n",
       "<style scoped>\n",
       "    .dataframe tbody tr th:only-of-type {\n",
       "        vertical-align: middle;\n",
       "    }\n",
       "\n",
       "    .dataframe tbody tr th {\n",
       "        vertical-align: top;\n",
       "    }\n",
       "\n",
       "    .dataframe thead th {\n",
       "        text-align: right;\n",
       "    }\n",
       "</style>\n",
       "<table border=\"1\" class=\"dataframe\">\n",
       "  <thead>\n",
       "    <tr style=\"text-align: right;\">\n",
       "      <th></th>\n",
       "      <th>personal_loan</th>\n",
       "      <th>Frequency</th>\n",
       "      <th>relative_frequencies</th>\n",
       "    </tr>\n",
       "  </thead>\n",
       "  <tbody>\n",
       "    <tr>\n",
       "      <th>0</th>\n",
       "      <td>0</td>\n",
       "      <td>3830</td>\n",
       "      <td>0.847158</td>\n",
       "    </tr>\n",
       "    <tr>\n",
       "      <th>1</th>\n",
       "      <td>1</td>\n",
       "      <td>691</td>\n",
       "      <td>0.152842</td>\n",
       "    </tr>\n",
       "  </tbody>\n",
       "</table>\n",
       "</div>"
      ],
      "text/plain": [
       "   personal_loan  Frequency  relative_frequencies\n",
       "0              0       3830              0.847158\n",
       "1              1        691              0.152842"
      ]
     },
     "execution_count": 25,
     "metadata": {},
     "output_type": "execute_result"
    }
   ],
   "source": [
    "value_counts=df2['personal_loan'].value_counts()\n",
    "relative_frequencies=value_counts/len(df2)\n",
    "subtable=pd.DataFrame({'personal_loan':value_counts.index,\n",
    "                      'Frequency':value_counts.values,\n",
    "                      'relative_frequencies':relative_frequencies.values})\n",
    "subtable"
   ]
  },
  {
   "cell_type": "code",
   "execution_count": 26,
   "id": "57f366ef",
   "metadata": {},
   "outputs": [
    {
     "data": {
      "text/html": [
       "<div>\n",
       "<style scoped>\n",
       "    .dataframe tbody tr th:only-of-type {\n",
       "        vertical-align: middle;\n",
       "    }\n",
       "\n",
       "    .dataframe tbody tr th {\n",
       "        vertical-align: top;\n",
       "    }\n",
       "\n",
       "    .dataframe thead th {\n",
       "        text-align: right;\n",
       "    }\n",
       "</style>\n",
       "<table border=\"1\" class=\"dataframe\">\n",
       "  <thead>\n",
       "    <tr style=\"text-align: right;\">\n",
       "      <th></th>\n",
       "      <th>contact</th>\n",
       "      <th>Frequency</th>\n",
       "      <th>relative_frequencies</th>\n",
       "    </tr>\n",
       "  </thead>\n",
       "  <tbody>\n",
       "    <tr>\n",
       "      <th>0</th>\n",
       "      <td>cellular</td>\n",
       "      <td>2896</td>\n",
       "      <td>0.640566</td>\n",
       "    </tr>\n",
       "    <tr>\n",
       "      <th>1</th>\n",
       "      <td>telephone</td>\n",
       "      <td>301</td>\n",
       "      <td>0.066578</td>\n",
       "    </tr>\n",
       "  </tbody>\n",
       "</table>\n",
       "</div>"
      ],
      "text/plain": [
       "     contact  Frequency  relative_frequencies\n",
       "0   cellular       2896              0.640566\n",
       "1  telephone        301              0.066578"
      ]
     },
     "execution_count": 26,
     "metadata": {},
     "output_type": "execute_result"
    }
   ],
   "source": [
    "value_counts=df2['contact'].value_counts()\n",
    "relative_frequencies=value_counts/len(df2)\n",
    "subtable=pd.DataFrame({'contact':value_counts.index,\n",
    "                      'Frequency':value_counts.values,\n",
    "                      'relative_frequencies':relative_frequencies.values})\n",
    "subtable"
   ]
  },
  {
   "cell_type": "code",
   "execution_count": 27,
   "id": "4f62206f",
   "metadata": {},
   "outputs": [
    {
     "data": {
      "text/html": [
       "<div>\n",
       "<style scoped>\n",
       "    .dataframe tbody tr th:only-of-type {\n",
       "        vertical-align: middle;\n",
       "    }\n",
       "\n",
       "    .dataframe tbody tr th {\n",
       "        vertical-align: top;\n",
       "    }\n",
       "\n",
       "    .dataframe thead th {\n",
       "        text-align: right;\n",
       "    }\n",
       "</style>\n",
       "<table border=\"1\" class=\"dataframe\">\n",
       "  <thead>\n",
       "    <tr style=\"text-align: right;\">\n",
       "      <th></th>\n",
       "      <th>results_prev_campains</th>\n",
       "      <th>Frequency</th>\n",
       "      <th>relative_frequencies</th>\n",
       "    </tr>\n",
       "  </thead>\n",
       "  <tbody>\n",
       "    <tr>\n",
       "      <th>0</th>\n",
       "      <td>0.0</td>\n",
       "      <td>687</td>\n",
       "      <td>0.151958</td>\n",
       "    </tr>\n",
       "    <tr>\n",
       "      <th>1</th>\n",
       "      <td>1.0</td>\n",
       "      <td>129</td>\n",
       "      <td>0.028534</td>\n",
       "    </tr>\n",
       "  </tbody>\n",
       "</table>\n",
       "</div>"
      ],
      "text/plain": [
       "   results_prev_campains  Frequency  relative_frequencies\n",
       "0                    0.0        687              0.151958\n",
       "1                    1.0        129              0.028534"
      ]
     },
     "execution_count": 27,
     "metadata": {},
     "output_type": "execute_result"
    }
   ],
   "source": [
    "value_counts=df2['results_prev_campains'].value_counts()\n",
    "relative_frequencies=value_counts/len(df2)\n",
    "subtable=pd.DataFrame({'results_prev_campains':value_counts.index,\n",
    "                      'Frequency':value_counts.values,\n",
    "                      'relative_frequencies':relative_frequencies.values})\n",
    "subtable"
   ]
  },
  {
   "cell_type": "code",
   "execution_count": 28,
   "id": "adc1493e",
   "metadata": {},
   "outputs": [
    {
     "name": "stdout",
     "output_type": "stream",
     "text": [
      "1422.66\n"
     ]
    }
   ],
   "source": [
    "mean_balance=df2['avg_balance'].mean()\n",
    "print(f\"{mean_balance:.2f}\")"
   ]
  },
  {
   "cell_type": "code",
   "execution_count": 29,
   "id": "ad011c70",
   "metadata": {},
   "outputs": [
    {
     "name": "stdout",
     "output_type": "stream",
     "text": [
      "444.00\n"
     ]
    }
   ],
   "source": [
    "median_balance=df2['avg_balance'].median()\n",
    "print(f\"{median_balance:.2f}\")"
   ]
  },
  {
   "cell_type": "code",
   "execution_count": 30,
   "id": "ef23fba6",
   "metadata": {},
   "outputs": [
    {
     "name": "stdout",
     "output_type": "stream",
     "text": [
      "41.17\n"
     ]
    }
   ],
   "source": [
    "mean_age=df2['age'].mean()\n",
    "print(f\"{mean_age:.2f}\")"
   ]
  },
  {
   "cell_type": "code",
   "execution_count": 31,
   "id": "791d9dee",
   "metadata": {},
   "outputs": [
    {
     "name": "stdout",
     "output_type": "stream",
     "text": [
      "39.00\n"
     ]
    }
   ],
   "source": [
    "median_age=df2['age'].median()\n",
    "print(f\"{median_age:.2f}\")"
   ]
  },
  {
   "cell_type": "markdown",
   "id": "3388a438",
   "metadata": {},
   "source": [
    "> 2.1 Campaign Success"
   ]
  },
  {
   "cell_type": "code",
   "execution_count": 32,
   "id": "41df1402",
   "metadata": {},
   "outputs": [
    {
     "data": {
      "text/html": [
       "<div>\n",
       "<style scoped>\n",
       "    .dataframe tbody tr th:only-of-type {\n",
       "        vertical-align: middle;\n",
       "    }\n",
       "\n",
       "    .dataframe tbody tr th {\n",
       "        vertical-align: top;\n",
       "    }\n",
       "\n",
       "    .dataframe thead th {\n",
       "        text-align: right;\n",
       "    }\n",
       "</style>\n",
       "<table border=\"1\" class=\"dataframe\">\n",
       "  <thead>\n",
       "    <tr style=\"text-align: right;\">\n",
       "      <th></th>\n",
       "      <th>age</th>\n",
       "      <th>job</th>\n",
       "      <th>marital</th>\n",
       "      <th>education</th>\n",
       "      <th>bank_debt</th>\n",
       "      <th>avg_balance</th>\n",
       "      <th>housing_loan</th>\n",
       "      <th>personal_loan</th>\n",
       "      <th>contact</th>\n",
       "      <th>month</th>\n",
       "      <th>n_contacts_done</th>\n",
       "      <th>pre_n_contacts_done</th>\n",
       "      <th>results_prev_campains</th>\n",
       "    </tr>\n",
       "    <tr>\n",
       "      <th>campaign_results</th>\n",
       "      <th></th>\n",
       "      <th></th>\n",
       "      <th></th>\n",
       "      <th></th>\n",
       "      <th></th>\n",
       "      <th></th>\n",
       "      <th></th>\n",
       "      <th></th>\n",
       "      <th></th>\n",
       "      <th></th>\n",
       "      <th></th>\n",
       "      <th></th>\n",
       "      <th></th>\n",
       "    </tr>\n",
       "  </thead>\n",
       "  <tbody>\n",
       "    <tr>\n",
       "      <th>0</th>\n",
       "      <td>4000</td>\n",
       "      <td>3969</td>\n",
       "      <td>4000</td>\n",
       "      <td>3832</td>\n",
       "      <td>4000</td>\n",
       "      <td>4000</td>\n",
       "      <td>4000</td>\n",
       "      <td>4000</td>\n",
       "      <td>2737</td>\n",
       "      <td>4000</td>\n",
       "      <td>4000</td>\n",
       "      <td>4000</td>\n",
       "      <td>632</td>\n",
       "    </tr>\n",
       "    <tr>\n",
       "      <th>1</th>\n",
       "      <td>521</td>\n",
       "      <td>514</td>\n",
       "      <td>521</td>\n",
       "      <td>502</td>\n",
       "      <td>521</td>\n",
       "      <td>521</td>\n",
       "      <td>521</td>\n",
       "      <td>521</td>\n",
       "      <td>460</td>\n",
       "      <td>521</td>\n",
       "      <td>521</td>\n",
       "      <td>521</td>\n",
       "      <td>184</td>\n",
       "    </tr>\n",
       "  </tbody>\n",
       "</table>\n",
       "</div>"
      ],
      "text/plain": [
       "                   age   job  marital  education  bank_debt  avg_balance  \\\n",
       "campaign_results                                                           \n",
       "0                 4000  3969     4000       3832       4000         4000   \n",
       "1                  521   514      521        502        521          521   \n",
       "\n",
       "                  housing_loan  personal_loan  contact  month  \\\n",
       "campaign_results                                                \n",
       "0                         4000           4000     2737   4000   \n",
       "1                          521            521      460    521   \n",
       "\n",
       "                  n_contacts_done  pre_n_contacts_done  results_prev_campains  \n",
       "campaign_results                                                               \n",
       "0                            4000                 4000                    632  \n",
       "1                             521                  521                    184  "
      ]
     },
     "execution_count": 32,
     "metadata": {},
     "output_type": "execute_result"
    }
   ],
   "source": [
    "campaing_results=df2.groupby('campaign_results',axis=0).count()\n",
    "campaing_results"
   ]
  },
  {
   "cell_type": "markdown",
   "id": "2380f40e",
   "metadata": {},
   "source": [
    "### Campaign Success"
   ]
  },
  {
   "cell_type": "code",
   "execution_count": 33,
   "id": "0bea918d",
   "metadata": {},
   "outputs": [
    {
     "data": {
      "image/png": "[encoded data removed]",
      "text/plain": [
       "<Figure size 432x432 with 1 Axes>"
      ]
     },
     "metadata": {},
     "output_type": "display_data"
    }
   ],
   "source": [
    "# Assuming you have the counts for 'campaign_results'\n",
    "campaign_results_counts = df2['campaign_results'].value_counts()\n",
    "\n",
    "# Define the labels for the pie chart\n",
    "labels = ['Unsuccessful', 'Successful']\n",
    "\n",
    "# Create a pie chart\n",
    "plt.figure(figsize=(6, 6))\n",
    "plt.pie(campaign_results_counts, labels=labels, autopct='%1.1f%%', shadow=True)\n",
    "plt.title('Campaign Success')\n",
    "plt.tight_layout()\n",
    "\n",
    "plt.show()"
   ]
  },
  {
   "cell_type": "code",
   "execution_count": 34,
   "id": "78223f15",
   "metadata": {},
   "outputs": [
    {
     "data": {
      "text/html": [
       "<div>\n",
       "<style scoped>\n",
       "    .dataframe tbody tr th:only-of-type {\n",
       "        vertical-align: middle;\n",
       "    }\n",
       "\n",
       "    .dataframe tbody tr th {\n",
       "        vertical-align: top;\n",
       "    }\n",
       "\n",
       "    .dataframe thead th {\n",
       "        text-align: right;\n",
       "    }\n",
       "</style>\n",
       "<table border=\"1\" class=\"dataframe\">\n",
       "  <thead>\n",
       "    <tr style=\"text-align: right;\">\n",
       "      <th></th>\n",
       "      <th>campaign_results</th>\n",
       "      <th>Frequency</th>\n",
       "      <th>relative_frequencies</th>\n",
       "    </tr>\n",
       "  </thead>\n",
       "  <tbody>\n",
       "    <tr>\n",
       "      <th>0</th>\n",
       "      <td>0</td>\n",
       "      <td>4000</td>\n",
       "      <td>0.88476</td>\n",
       "    </tr>\n",
       "    <tr>\n",
       "      <th>1</th>\n",
       "      <td>1</td>\n",
       "      <td>521</td>\n",
       "      <td>0.11524</td>\n",
       "    </tr>\n",
       "  </tbody>\n",
       "</table>\n",
       "</div>"
      ],
      "text/plain": [
       "   campaign_results  Frequency  relative_frequencies\n",
       "0                 0       4000               0.88476\n",
       "1                 1        521               0.11524"
      ]
     },
     "execution_count": 34,
     "metadata": {},
     "output_type": "execute_result"
    }
   ],
   "source": [
    "value_counts=df2['campaign_results'].value_counts()\n",
    "relative_frequencies=value_counts/len(df2)\n",
    "subtable=pd.DataFrame({'campaign_results':value_counts.index,\n",
    "                      'Frequency':value_counts.values,\n",
    "                      'relative_frequencies':relative_frequencies.values})\n",
    "subtable"
   ]
  },
  {
   "cell_type": "markdown",
   "id": "93aca8b3",
   "metadata": {},
   "source": [
    "> 2.2 Campaign Results by Group of Ages"
   ]
  },
  {
   "cell_type": "markdown",
   "id": "425dceb8",
   "metadata": {},
   "source": [
    "In order to study how sucessful was the campaing by group of ages, we have decided to creat a new column grouping the column 'age' by group of age where young is population from 19 to 34, adult from 35 to 59 and elderly from 60 to 87."
   ]
  },
  {
   "cell_type": "code",
   "execution_count": 35,
   "id": "4cc41d14",
   "metadata": {},
   "outputs": [
    {
     "name": "stdout",
     "output_type": "stream",
     "text": [
      "Maximum Age: 87\n"
     ]
    }
   ],
   "source": [
    "max_age = df2['age'].max()\n",
    "print(\"Maximum Age:\", max_age)"
   ]
  },
  {
   "cell_type": "code",
   "execution_count": 36,
   "id": "42742a66",
   "metadata": {},
   "outputs": [
    {
     "name": "stdout",
     "output_type": "stream",
     "text": [
      "Minimum Age: 19\n"
     ]
    }
   ],
   "source": [
    "min_age = df2['age'].min()\n",
    "print(\"Minimum Age:\", min_age)"
   ]
  },
  {
   "cell_type": "code",
   "execution_count": 37,
   "id": "2cada4a3",
   "metadata": {},
   "outputs": [],
   "source": [
    "age_distribution = [19, 35, 60, float('inf')]\n",
    "age_labels = ['Young', 'Adult', 'Elderly']\n",
    "df2['age_group'] = pd.cut(df2['age'], bins=age_distribution, labels=age_labels, right=False)\n",
    "\n",
    "#In order to be able to work with the data we have decided to convert it in numerical data\n",
    "#df2['age_group'] = df2['age_group'].map({'Young': 0, 'Adult': 1,'Elderly':2})"
   ]
  },
  {
   "cell_type": "code",
   "execution_count": 38,
   "id": "fa23fefd",
   "metadata": {
    "scrolled": true
   },
   "outputs": [
    {
     "data": {
      "text/html": [
       "<div>\n",
       "<style scoped>\n",
       "    .dataframe tbody tr th:only-of-type {\n",
       "        vertical-align: middle;\n",
       "    }\n",
       "\n",
       "    .dataframe tbody tr th {\n",
       "        vertical-align: top;\n",
       "    }\n",
       "\n",
       "    .dataframe thead th {\n",
       "        text-align: right;\n",
       "    }\n",
       "</style>\n",
       "<table border=\"1\" class=\"dataframe\">\n",
       "  <thead>\n",
       "    <tr style=\"text-align: right;\">\n",
       "      <th></th>\n",
       "      <th>age</th>\n",
       "      <th>job</th>\n",
       "      <th>marital</th>\n",
       "      <th>education</th>\n",
       "      <th>bank_debt</th>\n",
       "      <th>avg_balance</th>\n",
       "      <th>housing_loan</th>\n",
       "      <th>personal_loan</th>\n",
       "      <th>contact</th>\n",
       "      <th>month</th>\n",
       "      <th>n_contacts_done</th>\n",
       "      <th>pre_n_contacts_done</th>\n",
       "      <th>results_prev_campains</th>\n",
       "      <th>campaign_results</th>\n",
       "      <th>age_group</th>\n",
       "    </tr>\n",
       "  </thead>\n",
       "  <tbody>\n",
       "    <tr>\n",
       "      <th>0</th>\n",
       "      <td>30</td>\n",
       "      <td>unemployed</td>\n",
       "      <td>married</td>\n",
       "      <td>primary</td>\n",
       "      <td>0</td>\n",
       "      <td>1787</td>\n",
       "      <td>0</td>\n",
       "      <td>0</td>\n",
       "      <td>cellular</td>\n",
       "      <td>oct</td>\n",
       "      <td>1</td>\n",
       "      <td>0</td>\n",
       "      <td>NaN</td>\n",
       "      <td>0</td>\n",
       "      <td>Young</td>\n",
       "    </tr>\n",
       "    <tr>\n",
       "      <th>1</th>\n",
       "      <td>33</td>\n",
       "      <td>services</td>\n",
       "      <td>married</td>\n",
       "      <td>secondary</td>\n",
       "      <td>0</td>\n",
       "      <td>4789</td>\n",
       "      <td>1</td>\n",
       "      <td>1</td>\n",
       "      <td>cellular</td>\n",
       "      <td>may</td>\n",
       "      <td>1</td>\n",
       "      <td>4</td>\n",
       "      <td>0.0</td>\n",
       "      <td>0</td>\n",
       "      <td>Young</td>\n",
       "    </tr>\n",
       "    <tr>\n",
       "      <th>2</th>\n",
       "      <td>35</td>\n",
       "      <td>management</td>\n",
       "      <td>single</td>\n",
       "      <td>tertiary</td>\n",
       "      <td>0</td>\n",
       "      <td>1350</td>\n",
       "      <td>1</td>\n",
       "      <td>0</td>\n",
       "      <td>cellular</td>\n",
       "      <td>apr</td>\n",
       "      <td>1</td>\n",
       "      <td>1</td>\n",
       "      <td>0.0</td>\n",
       "      <td>0</td>\n",
       "      <td>Adult</td>\n",
       "    </tr>\n",
       "    <tr>\n",
       "      <th>3</th>\n",
       "      <td>30</td>\n",
       "      <td>management</td>\n",
       "      <td>married</td>\n",
       "      <td>tertiary</td>\n",
       "      <td>0</td>\n",
       "      <td>1476</td>\n",
       "      <td>1</td>\n",
       "      <td>1</td>\n",
       "      <td>NaN</td>\n",
       "      <td>jun</td>\n",
       "      <td>4</td>\n",
       "      <td>0</td>\n",
       "      <td>NaN</td>\n",
       "      <td>0</td>\n",
       "      <td>Young</td>\n",
       "    </tr>\n",
       "    <tr>\n",
       "      <th>4</th>\n",
       "      <td>59</td>\n",
       "      <td>blue-collar</td>\n",
       "      <td>married</td>\n",
       "      <td>secondary</td>\n",
       "      <td>0</td>\n",
       "      <td>0</td>\n",
       "      <td>1</td>\n",
       "      <td>0</td>\n",
       "      <td>NaN</td>\n",
       "      <td>may</td>\n",
       "      <td>1</td>\n",
       "      <td>0</td>\n",
       "      <td>NaN</td>\n",
       "      <td>0</td>\n",
       "      <td>Adult</td>\n",
       "    </tr>\n",
       "  </tbody>\n",
       "</table>\n",
       "</div>"
      ],
      "text/plain": [
       "   age          job  marital  education  bank_debt  avg_balance  housing_loan  \\\n",
       "0   30   unemployed  married    primary          0         1787             0   \n",
       "1   33     services  married  secondary          0         4789             1   \n",
       "2   35   management   single   tertiary          0         1350             1   \n",
       "3   30   management  married   tertiary          0         1476             1   \n",
       "4   59  blue-collar  married  secondary          0            0             1   \n",
       "\n",
       "   personal_loan   contact month  n_contacts_done  pre_n_contacts_done  \\\n",
       "0              0  cellular   oct                1                    0   \n",
       "1              1  cellular   may                1                    4   \n",
       "2              0  cellular   apr                1                    1   \n",
       "3              1       NaN   jun                4                    0   \n",
       "4              0       NaN   may                1                    0   \n",
       "\n",
       "   results_prev_campains  campaign_results age_group  \n",
       "0                    NaN                 0     Young  \n",
       "1                    0.0                 0     Young  \n",
       "2                    0.0                 0     Adult  \n",
       "3                    NaN                 0     Young  \n",
       "4                    NaN                 0     Adult  "
      ]
     },
     "execution_count": 38,
     "metadata": {},
     "output_type": "execute_result"
    }
   ],
   "source": [
    "df2.head()"
   ]
  },
  {
   "cell_type": "code",
   "execution_count": 39,
   "id": "eff91f05",
   "metadata": {},
   "outputs": [
    {
     "data": {
      "text/html": [
       "<div>\n",
       "<style scoped>\n",
       "    .dataframe tbody tr th:only-of-type {\n",
       "        vertical-align: middle;\n",
       "    }\n",
       "\n",
       "    .dataframe tbody tr th {\n",
       "        vertical-align: top;\n",
       "    }\n",
       "\n",
       "    .dataframe thead th {\n",
       "        text-align: right;\n",
       "    }\n",
       "</style>\n",
       "<table border=\"1\" class=\"dataframe\">\n",
       "  <thead>\n",
       "    <tr style=\"text-align: right;\">\n",
       "      <th></th>\n",
       "      <th>age</th>\n",
       "      <th>job</th>\n",
       "      <th>marital</th>\n",
       "      <th>education</th>\n",
       "      <th>bank_debt</th>\n",
       "      <th>avg_balance</th>\n",
       "      <th>housing_loan</th>\n",
       "      <th>personal_loan</th>\n",
       "      <th>contact</th>\n",
       "      <th>month</th>\n",
       "      <th>n_contacts_done</th>\n",
       "      <th>pre_n_contacts_done</th>\n",
       "      <th>results_prev_campains</th>\n",
       "      <th>campaign_results</th>\n",
       "    </tr>\n",
       "    <tr>\n",
       "      <th>age_group</th>\n",
       "      <th></th>\n",
       "      <th></th>\n",
       "      <th></th>\n",
       "      <th></th>\n",
       "      <th></th>\n",
       "      <th></th>\n",
       "      <th></th>\n",
       "      <th></th>\n",
       "      <th></th>\n",
       "      <th></th>\n",
       "      <th></th>\n",
       "      <th></th>\n",
       "      <th></th>\n",
       "      <th></th>\n",
       "    </tr>\n",
       "  </thead>\n",
       "  <tbody>\n",
       "    <tr>\n",
       "      <th>Young</th>\n",
       "      <td>1472</td>\n",
       "      <td>1468</td>\n",
       "      <td>1472</td>\n",
       "      <td>1437</td>\n",
       "      <td>1472</td>\n",
       "      <td>1472</td>\n",
       "      <td>1472</td>\n",
       "      <td>1472</td>\n",
       "      <td>1081</td>\n",
       "      <td>1472</td>\n",
       "      <td>1472</td>\n",
       "      <td>1472</td>\n",
       "      <td>257</td>\n",
       "      <td>1472</td>\n",
       "    </tr>\n",
       "    <tr>\n",
       "      <th>Adult</th>\n",
       "      <td>2875</td>\n",
       "      <td>2846</td>\n",
       "      <td>2875</td>\n",
       "      <td>2739</td>\n",
       "      <td>2875</td>\n",
       "      <td>2875</td>\n",
       "      <td>2875</td>\n",
       "      <td>2875</td>\n",
       "      <td>1954</td>\n",
       "      <td>2875</td>\n",
       "      <td>2875</td>\n",
       "      <td>2875</td>\n",
       "      <td>508</td>\n",
       "      <td>2875</td>\n",
       "    </tr>\n",
       "    <tr>\n",
       "      <th>Elderly</th>\n",
       "      <td>174</td>\n",
       "      <td>169</td>\n",
       "      <td>174</td>\n",
       "      <td>158</td>\n",
       "      <td>174</td>\n",
       "      <td>174</td>\n",
       "      <td>174</td>\n",
       "      <td>174</td>\n",
       "      <td>162</td>\n",
       "      <td>174</td>\n",
       "      <td>174</td>\n",
       "      <td>174</td>\n",
       "      <td>51</td>\n",
       "      <td>174</td>\n",
       "    </tr>\n",
       "  </tbody>\n",
       "</table>\n",
       "</div>"
      ],
      "text/plain": [
       "            age   job  marital  education  bank_debt  avg_balance  \\\n",
       "age_group                                                           \n",
       "Young      1472  1468     1472       1437       1472         1472   \n",
       "Adult      2875  2846     2875       2739       2875         2875   \n",
       "Elderly     174   169      174        158        174          174   \n",
       "\n",
       "           housing_loan  personal_loan  contact  month  n_contacts_done  \\\n",
       "age_group                                                                 \n",
       "Young              1472           1472     1081   1472             1472   \n",
       "Adult              2875           2875     1954   2875             2875   \n",
       "Elderly             174            174      162    174              174   \n",
       "\n",
       "           pre_n_contacts_done  results_prev_campains  campaign_results  \n",
       "age_group                                                                \n",
       "Young                     1472                    257              1472  \n",
       "Adult                     2875                    508              2875  \n",
       "Elderly                    174                     51               174  "
      ]
     },
     "execution_count": 39,
     "metadata": {},
     "output_type": "execute_result"
    }
   ],
   "source": [
    "ages_reached=df2.groupby('age_group',axis=0).count()\n",
    "ages_reached"
   ]
  },
  {
   "cell_type": "markdown",
   "id": "a00d7486",
   "metadata": {},
   "source": [
    "### Group of ages reached"
   ]
  },
  {
   "cell_type": "code",
   "execution_count": 40,
   "id": "82c2988b",
   "metadata": {},
   "outputs": [
    {
     "data": {
      "image/png": "[encoded data removed]",
      "text/plain": [
       "<Figure size 432x288 with 1 Axes>"
      ]
     },
     "metadata": {},
     "output_type": "display_data"
    }
   ],
   "source": [
    "age_group=['Young','Adult','Elderly']\n",
    "ages_reached['campaign_results'].plot(kind='pie', labels=age_group,radius=1,autopct='%1.1f%%', shadow = True)\n",
    "plt.title('Group of ages reached')\n",
    "plt.ylabel(\"\")\n",
    "plt.tight_layout()"
   ]
  },
  {
   "cell_type": "markdown",
   "id": "9138b991",
   "metadata": {},
   "source": [
    "### Campaign Results by Age Group"
   ]
  },
  {
   "cell_type": "code",
   "execution_count": 41,
   "id": "126d07c0",
   "metadata": {},
   "outputs": [
    {
     "data": {
      "image/png": "[encoded data removed]",
      "text/plain": [
       "<Figure size 720x432 with 1 Axes>"
      ]
     },
     "metadata": {},
     "output_type": "display_data"
    }
   ],
   "source": [
    "young_data = df2[df2['age_group'] == 'Young']\n",
    "adult_data = df2[df2['age_group'] == 'Adult']\n",
    "elderly_data = df2[df2['age_group'] == 'Elderly']\n",
    "\n",
    "sns.set(style='whitegrid')\n",
    "plt.figure(figsize=(10, 6))\n",
    "\n",
    "sns.countplot(data=df2, x='age_group', hue='campaign_results')\n",
    "\n",
    "plt.xlabel('Age Group')\n",
    "plt.ylabel('Count')\n",
    "plt.title('Campaign Results by Age Group\\n (0 = Unsuccesfully suscribed to a term deposit | 1 = Succesfully suscribed to a term deposit)')\n",
    "\n",
    "plt.show()"
   ]
  },
  {
   "cell_type": "code",
   "execution_count": 42,
   "id": "a3bf5e55",
   "metadata": {},
   "outputs": [
    {
     "data": {
      "text/html": [
       "<div>\n",
       "<style scoped>\n",
       "    .dataframe tbody tr th:only-of-type {\n",
       "        vertical-align: middle;\n",
       "    }\n",
       "\n",
       "    .dataframe tbody tr th {\n",
       "        vertical-align: top;\n",
       "    }\n",
       "\n",
       "    .dataframe thead th {\n",
       "        text-align: right;\n",
       "    }\n",
       "</style>\n",
       "<table border=\"1\" class=\"dataframe\">\n",
       "  <thead>\n",
       "    <tr style=\"text-align: right;\">\n",
       "      <th></th>\n",
       "      <th>age</th>\n",
       "      <th>Frequency</th>\n",
       "      <th>relative_frequencies</th>\n",
       "    </tr>\n",
       "  </thead>\n",
       "  <tbody>\n",
       "    <tr>\n",
       "      <th>0</th>\n",
       "      <td>34</td>\n",
       "      <td>231</td>\n",
       "      <td>0.051095</td>\n",
       "    </tr>\n",
       "    <tr>\n",
       "      <th>1</th>\n",
       "      <td>32</td>\n",
       "      <td>224</td>\n",
       "      <td>0.049547</td>\n",
       "    </tr>\n",
       "    <tr>\n",
       "      <th>2</th>\n",
       "      <td>31</td>\n",
       "      <td>199</td>\n",
       "      <td>0.044017</td>\n",
       "    </tr>\n",
       "    <tr>\n",
       "      <th>3</th>\n",
       "      <td>36</td>\n",
       "      <td>188</td>\n",
       "      <td>0.041584</td>\n",
       "    </tr>\n",
       "    <tr>\n",
       "      <th>4</th>\n",
       "      <td>33</td>\n",
       "      <td>186</td>\n",
       "      <td>0.041141</td>\n",
       "    </tr>\n",
       "    <tr>\n",
       "      <th>...</th>\n",
       "      <td>...</td>\n",
       "      <td>...</td>\n",
       "      <td>...</td>\n",
       "    </tr>\n",
       "    <tr>\n",
       "      <th>62</th>\n",
       "      <td>68</td>\n",
       "      <td>2</td>\n",
       "      <td>0.000442</td>\n",
       "    </tr>\n",
       "    <tr>\n",
       "      <th>63</th>\n",
       "      <td>87</td>\n",
       "      <td>1</td>\n",
       "      <td>0.000221</td>\n",
       "    </tr>\n",
       "    <tr>\n",
       "      <th>64</th>\n",
       "      <td>81</td>\n",
       "      <td>1</td>\n",
       "      <td>0.000221</td>\n",
       "    </tr>\n",
       "    <tr>\n",
       "      <th>65</th>\n",
       "      <td>86</td>\n",
       "      <td>1</td>\n",
       "      <td>0.000221</td>\n",
       "    </tr>\n",
       "    <tr>\n",
       "      <th>66</th>\n",
       "      <td>84</td>\n",
       "      <td>1</td>\n",
       "      <td>0.000221</td>\n",
       "    </tr>\n",
       "  </tbody>\n",
       "</table>\n",
       "<p>67 rows × 3 columns</p>\n",
       "</div>"
      ],
      "text/plain": [
       "    age  Frequency  relative_frequencies\n",
       "0    34        231              0.051095\n",
       "1    32        224              0.049547\n",
       "2    31        199              0.044017\n",
       "3    36        188              0.041584\n",
       "4    33        186              0.041141\n",
       "..  ...        ...                   ...\n",
       "62   68          2              0.000442\n",
       "63   87          1              0.000221\n",
       "64   81          1              0.000221\n",
       "65   86          1              0.000221\n",
       "66   84          1              0.000221\n",
       "\n",
       "[67 rows x 3 columns]"
      ]
     },
     "execution_count": 42,
     "metadata": {},
     "output_type": "execute_result"
    }
   ],
   "source": [
    "value_counts=df2['age'].value_counts()\n",
    "relative_frequencies=value_counts/len(df2)\n",
    "subtable=pd.DataFrame({'age':value_counts.index,\n",
    "                      'Frequency':value_counts.values,\n",
    "                      'relative_frequencies':relative_frequencies.values})\n",
    "subtable"
   ]
  },
  {
   "cell_type": "markdown",
   "id": "d13f1e1a",
   "metadata": {},
   "source": [
    "### Campaign Results for Adult Group of Age"
   ]
  },
  {
   "cell_type": "code",
   "execution_count": 43,
   "id": "a6d9833d",
   "metadata": {},
   "outputs": [
    {
     "data": {
      "image/png": "[encoded data removed]",
      "text/plain": [
       "<Figure size 432x288 with 1 Axes>"
      ]
     },
     "metadata": {},
     "output_type": "display_data"
    }
   ],
   "source": [
    "adult_data = df2[df2['age_group'] == 'Adult']\n",
    "\n",
    "sns.countplot(data=adult_data, x='campaign_results')\n",
    "\n",
    "plt.xlabel('Campaign Results')\n",
    "plt.ylabel('Count')\n",
    "plt.title('Campaign Results for Adult Group of Age  \\n (0 = Unsuccesfully suscribed to a term deposit | 1 = Succesfully suscribed to a term deposit)')\n",
    "plt.show()"
   ]
  },
  {
   "cell_type": "code",
   "execution_count": 44,
   "id": "b458f42d",
   "metadata": {},
   "outputs": [
    {
     "name": "stdout",
     "output_type": "stream",
     "text": [
      "0    2587\n",
      "1     288\n",
      "Name: campaign_results, dtype: int64\n"
     ]
    }
   ],
   "source": [
    "adult_data = df2[df2['age_group'] == 'Adult']\n",
    "adult_data_counts = adult_data['campaign_results'].value_counts()\n",
    "\n",
    "print(adult_data_counts)"
   ]
  },
  {
   "cell_type": "markdown",
   "id": "dc0e44d2",
   "metadata": {},
   "source": [
    "### Campaign Results for Young Group of Age"
   ]
  },
  {
   "cell_type": "code",
   "execution_count": 45,
   "id": "114cf55f",
   "metadata": {},
   "outputs": [
    {
     "data": {
      "image/png": "[encoded data removed]",
      "text/plain": [
       "<Figure size 432x288 with 1 Axes>"
      ]
     },
     "metadata": {},
     "output_type": "display_data"
    }
   ],
   "source": [
    "young_data = df2[df2['age_group'] == 'Young']\n",
    "\n",
    "sns.countplot(data=young_data, x='campaign_results')\n",
    "\n",
    "plt.xlabel('Campaign Results')\n",
    "plt.ylabel('Count')\n",
    "plt.title('Campaign Results for Young Group of Age \\n (0 = Unsuccesfully suscribed to a term deposit | 1 = Succesfully suscribed to a term deposit)')\n",
    "plt.show()"
   ]
  },
  {
   "cell_type": "code",
   "execution_count": 46,
   "id": "4b5e0ae1",
   "metadata": {},
   "outputs": [
    {
     "name": "stdout",
     "output_type": "stream",
     "text": [
      "0    1294\n",
      "1     178\n",
      "Name: campaign_results, dtype: int64\n"
     ]
    }
   ],
   "source": [
    "young_data = df2[df2['age_group'] == 'Young']\n",
    "young_data_counts = young_data['campaign_results'].value_counts()\n",
    "\n",
    "print(young_data_counts)"
   ]
  },
  {
   "cell_type": "markdown",
   "id": "a908bf7d",
   "metadata": {},
   "source": [
    "> 2.2.1 Analysis of Relative Frequencies"
   ]
  },
  {
   "cell_type": "code",
   "execution_count": 47,
   "id": "a7e09261",
   "metadata": {},
   "outputs": [
    {
     "data": {
      "text/html": [
       "<div>\n",
       "<style scoped>\n",
       "    .dataframe tbody tr th:only-of-type {\n",
       "        vertical-align: middle;\n",
       "    }\n",
       "\n",
       "    .dataframe tbody tr th {\n",
       "        vertical-align: top;\n",
       "    }\n",
       "\n",
       "    .dataframe thead th {\n",
       "        text-align: right;\n",
       "    }\n",
       "</style>\n",
       "<table border=\"1\" class=\"dataframe\">\n",
       "  <thead>\n",
       "    <tr style=\"text-align: right;\">\n",
       "      <th></th>\n",
       "      <th>age</th>\n",
       "      <th>Frequency</th>\n",
       "      <th>relative_frequencies</th>\n",
       "    </tr>\n",
       "  </thead>\n",
       "  <tbody>\n",
       "    <tr>\n",
       "      <th>0</th>\n",
       "      <td>34</td>\n",
       "      <td>231</td>\n",
       "      <td>0.051095</td>\n",
       "    </tr>\n",
       "    <tr>\n",
       "      <th>1</th>\n",
       "      <td>32</td>\n",
       "      <td>224</td>\n",
       "      <td>0.049547</td>\n",
       "    </tr>\n",
       "    <tr>\n",
       "      <th>2</th>\n",
       "      <td>31</td>\n",
       "      <td>199</td>\n",
       "      <td>0.044017</td>\n",
       "    </tr>\n",
       "    <tr>\n",
       "      <th>3</th>\n",
       "      <td>36</td>\n",
       "      <td>188</td>\n",
       "      <td>0.041584</td>\n",
       "    </tr>\n",
       "    <tr>\n",
       "      <th>4</th>\n",
       "      <td>33</td>\n",
       "      <td>186</td>\n",
       "      <td>0.041141</td>\n",
       "    </tr>\n",
       "    <tr>\n",
       "      <th>...</th>\n",
       "      <td>...</td>\n",
       "      <td>...</td>\n",
       "      <td>...</td>\n",
       "    </tr>\n",
       "    <tr>\n",
       "      <th>62</th>\n",
       "      <td>68</td>\n",
       "      <td>2</td>\n",
       "      <td>0.000442</td>\n",
       "    </tr>\n",
       "    <tr>\n",
       "      <th>63</th>\n",
       "      <td>87</td>\n",
       "      <td>1</td>\n",
       "      <td>0.000221</td>\n",
       "    </tr>\n",
       "    <tr>\n",
       "      <th>64</th>\n",
       "      <td>81</td>\n",
       "      <td>1</td>\n",
       "      <td>0.000221</td>\n",
       "    </tr>\n",
       "    <tr>\n",
       "      <th>65</th>\n",
       "      <td>86</td>\n",
       "      <td>1</td>\n",
       "      <td>0.000221</td>\n",
       "    </tr>\n",
       "    <tr>\n",
       "      <th>66</th>\n",
       "      <td>84</td>\n",
       "      <td>1</td>\n",
       "      <td>0.000221</td>\n",
       "    </tr>\n",
       "  </tbody>\n",
       "</table>\n",
       "<p>67 rows × 3 columns</p>\n",
       "</div>"
      ],
      "text/plain": [
       "    age  Frequency  relative_frequencies\n",
       "0    34        231              0.051095\n",
       "1    32        224              0.049547\n",
       "2    31        199              0.044017\n",
       "3    36        188              0.041584\n",
       "4    33        186              0.041141\n",
       "..  ...        ...                   ...\n",
       "62   68          2              0.000442\n",
       "63   87          1              0.000221\n",
       "64   81          1              0.000221\n",
       "65   86          1              0.000221\n",
       "66   84          1              0.000221\n",
       "\n",
       "[67 rows x 3 columns]"
      ]
     },
     "execution_count": 47,
     "metadata": {},
     "output_type": "execute_result"
    }
   ],
   "source": [
    "value_counts=df2['age'].value_counts()\n",
    "relative_frequencies=value_counts/len(df2)\n",
    "subtable=pd.DataFrame({'age':value_counts.index,\n",
    "                      'Frequency':value_counts.values,\n",
    "                      'relative_frequencies':relative_frequencies.values})\n",
    "subtable"
   ]
  },
  {
   "cell_type": "code",
   "execution_count": 48,
   "id": "a8031d9b",
   "metadata": {},
   "outputs": [
    {
     "data": {
      "text/html": [
       "<div>\n",
       "<style scoped>\n",
       "    .dataframe tbody tr th:only-of-type {\n",
       "        vertical-align: middle;\n",
       "    }\n",
       "\n",
       "    .dataframe tbody tr th {\n",
       "        vertical-align: top;\n",
       "    }\n",
       "\n",
       "    .dataframe thead th {\n",
       "        text-align: right;\n",
       "    }\n",
       "</style>\n",
       "<table border=\"1\" class=\"dataframe\">\n",
       "  <thead>\n",
       "    <tr style=\"text-align: right;\">\n",
       "      <th></th>\n",
       "      <th>age</th>\n",
       "      <th>Frequency</th>\n",
       "      <th>relative_frequencies</th>\n",
       "    </tr>\n",
       "  </thead>\n",
       "  <tbody>\n",
       "    <tr>\n",
       "      <th>0</th>\n",
       "      <td>Adult</td>\n",
       "      <td>2875</td>\n",
       "      <td>0.635921</td>\n",
       "    </tr>\n",
       "    <tr>\n",
       "      <th>1</th>\n",
       "      <td>Young</td>\n",
       "      <td>1472</td>\n",
       "      <td>0.325592</td>\n",
       "    </tr>\n",
       "    <tr>\n",
       "      <th>2</th>\n",
       "      <td>Elderly</td>\n",
       "      <td>174</td>\n",
       "      <td>0.038487</td>\n",
       "    </tr>\n",
       "  </tbody>\n",
       "</table>\n",
       "</div>"
      ],
      "text/plain": [
       "       age  Frequency  relative_frequencies\n",
       "0    Adult       2875              0.635921\n",
       "1    Young       1472              0.325592\n",
       "2  Elderly        174              0.038487"
      ]
     },
     "execution_count": 48,
     "metadata": {},
     "output_type": "execute_result"
    }
   ],
   "source": [
    "value_counts=df2['age_group'].value_counts()\n",
    "relative_frequencies=value_counts/len(df2)\n",
    "subtable=pd.DataFrame({'age':value_counts.index,\n",
    "                      'Frequency':value_counts.values,\n",
    "                      'relative_frequencies':relative_frequencies.values})\n",
    "subtable"
   ]
  },
  {
   "cell_type": "markdown",
   "id": "ca492e64",
   "metadata": {},
   "source": [
    "> 2.3 Campaign Results by Marital Status"
   ]
  },
  {
   "cell_type": "code",
   "execution_count": 49,
   "id": "6de506a2",
   "metadata": {},
   "outputs": [
    {
     "data": {
      "text/html": [
       "<div>\n",
       "<style scoped>\n",
       "    .dataframe tbody tr th:only-of-type {\n",
       "        vertical-align: middle;\n",
       "    }\n",
       "\n",
       "    .dataframe tbody tr th {\n",
       "        vertical-align: top;\n",
       "    }\n",
       "\n",
       "    .dataframe thead th {\n",
       "        text-align: right;\n",
       "    }\n",
       "</style>\n",
       "<table border=\"1\" class=\"dataframe\">\n",
       "  <thead>\n",
       "    <tr style=\"text-align: right;\">\n",
       "      <th></th>\n",
       "      <th>age</th>\n",
       "      <th>job</th>\n",
       "      <th>education</th>\n",
       "      <th>bank_debt</th>\n",
       "      <th>avg_balance</th>\n",
       "      <th>housing_loan</th>\n",
       "      <th>personal_loan</th>\n",
       "      <th>contact</th>\n",
       "      <th>month</th>\n",
       "      <th>n_contacts_done</th>\n",
       "      <th>pre_n_contacts_done</th>\n",
       "      <th>results_prev_campains</th>\n",
       "      <th>campaign_results</th>\n",
       "      <th>age_group</th>\n",
       "    </tr>\n",
       "    <tr>\n",
       "      <th>marital</th>\n",
       "      <th></th>\n",
       "      <th></th>\n",
       "      <th></th>\n",
       "      <th></th>\n",
       "      <th></th>\n",
       "      <th></th>\n",
       "      <th></th>\n",
       "      <th></th>\n",
       "      <th></th>\n",
       "      <th></th>\n",
       "      <th></th>\n",
       "      <th></th>\n",
       "      <th></th>\n",
       "      <th></th>\n",
       "    </tr>\n",
       "  </thead>\n",
       "  <tbody>\n",
       "    <tr>\n",
       "      <th>divorced</th>\n",
       "      <td>528</td>\n",
       "      <td>527</td>\n",
       "      <td>504</td>\n",
       "      <td>528</td>\n",
       "      <td>528</td>\n",
       "      <td>528</td>\n",
       "      <td>528</td>\n",
       "      <td>355</td>\n",
       "      <td>528</td>\n",
       "      <td>528</td>\n",
       "      <td>528</td>\n",
       "      <td>85</td>\n",
       "      <td>528</td>\n",
       "      <td>528</td>\n",
       "    </tr>\n",
       "    <tr>\n",
       "      <th>married</th>\n",
       "      <td>2797</td>\n",
       "      <td>2767</td>\n",
       "      <td>2680</td>\n",
       "      <td>2797</td>\n",
       "      <td>2797</td>\n",
       "      <td>2797</td>\n",
       "      <td>2797</td>\n",
       "      <td>1940</td>\n",
       "      <td>2797</td>\n",
       "      <td>2797</td>\n",
       "      <td>2797</td>\n",
       "      <td>492</td>\n",
       "      <td>2797</td>\n",
       "      <td>2797</td>\n",
       "    </tr>\n",
       "    <tr>\n",
       "      <th>single</th>\n",
       "      <td>1196</td>\n",
       "      <td>1189</td>\n",
       "      <td>1150</td>\n",
       "      <td>1196</td>\n",
       "      <td>1196</td>\n",
       "      <td>1196</td>\n",
       "      <td>1196</td>\n",
       "      <td>902</td>\n",
       "      <td>1196</td>\n",
       "      <td>1196</td>\n",
       "      <td>1196</td>\n",
       "      <td>239</td>\n",
       "      <td>1196</td>\n",
       "      <td>1196</td>\n",
       "    </tr>\n",
       "  </tbody>\n",
       "</table>\n",
       "</div>"
      ],
      "text/plain": [
       "           age   job  education  bank_debt  avg_balance  housing_loan  \\\n",
       "marital                                                                 \n",
       "divorced   528   527        504        528          528           528   \n",
       "married   2797  2767       2680       2797         2797          2797   \n",
       "single    1196  1189       1150       1196         1196          1196   \n",
       "\n",
       "          personal_loan  contact  month  n_contacts_done  pre_n_contacts_done  \\\n",
       "marital                                                                         \n",
       "divorced            528      355    528              528                  528   \n",
       "married            2797     1940   2797             2797                 2797   \n",
       "single             1196      902   1196             1196                 1196   \n",
       "\n",
       "          results_prev_campains  campaign_results  age_group  \n",
       "marital                                                       \n",
       "divorced                     85               528        528  \n",
       "married                     492              2797       2797  \n",
       "single                      239              1196       1196  "
      ]
     },
     "execution_count": 49,
     "metadata": {},
     "output_type": "execute_result"
    }
   ],
   "source": [
    "campaign_performance=df2.groupby('marital',axis=0).count()\n",
    "campaign_performance"
   ]
  },
  {
   "cell_type": "markdown",
   "id": "0a5e4b84",
   "metadata": {},
   "source": [
    "### Marital status reached"
   ]
  },
  {
   "cell_type": "code",
   "execution_count": 50,
   "id": "66e8d967",
   "metadata": {},
   "outputs": [
    {
     "data": {
      "image/png": "[encoded data removed]",
      "text/plain": [
       "<Figure size 432x288 with 1 Axes>"
      ]
     },
     "metadata": {},
     "output_type": "display_data"
    }
   ],
   "source": [
    "marital_status=['married','single','divorced']\n",
    "campaign_performance['campaign_results'].plot(kind='pie', labels=marital_status,radius=1,autopct='%1.1f%%', shadow = True)\n",
    "plt.title('Marital status reached')\n",
    "plt.ylabel(\"\")\n",
    "plt.tight_layout()"
   ]
  },
  {
   "cell_type": "markdown",
   "id": "ffabc120",
   "metadata": {},
   "source": [
    "### Campaign Results by Marital Status"
   ]
  },
  {
   "cell_type": "code",
   "execution_count": 51,
   "id": "c98d7f1e",
   "metadata": {},
   "outputs": [
    {
     "data": {
      "image/png": "[encoded data removed]",
      "text/plain": [
       "<Figure size 720x432 with 1 Axes>"
      ]
     },
     "metadata": {},
     "output_type": "display_data"
    }
   ],
   "source": [
    "sns.set(style='whitegrid')\n",
    "plt.figure(figsize=(10, 6))\n",
    "\n",
    "sns.countplot(data=df2, x='marital', hue='campaign_results')\n",
    "\n",
    "plt.xlabel('Campaign Results')\n",
    "plt.ylabel('Count')\n",
    "plt.title('Campaign Results by Marital Status \\n (0 = Unsuccesfully suscribed to a term deposit | 1 = Succesfully suscribed to a term deposit)')\n",
    "\n",
    "plt.show()"
   ]
  },
  {
   "cell_type": "markdown",
   "id": "5f4c6673",
   "metadata": {},
   "source": [
    "### Campaign Results for Single Marital Status Group"
   ]
  },
  {
   "cell_type": "code",
   "execution_count": 52,
   "id": "c2c3fc87",
   "metadata": {},
   "outputs": [
    {
     "data": {
      "image/png": "[encoded data removed]",
      "text/plain": [
       "<Figure size 432x288 with 1 Axes>"
      ]
     },
     "metadata": {},
     "output_type": "display_data"
    }
   ],
   "source": [
    "single_data = df2[df2['marital'] == 'single']\n",
    "\n",
    "sns.countplot(data=single_data, x='campaign_results')\n",
    "\n",
    "plt.xlabel('Campaign Results')\n",
    "plt.ylabel('Count')\n",
    "plt.title('Campaign Results for Single Marital Status Group  \\n (0 = Unsuccesfully suscribed to a term deposit | 1 = Succesfully suscribed to a term deposit)')\n",
    "plt.show()"
   ]
  },
  {
   "cell_type": "code",
   "execution_count": 53,
   "id": "1ddb2e31",
   "metadata": {},
   "outputs": [
    {
     "name": "stdout",
     "output_type": "stream",
     "text": [
      "0    1029\n",
      "1     167\n",
      "Name: campaign_results, dtype: int64\n"
     ]
    }
   ],
   "source": [
    "single_data = df2[df2['marital'] == 'single']\n",
    "single_data_counts = single_data['campaign_results'].value_counts()\n",
    "\n",
    "print(single_data_counts)"
   ]
  },
  {
   "cell_type": "markdown",
   "id": "5d001fef",
   "metadata": {},
   "source": [
    "### Campaign Results for Married Group"
   ]
  },
  {
   "cell_type": "code",
   "execution_count": 54,
   "id": "e190744e",
   "metadata": {},
   "outputs": [
    {
     "data": {
      "image/png": "[encoded data removed]",
      "text/plain": [
       "<Figure size 432x288 with 1 Axes>"
      ]
     },
     "metadata": {},
     "output_type": "display_data"
    }
   ],
   "source": [
    "single_data = df2[df2['marital'] == 'married']\n",
    "\n",
    "sns.countplot(data=single_data, x='campaign_results')\n",
    "\n",
    "plt.xlabel('Campaign Results')\n",
    "plt.ylabel('Count')\n",
    "plt.title('Campaign Results for Married Marital Status Group  \\n (0 = Unsuccesfully suscribed to a term deposit | 1 = Succesfully suscribed to a term deposit)')\n",
    "plt.show()"
   ]
  },
  {
   "cell_type": "code",
   "execution_count": 55,
   "id": "db4cffb5",
   "metadata": {},
   "outputs": [
    {
     "name": "stdout",
     "output_type": "stream",
     "text": [
      "0    2520\n",
      "1     277\n",
      "Name: campaign_results, dtype: int64\n"
     ]
    }
   ],
   "source": [
    "married_data = df2[df2['marital'] == 'married']\n",
    "\n",
    "married_data_counts = married_data['campaign_results'].value_counts()\n",
    "\n",
    "print(married_data_counts)"
   ]
  },
  {
   "cell_type": "markdown",
   "id": "6594fae1",
   "metadata": {},
   "source": [
    "> 2.3.1 Analysis of Relative Frequencies"
   ]
  },
  {
   "cell_type": "code",
   "execution_count": 56,
   "id": "59ec0373",
   "metadata": {},
   "outputs": [
    {
     "data": {
      "text/html": [
       "<div>\n",
       "<style scoped>\n",
       "    .dataframe tbody tr th:only-of-type {\n",
       "        vertical-align: middle;\n",
       "    }\n",
       "\n",
       "    .dataframe tbody tr th {\n",
       "        vertical-align: top;\n",
       "    }\n",
       "\n",
       "    .dataframe thead th {\n",
       "        text-align: right;\n",
       "    }\n",
       "</style>\n",
       "<table border=\"1\" class=\"dataframe\">\n",
       "  <thead>\n",
       "    <tr style=\"text-align: right;\">\n",
       "      <th></th>\n",
       "      <th>marital</th>\n",
       "      <th>Frequency</th>\n",
       "      <th>relative_frequencies</th>\n",
       "    </tr>\n",
       "  </thead>\n",
       "  <tbody>\n",
       "    <tr>\n",
       "      <th>0</th>\n",
       "      <td>married</td>\n",
       "      <td>2797</td>\n",
       "      <td>0.618668</td>\n",
       "    </tr>\n",
       "    <tr>\n",
       "      <th>1</th>\n",
       "      <td>single</td>\n",
       "      <td>1196</td>\n",
       "      <td>0.264543</td>\n",
       "    </tr>\n",
       "    <tr>\n",
       "      <th>2</th>\n",
       "      <td>divorced</td>\n",
       "      <td>528</td>\n",
       "      <td>0.116788</td>\n",
       "    </tr>\n",
       "  </tbody>\n",
       "</table>\n",
       "</div>"
      ],
      "text/plain": [
       "    marital  Frequency  relative_frequencies\n",
       "0   married       2797              0.618668\n",
       "1    single       1196              0.264543\n",
       "2  divorced        528              0.116788"
      ]
     },
     "execution_count": 56,
     "metadata": {},
     "output_type": "execute_result"
    }
   ],
   "source": [
    "value_counts=df2['marital'].value_counts()\n",
    "relative_frequencies=value_counts/len(df2)\n",
    "subtable=pd.DataFrame({'marital':value_counts.index,\n",
    "                      'Frequency':value_counts.values,\n",
    "                      'relative_frequencies':relative_frequencies.values})\n",
    "subtable"
   ]
  },
  {
   "cell_type": "markdown",
   "id": "5ead9532",
   "metadata": {},
   "source": [
    "> 2.4 Campaign Results by Bank Debt Status"
   ]
  },
  {
   "cell_type": "code",
   "execution_count": 57,
   "id": "1cf6d41f",
   "metadata": {},
   "outputs": [
    {
     "data": {
      "text/html": [
       "<div>\n",
       "<style scoped>\n",
       "    .dataframe tbody tr th:only-of-type {\n",
       "        vertical-align: middle;\n",
       "    }\n",
       "\n",
       "    .dataframe tbody tr th {\n",
       "        vertical-align: top;\n",
       "    }\n",
       "\n",
       "    .dataframe thead th {\n",
       "        text-align: right;\n",
       "    }\n",
       "</style>\n",
       "<table border=\"1\" class=\"dataframe\">\n",
       "  <thead>\n",
       "    <tr style=\"text-align: right;\">\n",
       "      <th></th>\n",
       "      <th>age</th>\n",
       "      <th>job</th>\n",
       "      <th>marital</th>\n",
       "      <th>education</th>\n",
       "      <th>avg_balance</th>\n",
       "      <th>housing_loan</th>\n",
       "      <th>personal_loan</th>\n",
       "      <th>contact</th>\n",
       "      <th>month</th>\n",
       "      <th>n_contacts_done</th>\n",
       "      <th>pre_n_contacts_done</th>\n",
       "      <th>results_prev_campains</th>\n",
       "      <th>campaign_results</th>\n",
       "      <th>age_group</th>\n",
       "    </tr>\n",
       "    <tr>\n",
       "      <th>bank_debt</th>\n",
       "      <th></th>\n",
       "      <th></th>\n",
       "      <th></th>\n",
       "      <th></th>\n",
       "      <th></th>\n",
       "      <th></th>\n",
       "      <th></th>\n",
       "      <th></th>\n",
       "      <th></th>\n",
       "      <th></th>\n",
       "      <th></th>\n",
       "      <th></th>\n",
       "      <th></th>\n",
       "      <th></th>\n",
       "    </tr>\n",
       "  </thead>\n",
       "  <tbody>\n",
       "    <tr>\n",
       "      <th>0</th>\n",
       "      <td>4445</td>\n",
       "      <td>4407</td>\n",
       "      <td>4445</td>\n",
       "      <td>4261</td>\n",
       "      <td>4445</td>\n",
       "      <td>4445</td>\n",
       "      <td>4445</td>\n",
       "      <td>3147</td>\n",
       "      <td>4445</td>\n",
       "      <td>4445</td>\n",
       "      <td>4445</td>\n",
       "      <td>811</td>\n",
       "      <td>4445</td>\n",
       "      <td>4445</td>\n",
       "    </tr>\n",
       "    <tr>\n",
       "      <th>1</th>\n",
       "      <td>76</td>\n",
       "      <td>76</td>\n",
       "      <td>76</td>\n",
       "      <td>73</td>\n",
       "      <td>76</td>\n",
       "      <td>76</td>\n",
       "      <td>76</td>\n",
       "      <td>50</td>\n",
       "      <td>76</td>\n",
       "      <td>76</td>\n",
       "      <td>76</td>\n",
       "      <td>5</td>\n",
       "      <td>76</td>\n",
       "      <td>76</td>\n",
       "    </tr>\n",
       "  </tbody>\n",
       "</table>\n",
       "</div>"
      ],
      "text/plain": [
       "            age   job  marital  education  avg_balance  housing_loan  \\\n",
       "bank_debt                                                              \n",
       "0          4445  4407     4445       4261         4445          4445   \n",
       "1            76    76       76         73           76            76   \n",
       "\n",
       "           personal_loan  contact  month  n_contacts_done  \\\n",
       "bank_debt                                                   \n",
       "0                   4445     3147   4445             4445   \n",
       "1                     76       50     76               76   \n",
       "\n",
       "           pre_n_contacts_done  results_prev_campains  campaign_results  \\\n",
       "bank_debt                                                                 \n",
       "0                         4445                    811              4445   \n",
       "1                           76                      5                76   \n",
       "\n",
       "           age_group  \n",
       "bank_debt             \n",
       "0               4445  \n",
       "1                 76  "
      ]
     },
     "execution_count": 57,
     "metadata": {},
     "output_type": "execute_result"
    }
   ],
   "source": [
    "campaign_performance=df2.groupby('bank_debt',axis=0).count()\n",
    "campaign_performance"
   ]
  },
  {
   "cell_type": "markdown",
   "id": "48c0a490",
   "metadata": {},
   "source": [
    "### Bank Debt Overview"
   ]
  },
  {
   "cell_type": "code",
   "execution_count": 58,
   "id": "d9e8b37c",
   "metadata": {},
   "outputs": [
    {
     "data": {
      "image/png": "[encoded data removed]",
      "text/plain": [
       "<Figure size 432x288 with 1 Axes>"
      ]
     },
     "metadata": {},
     "output_type": "display_data"
    }
   ],
   "source": [
    "bank_debt_ovreview=['Without debt','with Debt']\n",
    "campaign_performance['campaign_results'].plot(kind='pie', labels=bank_debt_ovreview,radius=1,autopct='%1.1f%%', shadow = True)\n",
    "plt.title('Bank debtOverview')\n",
    "plt.ylabel(\"\")\n",
    "plt.tight_layout()"
   ]
  },
  {
   "cell_type": "code",
   "execution_count": 59,
   "id": "635be245",
   "metadata": {},
   "outputs": [],
   "source": [
    "#To make the graph easier to interpretate we have decided to change the column values of 'banl debt'\n",
    "df3=df2\n",
    "df3['bank_debt'] = df2['bank_debt'].map({0: 'Without Bank Debt', 1:'With Bank Debt'})"
   ]
  },
  {
   "cell_type": "code",
   "execution_count": 60,
   "id": "dd9c2f55",
   "metadata": {},
   "outputs": [
    {
     "data": {
      "text/html": [
       "<div>\n",
       "<style scoped>\n",
       "    .dataframe tbody tr th:only-of-type {\n",
       "        vertical-align: middle;\n",
       "    }\n",
       "\n",
       "    .dataframe tbody tr th {\n",
       "        vertical-align: top;\n",
       "    }\n",
       "\n",
       "    .dataframe thead th {\n",
       "        text-align: right;\n",
       "    }\n",
       "</style>\n",
       "<table border=\"1\" class=\"dataframe\">\n",
       "  <thead>\n",
       "    <tr style=\"text-align: right;\">\n",
       "      <th></th>\n",
       "      <th>age</th>\n",
       "      <th>job</th>\n",
       "      <th>marital</th>\n",
       "      <th>education</th>\n",
       "      <th>bank_debt</th>\n",
       "      <th>avg_balance</th>\n",
       "      <th>housing_loan</th>\n",
       "      <th>personal_loan</th>\n",
       "      <th>contact</th>\n",
       "      <th>month</th>\n",
       "      <th>n_contacts_done</th>\n",
       "      <th>pre_n_contacts_done</th>\n",
       "      <th>results_prev_campains</th>\n",
       "      <th>campaign_results</th>\n",
       "      <th>age_group</th>\n",
       "    </tr>\n",
       "  </thead>\n",
       "  <tbody>\n",
       "    <tr>\n",
       "      <th>0</th>\n",
       "      <td>30</td>\n",
       "      <td>unemployed</td>\n",
       "      <td>married</td>\n",
       "      <td>primary</td>\n",
       "      <td>Without Bank Debt</td>\n",
       "      <td>1787</td>\n",
       "      <td>0</td>\n",
       "      <td>0</td>\n",
       "      <td>cellular</td>\n",
       "      <td>oct</td>\n",
       "      <td>1</td>\n",
       "      <td>0</td>\n",
       "      <td>NaN</td>\n",
       "      <td>0</td>\n",
       "      <td>Young</td>\n",
       "    </tr>\n",
       "    <tr>\n",
       "      <th>1</th>\n",
       "      <td>33</td>\n",
       "      <td>services</td>\n",
       "      <td>married</td>\n",
       "      <td>secondary</td>\n",
       "      <td>Without Bank Debt</td>\n",
       "      <td>4789</td>\n",
       "      <td>1</td>\n",
       "      <td>1</td>\n",
       "      <td>cellular</td>\n",
       "      <td>may</td>\n",
       "      <td>1</td>\n",
       "      <td>4</td>\n",
       "      <td>0.0</td>\n",
       "      <td>0</td>\n",
       "      <td>Young</td>\n",
       "    </tr>\n",
       "    <tr>\n",
       "      <th>2</th>\n",
       "      <td>35</td>\n",
       "      <td>management</td>\n",
       "      <td>single</td>\n",
       "      <td>tertiary</td>\n",
       "      <td>Without Bank Debt</td>\n",
       "      <td>1350</td>\n",
       "      <td>1</td>\n",
       "      <td>0</td>\n",
       "      <td>cellular</td>\n",
       "      <td>apr</td>\n",
       "      <td>1</td>\n",
       "      <td>1</td>\n",
       "      <td>0.0</td>\n",
       "      <td>0</td>\n",
       "      <td>Adult</td>\n",
       "    </tr>\n",
       "    <tr>\n",
       "      <th>3</th>\n",
       "      <td>30</td>\n",
       "      <td>management</td>\n",
       "      <td>married</td>\n",
       "      <td>tertiary</td>\n",
       "      <td>Without Bank Debt</td>\n",
       "      <td>1476</td>\n",
       "      <td>1</td>\n",
       "      <td>1</td>\n",
       "      <td>NaN</td>\n",
       "      <td>jun</td>\n",
       "      <td>4</td>\n",
       "      <td>0</td>\n",
       "      <td>NaN</td>\n",
       "      <td>0</td>\n",
       "      <td>Young</td>\n",
       "    </tr>\n",
       "    <tr>\n",
       "      <th>4</th>\n",
       "      <td>59</td>\n",
       "      <td>blue-collar</td>\n",
       "      <td>married</td>\n",
       "      <td>secondary</td>\n",
       "      <td>Without Bank Debt</td>\n",
       "      <td>0</td>\n",
       "      <td>1</td>\n",
       "      <td>0</td>\n",
       "      <td>NaN</td>\n",
       "      <td>may</td>\n",
       "      <td>1</td>\n",
       "      <td>0</td>\n",
       "      <td>NaN</td>\n",
       "      <td>0</td>\n",
       "      <td>Adult</td>\n",
       "    </tr>\n",
       "  </tbody>\n",
       "</table>\n",
       "</div>"
      ],
      "text/plain": [
       "   age          job  marital  education          bank_debt  avg_balance  \\\n",
       "0   30   unemployed  married    primary  Without Bank Debt         1787   \n",
       "1   33     services  married  secondary  Without Bank Debt         4789   \n",
       "2   35   management   single   tertiary  Without Bank Debt         1350   \n",
       "3   30   management  married   tertiary  Without Bank Debt         1476   \n",
       "4   59  blue-collar  married  secondary  Without Bank Debt            0   \n",
       "\n",
       "   housing_loan  personal_loan   contact month  n_contacts_done  \\\n",
       "0             0              0  cellular   oct                1   \n",
       "1             1              1  cellular   may                1   \n",
       "2             1              0  cellular   apr                1   \n",
       "3             1              1       NaN   jun                4   \n",
       "4             1              0       NaN   may                1   \n",
       "\n",
       "   pre_n_contacts_done  results_prev_campains  campaign_results age_group  \n",
       "0                    0                    NaN                 0     Young  \n",
       "1                    4                    0.0                 0     Young  \n",
       "2                    1                    0.0                 0     Adult  \n",
       "3                    0                    NaN                 0     Young  \n",
       "4                    0                    NaN                 0     Adult  "
      ]
     },
     "execution_count": 60,
     "metadata": {},
     "output_type": "execute_result"
    }
   ],
   "source": [
    "df3.head()"
   ]
  },
  {
   "cell_type": "markdown",
   "id": "4602d92f",
   "metadata": {},
   "source": [
    "### Campaign Results by Bank Debt Status"
   ]
  },
  {
   "cell_type": "code",
   "execution_count": 61,
   "id": "c321e96b",
   "metadata": {},
   "outputs": [
    {
     "data": {
      "image/png": "[encoded data removed]",
      "text/plain": [
       "<Figure size 720x432 with 1 Axes>"
      ]
     },
     "metadata": {},
     "output_type": "display_data"
    }
   ],
   "source": [
    "without_debt_data = df3[df3['bank_debt'] == 'Without Bank Debt']\n",
    "with_debt_data = df3[df3['bank_debt'] == 'With Bank Debt']\n",
    "\n",
    "sns.set(style='whitegrid')\n",
    "plt.figure(figsize=(10, 6))\n",
    "\n",
    "sns.countplot(data=df3, x='bank_debt', hue='campaign_results')\n",
    "\n",
    "plt.xlabel('Campaign Results')\n",
    "plt.ylabel('Count')\n",
    "plt.title('Campaign Results by Bank Debt Status \\n (0 = Unsuccesfully Suscribed to a Term Deposit | 1 = Succesfully Suscribed to a Term Deposit)')\n",
    "\n",
    "plt.show()"
   ]
  },
  {
   "cell_type": "code",
   "execution_count": 62,
   "id": "a06a2c7d",
   "metadata": {},
   "outputs": [
    {
     "name": "stdout",
     "output_type": "stream",
     "text": [
      "0    67\n",
      "1     9\n",
      "Name: campaign_results, dtype: int64\n"
     ]
    }
   ],
   "source": [
    "with_debt_data = df3[df3['bank_debt'] == 'With Bank Debt']\n",
    "\n",
    "with_debt_data_counts = with_debt_data['campaign_results'].value_counts()\n",
    "\n",
    "print(with_debt_data_counts)"
   ]
  },
  {
   "cell_type": "markdown",
   "id": "d8089423",
   "metadata": {},
   "source": [
    "### Campaign Results By Group Without Bank Debt"
   ]
  },
  {
   "cell_type": "code",
   "execution_count": 63,
   "id": "27792a61",
   "metadata": {},
   "outputs": [
    {
     "data": {
      "image/png": "[encoded data removed]",
      "text/plain": [
       "<Figure size 432x288 with 1 Axes>"
      ]
     },
     "metadata": {},
     "output_type": "display_data"
    }
   ],
   "source": [
    "without_debt_data = df3[df3['bank_debt'] == 'Without Bank Debt']\n",
    "\n",
    "sns.countplot(data=without_debt_data, x='campaign_results')\n",
    "\n",
    "plt.xlabel('Campaign Results')\n",
    "plt.ylabel('Count')\n",
    "plt.title('Campaign Results By Group Without Bank Debt  \\n (0 = Unsuccesfully suscribed to a term deposit | 1 = Succesfully suscribed to a term deposit)')\n",
    "plt.show()"
   ]
  },
  {
   "cell_type": "code",
   "execution_count": 64,
   "id": "6c0fc4d9",
   "metadata": {},
   "outputs": [
    {
     "name": "stdout",
     "output_type": "stream",
     "text": [
      "0    3933\n",
      "1     512\n",
      "Name: campaign_results, dtype: int64\n"
     ]
    }
   ],
   "source": [
    "without_debt_data = df3[df3['bank_debt'] == 'Without Bank Debt']\n",
    "\n",
    "without_debt_data_counts = without_debt_data['campaign_results'].value_counts()\n",
    "\n",
    "print(without_debt_data_counts)"
   ]
  },
  {
   "cell_type": "markdown",
   "id": "4b5c6824",
   "metadata": {},
   "source": [
    "> 2.4.1 Analysis of Relative Frequencies"
   ]
  },
  {
   "cell_type": "code",
   "execution_count": 65,
   "id": "c84945d1",
   "metadata": {},
   "outputs": [
    {
     "data": {
      "text/html": [
       "<div>\n",
       "<style scoped>\n",
       "    .dataframe tbody tr th:only-of-type {\n",
       "        vertical-align: middle;\n",
       "    }\n",
       "\n",
       "    .dataframe tbody tr th {\n",
       "        vertical-align: top;\n",
       "    }\n",
       "\n",
       "    .dataframe thead th {\n",
       "        text-align: right;\n",
       "    }\n",
       "</style>\n",
       "<table border=\"1\" class=\"dataframe\">\n",
       "  <thead>\n",
       "    <tr style=\"text-align: right;\">\n",
       "      <th></th>\n",
       "      <th>bank_debt</th>\n",
       "      <th>Frequency</th>\n",
       "      <th>relative_frequencies</th>\n",
       "    </tr>\n",
       "  </thead>\n",
       "  <tbody>\n",
       "    <tr>\n",
       "      <th>0</th>\n",
       "      <td>Without Bank Debt</td>\n",
       "      <td>4445</td>\n",
       "      <td>0.98319</td>\n",
       "    </tr>\n",
       "    <tr>\n",
       "      <th>1</th>\n",
       "      <td>With Bank Debt</td>\n",
       "      <td>76</td>\n",
       "      <td>0.01681</td>\n",
       "    </tr>\n",
       "  </tbody>\n",
       "</table>\n",
       "</div>"
      ],
      "text/plain": [
       "           bank_debt  Frequency  relative_frequencies\n",
       "0  Without Bank Debt       4445               0.98319\n",
       "1     With Bank Debt         76               0.01681"
      ]
     },
     "execution_count": 65,
     "metadata": {},
     "output_type": "execute_result"
    }
   ],
   "source": [
    "value_counts=df3['bank_debt'].value_counts()\n",
    "relative_frequencies=value_counts/len(df3)\n",
    "subtable=pd.DataFrame({'bank_debt':value_counts.index,\n",
    "                      'Frequency':value_counts.values,\n",
    "                      'relative_frequencies':relative_frequencies.values})\n",
    "subtable"
   ]
  },
  {
   "cell_type": "code",
   "execution_count": 66,
   "id": "2d67e2ad",
   "metadata": {},
   "outputs": [],
   "source": [
    "df2=df3\n",
    "df2['bank_debt'] = df3['bank_debt'].map({'Without Bank Debt':0, 1:'With Bank Debt'})"
   ]
  },
  {
   "cell_type": "markdown",
   "id": "41403e19",
   "metadata": {},
   "source": [
    "> 2.5 Campaign Results by job"
   ]
  },
  {
   "cell_type": "code",
   "execution_count": 67,
   "id": "2a57bdce",
   "metadata": {},
   "outputs": [
    {
     "data": {
      "text/html": [
       "<div>\n",
       "<style scoped>\n",
       "    .dataframe tbody tr th:only-of-type {\n",
       "        vertical-align: middle;\n",
       "    }\n",
       "\n",
       "    .dataframe tbody tr th {\n",
       "        vertical-align: top;\n",
       "    }\n",
       "\n",
       "    .dataframe thead th {\n",
       "        text-align: right;\n",
       "    }\n",
       "</style>\n",
       "<table border=\"1\" class=\"dataframe\">\n",
       "  <thead>\n",
       "    <tr style=\"text-align: right;\">\n",
       "      <th></th>\n",
       "      <th>age</th>\n",
       "      <th>marital</th>\n",
       "      <th>education</th>\n",
       "      <th>bank_debt</th>\n",
       "      <th>avg_balance</th>\n",
       "      <th>housing_loan</th>\n",
       "      <th>personal_loan</th>\n",
       "      <th>contact</th>\n",
       "      <th>month</th>\n",
       "      <th>n_contacts_done</th>\n",
       "      <th>pre_n_contacts_done</th>\n",
       "      <th>results_prev_campains</th>\n",
       "      <th>campaign_results</th>\n",
       "      <th>age_group</th>\n",
       "    </tr>\n",
       "    <tr>\n",
       "      <th>job</th>\n",
       "      <th></th>\n",
       "      <th></th>\n",
       "      <th></th>\n",
       "      <th></th>\n",
       "      <th></th>\n",
       "      <th></th>\n",
       "      <th></th>\n",
       "      <th></th>\n",
       "      <th></th>\n",
       "      <th></th>\n",
       "      <th></th>\n",
       "      <th></th>\n",
       "      <th></th>\n",
       "      <th></th>\n",
       "    </tr>\n",
       "  </thead>\n",
       "  <tbody>\n",
       "    <tr>\n",
       "      <th>admin.</th>\n",
       "      <td>478</td>\n",
       "      <td>478</td>\n",
       "      <td>461</td>\n",
       "      <td>472</td>\n",
       "      <td>478</td>\n",
       "      <td>478</td>\n",
       "      <td>478</td>\n",
       "      <td>347</td>\n",
       "      <td>478</td>\n",
       "      <td>478</td>\n",
       "      <td>478</td>\n",
       "      <td>108</td>\n",
       "      <td>478</td>\n",
       "      <td>478</td>\n",
       "    </tr>\n",
       "    <tr>\n",
       "      <th>blue-collar</th>\n",
       "      <td>946</td>\n",
       "      <td>946</td>\n",
       "      <td>905</td>\n",
       "      <td>932</td>\n",
       "      <td>946</td>\n",
       "      <td>946</td>\n",
       "      <td>946</td>\n",
       "      <td>547</td>\n",
       "      <td>946</td>\n",
       "      <td>946</td>\n",
       "      <td>946</td>\n",
       "      <td>152</td>\n",
       "      <td>946</td>\n",
       "      <td>946</td>\n",
       "    </tr>\n",
       "    <tr>\n",
       "      <th>entrepreneur</th>\n",
       "      <td>168</td>\n",
       "      <td>168</td>\n",
       "      <td>157</td>\n",
       "      <td>161</td>\n",
       "      <td>168</td>\n",
       "      <td>168</td>\n",
       "      <td>168</td>\n",
       "      <td>118</td>\n",
       "      <td>168</td>\n",
       "      <td>168</td>\n",
       "      <td>168</td>\n",
       "      <td>23</td>\n",
       "      <td>168</td>\n",
       "      <td>168</td>\n",
       "    </tr>\n",
       "    <tr>\n",
       "      <th>housemaid</th>\n",
       "      <td>112</td>\n",
       "      <td>112</td>\n",
       "      <td>107</td>\n",
       "      <td>110</td>\n",
       "      <td>112</td>\n",
       "      <td>112</td>\n",
       "      <td>112</td>\n",
       "      <td>83</td>\n",
       "      <td>112</td>\n",
       "      <td>112</td>\n",
       "      <td>112</td>\n",
       "      <td>18</td>\n",
       "      <td>112</td>\n",
       "      <td>112</td>\n",
       "    </tr>\n",
       "    <tr>\n",
       "      <th>management</th>\n",
       "      <td>969</td>\n",
       "      <td>969</td>\n",
       "      <td>942</td>\n",
       "      <td>955</td>\n",
       "      <td>969</td>\n",
       "      <td>969</td>\n",
       "      <td>969</td>\n",
       "      <td>762</td>\n",
       "      <td>969</td>\n",
       "      <td>969</td>\n",
       "      <td>969</td>\n",
       "      <td>186</td>\n",
       "      <td>969</td>\n",
       "      <td>969</td>\n",
       "    </tr>\n",
       "    <tr>\n",
       "      <th>retired</th>\n",
       "      <td>230</td>\n",
       "      <td>230</td>\n",
       "      <td>216</td>\n",
       "      <td>227</td>\n",
       "      <td>230</td>\n",
       "      <td>230</td>\n",
       "      <td>230</td>\n",
       "      <td>187</td>\n",
       "      <td>230</td>\n",
       "      <td>230</td>\n",
       "      <td>230</td>\n",
       "      <td>49</td>\n",
       "      <td>230</td>\n",
       "      <td>230</td>\n",
       "    </tr>\n",
       "    <tr>\n",
       "      <th>self-employed</th>\n",
       "      <td>183</td>\n",
       "      <td>183</td>\n",
       "      <td>179</td>\n",
       "      <td>179</td>\n",
       "      <td>183</td>\n",
       "      <td>183</td>\n",
       "      <td>183</td>\n",
       "      <td>121</td>\n",
       "      <td>183</td>\n",
       "      <td>183</td>\n",
       "      <td>183</td>\n",
       "      <td>28</td>\n",
       "      <td>183</td>\n",
       "      <td>183</td>\n",
       "    </tr>\n",
       "    <tr>\n",
       "      <th>services</th>\n",
       "      <td>417</td>\n",
       "      <td>417</td>\n",
       "      <td>404</td>\n",
       "      <td>410</td>\n",
       "      <td>417</td>\n",
       "      <td>417</td>\n",
       "      <td>417</td>\n",
       "      <td>264</td>\n",
       "      <td>417</td>\n",
       "      <td>417</td>\n",
       "      <td>417</td>\n",
       "      <td>62</td>\n",
       "      <td>417</td>\n",
       "      <td>417</td>\n",
       "    </tr>\n",
       "    <tr>\n",
       "      <th>student</th>\n",
       "      <td>84</td>\n",
       "      <td>84</td>\n",
       "      <td>68</td>\n",
       "      <td>83</td>\n",
       "      <td>84</td>\n",
       "      <td>84</td>\n",
       "      <td>84</td>\n",
       "      <td>71</td>\n",
       "      <td>84</td>\n",
       "      <td>84</td>\n",
       "      <td>84</td>\n",
       "      <td>22</td>\n",
       "      <td>84</td>\n",
       "      <td>84</td>\n",
       "    </tr>\n",
       "    <tr>\n",
       "      <th>technician</th>\n",
       "      <td>768</td>\n",
       "      <td>768</td>\n",
       "      <td>746</td>\n",
       "      <td>753</td>\n",
       "      <td>768</td>\n",
       "      <td>768</td>\n",
       "      <td>768</td>\n",
       "      <td>573</td>\n",
       "      <td>768</td>\n",
       "      <td>768</td>\n",
       "      <td>768</td>\n",
       "      <td>141</td>\n",
       "      <td>768</td>\n",
       "      <td>768</td>\n",
       "    </tr>\n",
       "    <tr>\n",
       "      <th>unemployed</th>\n",
       "      <td>128</td>\n",
       "      <td>128</td>\n",
       "      <td>126</td>\n",
       "      <td>125</td>\n",
       "      <td>128</td>\n",
       "      <td>128</td>\n",
       "      <td>128</td>\n",
       "      <td>95</td>\n",
       "      <td>128</td>\n",
       "      <td>128</td>\n",
       "      <td>128</td>\n",
       "      <td>21</td>\n",
       "      <td>128</td>\n",
       "      <td>128</td>\n",
       "    </tr>\n",
       "  </tbody>\n",
       "</table>\n",
       "</div>"
      ],
      "text/plain": [
       "               age  marital  education  bank_debt  avg_balance  housing_loan  \\\n",
       "job                                                                            \n",
       "admin.         478      478        461        472          478           478   \n",
       "blue-collar    946      946        905        932          946           946   \n",
       "entrepreneur   168      168        157        161          168           168   \n",
       "housemaid      112      112        107        110          112           112   \n",
       "management     969      969        942        955          969           969   \n",
       "retired        230      230        216        227          230           230   \n",
       "self-employed  183      183        179        179          183           183   \n",
       "services       417      417        404        410          417           417   \n",
       "student         84       84         68         83           84            84   \n",
       "technician     768      768        746        753          768           768   \n",
       "unemployed     128      128        126        125          128           128   \n",
       "\n",
       "               personal_loan  contact  month  n_contacts_done  \\\n",
       "job                                                             \n",
       "admin.                   478      347    478              478   \n",
       "blue-collar              946      547    946              946   \n",
       "entrepreneur             168      118    168              168   \n",
       "housemaid                112       83    112              112   \n",
       "management               969      762    969              969   \n",
       "retired                  230      187    230              230   \n",
       "self-employed            183      121    183              183   \n",
       "services                 417      264    417              417   \n",
       "student                   84       71     84               84   \n",
       "technician               768      573    768              768   \n",
       "unemployed               128       95    128              128   \n",
       "\n",
       "               pre_n_contacts_done  results_prev_campains  campaign_results  \\\n",
       "job                                                                           \n",
       "admin.                         478                    108               478   \n",
       "blue-collar                    946                    152               946   \n",
       "entrepreneur                   168                     23               168   \n",
       "housemaid                      112                     18               112   \n",
       "management                     969                    186               969   \n",
       "retired                        230                     49               230   \n",
       "self-employed                  183                     28               183   \n",
       "services                       417                     62               417   \n",
       "student                         84                     22                84   \n",
       "technician                     768                    141               768   \n",
       "unemployed                     128                     21               128   \n",
       "\n",
       "               age_group  \n",
       "job                       \n",
       "admin.               478  \n",
       "blue-collar          946  \n",
       "entrepreneur         168  \n",
       "housemaid            112  \n",
       "management           969  \n",
       "retired              230  \n",
       "self-employed        183  \n",
       "services             417  \n",
       "student               84  \n",
       "technician           768  \n",
       "unemployed           128  "
      ]
     },
     "execution_count": 67,
     "metadata": {},
     "output_type": "execute_result"
    }
   ],
   "source": [
    "campaign_performance=df2.groupby('job',axis=0).count()\n",
    "campaign_performance"
   ]
  },
  {
   "cell_type": "markdown",
   "id": "39ab30bf",
   "metadata": {},
   "source": [
    "### Jobs overview"
   ]
  },
  {
   "cell_type": "code",
   "execution_count": 68,
   "id": "d2e4f4cc",
   "metadata": {},
   "outputs": [
    {
     "data": {
      "text/plain": [
       "<Figure size 720x720 with 0 Axes>"
      ]
     },
     "execution_count": 68,
     "metadata": {},
     "output_type": "execute_result"
    },
    {
     "data": {
      "image/png": "[encoded data removed]",
      "text/plain": [
       "<Figure size 432x288 with 1 Axes>"
      ]
     },
     "metadata": {},
     "output_type": "display_data"
    },
    {
     "data": {
      "text/plain": [
       "<Figure size 720x720 with 0 Axes>"
      ]
     },
     "metadata": {},
     "output_type": "display_data"
    }
   ],
   "source": [
    "jobs_overview=['admin.','blue-collar','entrepreneur','housemaid','management','retired','self-employed','services','student','technician','unemployed']\n",
    "campaign_performance['campaign_results'].plot(kind='pie', labels=jobs_overview,radius=1,autopct='%1.1f%%', shadow = True)\n",
    "\n",
    "plt.title('Marital status reached')\n",
    "plt.ylabel(\"\")\n",
    "plt.tight_layout()\n",
    "plt.figure(figsize=(10, 10))"
   ]
  },
  {
   "cell_type": "code",
   "execution_count": 69,
   "id": "05dc86e5",
   "metadata": {},
   "outputs": [],
   "source": [
    "campaign_performance.reset_index(inplace=True)"
   ]
  },
  {
   "cell_type": "code",
   "execution_count": 70,
   "id": "288d0093",
   "metadata": {},
   "outputs": [
    {
     "data": {
      "text/html": [
       "<div>\n",
       "<style scoped>\n",
       "    .dataframe tbody tr th:only-of-type {\n",
       "        vertical-align: middle;\n",
       "    }\n",
       "\n",
       "    .dataframe tbody tr th {\n",
       "        vertical-align: top;\n",
       "    }\n",
       "\n",
       "    .dataframe thead th {\n",
       "        text-align: right;\n",
       "    }\n",
       "</style>\n",
       "<table border=\"1\" class=\"dataframe\">\n",
       "  <thead>\n",
       "    <tr style=\"text-align: right;\">\n",
       "      <th></th>\n",
       "      <th>job</th>\n",
       "      <th>age</th>\n",
       "      <th>marital</th>\n",
       "      <th>education</th>\n",
       "      <th>bank_debt</th>\n",
       "      <th>avg_balance</th>\n",
       "      <th>housing_loan</th>\n",
       "      <th>personal_loan</th>\n",
       "      <th>contact</th>\n",
       "      <th>month</th>\n",
       "      <th>n_contacts_done</th>\n",
       "      <th>pre_n_contacts_done</th>\n",
       "      <th>results_prev_campains</th>\n",
       "      <th>campaign_results</th>\n",
       "      <th>age_group</th>\n",
       "    </tr>\n",
       "  </thead>\n",
       "  <tbody>\n",
       "    <tr>\n",
       "      <th>0</th>\n",
       "      <td>admin.</td>\n",
       "      <td>478</td>\n",
       "      <td>478</td>\n",
       "      <td>461</td>\n",
       "      <td>472</td>\n",
       "      <td>478</td>\n",
       "      <td>478</td>\n",
       "      <td>478</td>\n",
       "      <td>347</td>\n",
       "      <td>478</td>\n",
       "      <td>478</td>\n",
       "      <td>478</td>\n",
       "      <td>108</td>\n",
       "      <td>478</td>\n",
       "      <td>478</td>\n",
       "    </tr>\n",
       "    <tr>\n",
       "      <th>1</th>\n",
       "      <td>blue-collar</td>\n",
       "      <td>946</td>\n",
       "      <td>946</td>\n",
       "      <td>905</td>\n",
       "      <td>932</td>\n",
       "      <td>946</td>\n",
       "      <td>946</td>\n",
       "      <td>946</td>\n",
       "      <td>547</td>\n",
       "      <td>946</td>\n",
       "      <td>946</td>\n",
       "      <td>946</td>\n",
       "      <td>152</td>\n",
       "      <td>946</td>\n",
       "      <td>946</td>\n",
       "    </tr>\n",
       "    <tr>\n",
       "      <th>2</th>\n",
       "      <td>entrepreneur</td>\n",
       "      <td>168</td>\n",
       "      <td>168</td>\n",
       "      <td>157</td>\n",
       "      <td>161</td>\n",
       "      <td>168</td>\n",
       "      <td>168</td>\n",
       "      <td>168</td>\n",
       "      <td>118</td>\n",
       "      <td>168</td>\n",
       "      <td>168</td>\n",
       "      <td>168</td>\n",
       "      <td>23</td>\n",
       "      <td>168</td>\n",
       "      <td>168</td>\n",
       "    </tr>\n",
       "    <tr>\n",
       "      <th>3</th>\n",
       "      <td>housemaid</td>\n",
       "      <td>112</td>\n",
       "      <td>112</td>\n",
       "      <td>107</td>\n",
       "      <td>110</td>\n",
       "      <td>112</td>\n",
       "      <td>112</td>\n",
       "      <td>112</td>\n",
       "      <td>83</td>\n",
       "      <td>112</td>\n",
       "      <td>112</td>\n",
       "      <td>112</td>\n",
       "      <td>18</td>\n",
       "      <td>112</td>\n",
       "      <td>112</td>\n",
       "    </tr>\n",
       "    <tr>\n",
       "      <th>4</th>\n",
       "      <td>management</td>\n",
       "      <td>969</td>\n",
       "      <td>969</td>\n",
       "      <td>942</td>\n",
       "      <td>955</td>\n",
       "      <td>969</td>\n",
       "      <td>969</td>\n",
       "      <td>969</td>\n",
       "      <td>762</td>\n",
       "      <td>969</td>\n",
       "      <td>969</td>\n",
       "      <td>969</td>\n",
       "      <td>186</td>\n",
       "      <td>969</td>\n",
       "      <td>969</td>\n",
       "    </tr>\n",
       "  </tbody>\n",
       "</table>\n",
       "</div>"
      ],
      "text/plain": [
       "            job  age  marital  education  bank_debt  avg_balance  \\\n",
       "0        admin.  478      478        461        472          478   \n",
       "1   blue-collar  946      946        905        932          946   \n",
       "2  entrepreneur  168      168        157        161          168   \n",
       "3     housemaid  112      112        107        110          112   \n",
       "4    management  969      969        942        955          969   \n",
       "\n",
       "   housing_loan  personal_loan  contact  month  n_contacts_done  \\\n",
       "0           478            478      347    478              478   \n",
       "1           946            946      547    946              946   \n",
       "2           168            168      118    168              168   \n",
       "3           112            112       83    112              112   \n",
       "4           969            969      762    969              969   \n",
       "\n",
       "   pre_n_contacts_done  results_prev_campains  campaign_results  age_group  \n",
       "0                  478                    108               478        478  \n",
       "1                  946                    152               946        946  \n",
       "2                  168                     23               168        168  \n",
       "3                  112                     18               112        112  \n",
       "4                  969                    186               969        969  "
      ]
     },
     "execution_count": 70,
     "metadata": {},
     "output_type": "execute_result"
    }
   ],
   "source": [
    "campaign_performance.head()"
   ]
  },
  {
   "cell_type": "code",
   "execution_count": 71,
   "id": "6275eb1e",
   "metadata": {},
   "outputs": [],
   "source": [
    "campaign_performance.columns=['job','age','marital','education','ank_debt','avg_balance','housing_loan','personal_loan','contact','month','n_contacts_done','pre_n_contacts_done','results_prev_campains','campaign_results','age_group']"
   ]
  },
  {
   "cell_type": "code",
   "execution_count": 72,
   "id": "7a6f39ed",
   "metadata": {},
   "outputs": [
    {
     "data": {
      "text/html": [
       "<div>\n",
       "<style scoped>\n",
       "    .dataframe tbody tr th:only-of-type {\n",
       "        vertical-align: middle;\n",
       "    }\n",
       "\n",
       "    .dataframe tbody tr th {\n",
       "        vertical-align: top;\n",
       "    }\n",
       "\n",
       "    .dataframe thead th {\n",
       "        text-align: right;\n",
       "    }\n",
       "</style>\n",
       "<table border=\"1\" class=\"dataframe\">\n",
       "  <thead>\n",
       "    <tr style=\"text-align: right;\">\n",
       "      <th></th>\n",
       "      <th>job</th>\n",
       "      <th>age</th>\n",
       "      <th>marital</th>\n",
       "      <th>education</th>\n",
       "      <th>ank_debt</th>\n",
       "      <th>avg_balance</th>\n",
       "      <th>housing_loan</th>\n",
       "      <th>personal_loan</th>\n",
       "      <th>contact</th>\n",
       "      <th>month</th>\n",
       "      <th>n_contacts_done</th>\n",
       "      <th>pre_n_contacts_done</th>\n",
       "      <th>results_prev_campains</th>\n",
       "      <th>campaign_results</th>\n",
       "      <th>age_group</th>\n",
       "    </tr>\n",
       "  </thead>\n",
       "  <tbody>\n",
       "    <tr>\n",
       "      <th>0</th>\n",
       "      <td>admin.</td>\n",
       "      <td>478</td>\n",
       "      <td>478</td>\n",
       "      <td>461</td>\n",
       "      <td>472</td>\n",
       "      <td>478</td>\n",
       "      <td>478</td>\n",
       "      <td>478</td>\n",
       "      <td>347</td>\n",
       "      <td>478</td>\n",
       "      <td>478</td>\n",
       "      <td>478</td>\n",
       "      <td>108</td>\n",
       "      <td>478</td>\n",
       "      <td>478</td>\n",
       "    </tr>\n",
       "    <tr>\n",
       "      <th>1</th>\n",
       "      <td>blue-collar</td>\n",
       "      <td>946</td>\n",
       "      <td>946</td>\n",
       "      <td>905</td>\n",
       "      <td>932</td>\n",
       "      <td>946</td>\n",
       "      <td>946</td>\n",
       "      <td>946</td>\n",
       "      <td>547</td>\n",
       "      <td>946</td>\n",
       "      <td>946</td>\n",
       "      <td>946</td>\n",
       "      <td>152</td>\n",
       "      <td>946</td>\n",
       "      <td>946</td>\n",
       "    </tr>\n",
       "    <tr>\n",
       "      <th>2</th>\n",
       "      <td>entrepreneur</td>\n",
       "      <td>168</td>\n",
       "      <td>168</td>\n",
       "      <td>157</td>\n",
       "      <td>161</td>\n",
       "      <td>168</td>\n",
       "      <td>168</td>\n",
       "      <td>168</td>\n",
       "      <td>118</td>\n",
       "      <td>168</td>\n",
       "      <td>168</td>\n",
       "      <td>168</td>\n",
       "      <td>23</td>\n",
       "      <td>168</td>\n",
       "      <td>168</td>\n",
       "    </tr>\n",
       "    <tr>\n",
       "      <th>3</th>\n",
       "      <td>housemaid</td>\n",
       "      <td>112</td>\n",
       "      <td>112</td>\n",
       "      <td>107</td>\n",
       "      <td>110</td>\n",
       "      <td>112</td>\n",
       "      <td>112</td>\n",
       "      <td>112</td>\n",
       "      <td>83</td>\n",
       "      <td>112</td>\n",
       "      <td>112</td>\n",
       "      <td>112</td>\n",
       "      <td>18</td>\n",
       "      <td>112</td>\n",
       "      <td>112</td>\n",
       "    </tr>\n",
       "    <tr>\n",
       "      <th>4</th>\n",
       "      <td>management</td>\n",
       "      <td>969</td>\n",
       "      <td>969</td>\n",
       "      <td>942</td>\n",
       "      <td>955</td>\n",
       "      <td>969</td>\n",
       "      <td>969</td>\n",
       "      <td>969</td>\n",
       "      <td>762</td>\n",
       "      <td>969</td>\n",
       "      <td>969</td>\n",
       "      <td>969</td>\n",
       "      <td>186</td>\n",
       "      <td>969</td>\n",
       "      <td>969</td>\n",
       "    </tr>\n",
       "    <tr>\n",
       "      <th>5</th>\n",
       "      <td>retired</td>\n",
       "      <td>230</td>\n",
       "      <td>230</td>\n",
       "      <td>216</td>\n",
       "      <td>227</td>\n",
       "      <td>230</td>\n",
       "      <td>230</td>\n",
       "      <td>230</td>\n",
       "      <td>187</td>\n",
       "      <td>230</td>\n",
       "      <td>230</td>\n",
       "      <td>230</td>\n",
       "      <td>49</td>\n",
       "      <td>230</td>\n",
       "      <td>230</td>\n",
       "    </tr>\n",
       "    <tr>\n",
       "      <th>6</th>\n",
       "      <td>self-employed</td>\n",
       "      <td>183</td>\n",
       "      <td>183</td>\n",
       "      <td>179</td>\n",
       "      <td>179</td>\n",
       "      <td>183</td>\n",
       "      <td>183</td>\n",
       "      <td>183</td>\n",
       "      <td>121</td>\n",
       "      <td>183</td>\n",
       "      <td>183</td>\n",
       "      <td>183</td>\n",
       "      <td>28</td>\n",
       "      <td>183</td>\n",
       "      <td>183</td>\n",
       "    </tr>\n",
       "    <tr>\n",
       "      <th>7</th>\n",
       "      <td>services</td>\n",
       "      <td>417</td>\n",
       "      <td>417</td>\n",
       "      <td>404</td>\n",
       "      <td>410</td>\n",
       "      <td>417</td>\n",
       "      <td>417</td>\n",
       "      <td>417</td>\n",
       "      <td>264</td>\n",
       "      <td>417</td>\n",
       "      <td>417</td>\n",
       "      <td>417</td>\n",
       "      <td>62</td>\n",
       "      <td>417</td>\n",
       "      <td>417</td>\n",
       "    </tr>\n",
       "    <tr>\n",
       "      <th>8</th>\n",
       "      <td>student</td>\n",
       "      <td>84</td>\n",
       "      <td>84</td>\n",
       "      <td>68</td>\n",
       "      <td>83</td>\n",
       "      <td>84</td>\n",
       "      <td>84</td>\n",
       "      <td>84</td>\n",
       "      <td>71</td>\n",
       "      <td>84</td>\n",
       "      <td>84</td>\n",
       "      <td>84</td>\n",
       "      <td>22</td>\n",
       "      <td>84</td>\n",
       "      <td>84</td>\n",
       "    </tr>\n",
       "    <tr>\n",
       "      <th>9</th>\n",
       "      <td>technician</td>\n",
       "      <td>768</td>\n",
       "      <td>768</td>\n",
       "      <td>746</td>\n",
       "      <td>753</td>\n",
       "      <td>768</td>\n",
       "      <td>768</td>\n",
       "      <td>768</td>\n",
       "      <td>573</td>\n",
       "      <td>768</td>\n",
       "      <td>768</td>\n",
       "      <td>768</td>\n",
       "      <td>141</td>\n",
       "      <td>768</td>\n",
       "      <td>768</td>\n",
       "    </tr>\n",
       "    <tr>\n",
       "      <th>10</th>\n",
       "      <td>unemployed</td>\n",
       "      <td>128</td>\n",
       "      <td>128</td>\n",
       "      <td>126</td>\n",
       "      <td>125</td>\n",
       "      <td>128</td>\n",
       "      <td>128</td>\n",
       "      <td>128</td>\n",
       "      <td>95</td>\n",
       "      <td>128</td>\n",
       "      <td>128</td>\n",
       "      <td>128</td>\n",
       "      <td>21</td>\n",
       "      <td>128</td>\n",
       "      <td>128</td>\n",
       "    </tr>\n",
       "  </tbody>\n",
       "</table>\n",
       "</div>"
      ],
      "text/plain": [
       "              job  age  marital  education  ank_debt  avg_balance  \\\n",
       "0          admin.  478      478        461       472          478   \n",
       "1     blue-collar  946      946        905       932          946   \n",
       "2    entrepreneur  168      168        157       161          168   \n",
       "3       housemaid  112      112        107       110          112   \n",
       "4      management  969      969        942       955          969   \n",
       "5         retired  230      230        216       227          230   \n",
       "6   self-employed  183      183        179       179          183   \n",
       "7        services  417      417        404       410          417   \n",
       "8         student   84       84         68        83           84   \n",
       "9      technician  768      768        746       753          768   \n",
       "10     unemployed  128      128        126       125          128   \n",
       "\n",
       "    housing_loan  personal_loan  contact  month  n_contacts_done  \\\n",
       "0            478            478      347    478              478   \n",
       "1            946            946      547    946              946   \n",
       "2            168            168      118    168              168   \n",
       "3            112            112       83    112              112   \n",
       "4            969            969      762    969              969   \n",
       "5            230            230      187    230              230   \n",
       "6            183            183      121    183              183   \n",
       "7            417            417      264    417              417   \n",
       "8             84             84       71     84               84   \n",
       "9            768            768      573    768              768   \n",
       "10           128            128       95    128              128   \n",
       "\n",
       "    pre_n_contacts_done  results_prev_campains  campaign_results  age_group  \n",
       "0                   478                    108               478        478  \n",
       "1                   946                    152               946        946  \n",
       "2                   168                     23               168        168  \n",
       "3                   112                     18               112        112  \n",
       "4                   969                    186               969        969  \n",
       "5                   230                     49               230        230  \n",
       "6                   183                     28               183        183  \n",
       "7                   417                     62               417        417  \n",
       "8                    84                     22                84         84  \n",
       "9                   768                    141               768        768  \n",
       "10                  128                     21               128        128  "
      ]
     },
     "execution_count": 72,
     "metadata": {},
     "output_type": "execute_result"
    }
   ],
   "source": [
    "campaign_performance"
   ]
  },
  {
   "cell_type": "markdown",
   "id": "acbadfe7",
   "metadata": {},
   "source": [
    "### Customers Job "
   ]
  },
  {
   "cell_type": "code",
   "execution_count": 73,
   "id": "b66340cb",
   "metadata": {},
   "outputs": [
    {
     "data": {
      "image/png": "[encoded data removed]",
      "text/plain": [
       "<Figure size 1008x432 with 1 Axes>"
      ]
     },
     "metadata": {},
     "output_type": "display_data"
    }
   ],
   "source": [
    "plt.figure(figsize=(14,6))\n",
    "ax=sns.barplot(x='job',y='campaign_results',data=campaign_performance)"
   ]
  },
  {
   "cell_type": "markdown",
   "id": "abbc2019",
   "metadata": {},
   "source": [
    "### Campaign Results by Job"
   ]
  },
  {
   "cell_type": "code",
   "execution_count": 74,
   "id": "0ba652b1",
   "metadata": {},
   "outputs": [
    {
     "data": {
      "image/png": "[encoded data removed]",
      "text/plain": [
       "<Figure size 720x432 with 1 Axes>"
      ]
     },
     "metadata": {},
     "output_type": "display_data"
    }
   ],
   "source": [
    "blue_collar_data = df2[df2['job'] == 'blue-collar']\n",
    "\n",
    "sns.set(style='whitegrid')\n",
    "plt.figure(figsize=(10, 6))\n",
    "\n",
    "sns.countplot(data=blue_collar_data, x='job', hue='campaign_results')\n",
    "\n",
    "plt.xlabel('Campaign Results')\n",
    "plt.ylabel('Count')\n",
    "plt.title('Campaign Results by Blue-collar Roles \\n (0 = Unsuccesfully Suscribed to a Term Deposit | 1 = Succesfully Suscribed to a Term Deposit)')\n",
    "\n",
    "plt.show()"
   ]
  },
  {
   "cell_type": "markdown",
   "id": "4e05fc14",
   "metadata": {},
   "source": [
    "### Campaign Results by Management Roles"
   ]
  },
  {
   "cell_type": "code",
   "execution_count": 75,
   "id": "0bfc404c",
   "metadata": {},
   "outputs": [
    {
     "data": {
      "image/png": "[encoded data removed]",
      "text/plain": [
       "<Figure size 720x432 with 1 Axes>"
      ]
     },
     "metadata": {},
     "output_type": "display_data"
    }
   ],
   "source": [
    "mangement_data = df2[df2['job'] == 'management']\n",
    "\n",
    "sns.set(style='whitegrid')\n",
    "plt.figure(figsize=(10, 6))\n",
    "\n",
    "sns.countplot(data=mangement_data, x='job', hue='campaign_results')\n",
    "\n",
    "plt.xlabel('Campaign Results')\n",
    "plt.ylabel('Count')\n",
    "plt.title('Campaign Results by Management Roles \\n (0 = Unsuccesfully Suscribed to a Term Deposit | 1 = Succesfully Suscribed to a Term Deposit)')\n",
    "\n",
    "plt.show()"
   ]
  },
  {
   "cell_type": "code",
   "execution_count": 76,
   "id": "e0aa1927",
   "metadata": {},
   "outputs": [
    {
     "name": "stdout",
     "output_type": "stream",
     "text": [
      "0    838\n",
      "1    131\n",
      "Name: campaign_results, dtype: int64\n"
     ]
    }
   ],
   "source": [
    "mangement_data = df2[df2['job'] == 'management']\n",
    "\n",
    "mangement_data_counts = mangement_data['campaign_results'].value_counts()\n",
    "\n",
    "print(mangement_data_counts)"
   ]
  },
  {
   "cell_type": "markdown",
   "id": "b70789de",
   "metadata": {},
   "source": [
    "### Campaign Results by Technician Roles"
   ]
  },
  {
   "cell_type": "code",
   "execution_count": 77,
   "id": "3d9b4568",
   "metadata": {},
   "outputs": [
    {
     "data": {
      "image/png": "[encoded data removed]",
      "text/plain": [
       "<Figure size 720x432 with 1 Axes>"
      ]
     },
     "metadata": {},
     "output_type": "display_data"
    }
   ],
   "source": [
    "technician_data = df2[df2['job'] == 'technician']\n",
    "\n",
    "sns.set(style='whitegrid')\n",
    "plt.figure(figsize=(10, 6))\n",
    "\n",
    "sns.countplot(data=technician_data, x='job', hue='campaign_results')\n",
    "\n",
    "plt.xlabel('Campaign Results')\n",
    "plt.ylabel('Count')\n",
    "plt.title('Campaign Results by Technician Roles \\n (0 = Unsuccesfully Suscribed to a Term Deposit | 1 = Succesfully Suscribed to a Term Deposit)')\n",
    "\n",
    "plt.show()"
   ]
  },
  {
   "cell_type": "code",
   "execution_count": 78,
   "id": "496759da",
   "metadata": {},
   "outputs": [
    {
     "name": "stdout",
     "output_type": "stream",
     "text": [
      "0    685\n",
      "1     83\n",
      "Name: campaign_results, dtype: int64\n"
     ]
    }
   ],
   "source": [
    "technician_data = df2[df2['job'] == 'technician']\n",
    "\n",
    "technician_data_counts = technician_data['campaign_results'].value_counts()\n",
    "\n",
    "print(technician_data_counts)"
   ]
  },
  {
   "cell_type": "markdown",
   "id": "d10a1e11",
   "metadata": {},
   "source": [
    "> 2.5.1 Analysis of Relative Frequencies"
   ]
  },
  {
   "cell_type": "code",
   "execution_count": 22,
   "id": "25eb28e5",
   "metadata": {},
   "outputs": [
    {
     "data": {
      "text/html": [
       "<div>\n",
       "<style scoped>\n",
       "    .dataframe tbody tr th:only-of-type {\n",
       "        vertical-align: middle;\n",
       "    }\n",
       "\n",
       "    .dataframe tbody tr th {\n",
       "        vertical-align: top;\n",
       "    }\n",
       "\n",
       "    .dataframe thead th {\n",
       "        text-align: right;\n",
       "    }\n",
       "</style>\n",
       "<table border=\"1\" class=\"dataframe\">\n",
       "  <thead>\n",
       "    <tr style=\"text-align: right;\">\n",
       "      <th></th>\n",
       "      <th>job</th>\n",
       "      <th>Frequency</th>\n",
       "      <th>relative_frequencies</th>\n",
       "    </tr>\n",
       "  </thead>\n",
       "  <tbody>\n",
       "    <tr>\n",
       "      <th>0</th>\n",
       "      <td>management</td>\n",
       "      <td>969</td>\n",
       "      <td>0.214333</td>\n",
       "    </tr>\n",
       "    <tr>\n",
       "      <th>1</th>\n",
       "      <td>blue-collar</td>\n",
       "      <td>946</td>\n",
       "      <td>0.209246</td>\n",
       "    </tr>\n",
       "    <tr>\n",
       "      <th>2</th>\n",
       "      <td>technician</td>\n",
       "      <td>768</td>\n",
       "      <td>0.169874</td>\n",
       "    </tr>\n",
       "    <tr>\n",
       "      <th>3</th>\n",
       "      <td>admin.</td>\n",
       "      <td>478</td>\n",
       "      <td>0.105729</td>\n",
       "    </tr>\n",
       "    <tr>\n",
       "      <th>4</th>\n",
       "      <td>services</td>\n",
       "      <td>417</td>\n",
       "      <td>0.092236</td>\n",
       "    </tr>\n",
       "    <tr>\n",
       "      <th>5</th>\n",
       "      <td>retired</td>\n",
       "      <td>230</td>\n",
       "      <td>0.050874</td>\n",
       "    </tr>\n",
       "    <tr>\n",
       "      <th>6</th>\n",
       "      <td>self-employed</td>\n",
       "      <td>183</td>\n",
       "      <td>0.040478</td>\n",
       "    </tr>\n",
       "    <tr>\n",
       "      <th>7</th>\n",
       "      <td>entrepreneur</td>\n",
       "      <td>168</td>\n",
       "      <td>0.037160</td>\n",
       "    </tr>\n",
       "    <tr>\n",
       "      <th>8</th>\n",
       "      <td>unemployed</td>\n",
       "      <td>128</td>\n",
       "      <td>0.028312</td>\n",
       "    </tr>\n",
       "    <tr>\n",
       "      <th>9</th>\n",
       "      <td>housemaid</td>\n",
       "      <td>112</td>\n",
       "      <td>0.024773</td>\n",
       "    </tr>\n",
       "    <tr>\n",
       "      <th>10</th>\n",
       "      <td>student</td>\n",
       "      <td>84</td>\n",
       "      <td>0.018580</td>\n",
       "    </tr>\n",
       "  </tbody>\n",
       "</table>\n",
       "</div>"
      ],
      "text/plain": [
       "              job  Frequency  relative_frequencies\n",
       "0      management        969              0.214333\n",
       "1     blue-collar        946              0.209246\n",
       "2      technician        768              0.169874\n",
       "3          admin.        478              0.105729\n",
       "4        services        417              0.092236\n",
       "5         retired        230              0.050874\n",
       "6   self-employed        183              0.040478\n",
       "7    entrepreneur        168              0.037160\n",
       "8      unemployed        128              0.028312\n",
       "9       housemaid        112              0.024773\n",
       "10        student         84              0.018580"
      ]
     },
     "execution_count": 22,
     "metadata": {},
     "output_type": "execute_result"
    }
   ],
   "source": [
    "value_counts=df2['job'].value_counts()\n",
    "relative_frequencies=value_counts/len(df2)\n",
    "subtable=pd.DataFrame({'job':value_counts.index,\n",
    "                      'Frequency':value_counts.values,\n",
    "                      'relative_frequencies':relative_frequencies.values})\n",
    "subtable"
   ]
  },
  {
   "cell_type": "markdown",
   "id": "4188b74e",
   "metadata": {},
   "source": [
    "> 2.6 Campaign Results by Education"
   ]
  },
  {
   "cell_type": "code",
   "execution_count": 79,
   "id": "fd6b7866",
   "metadata": {},
   "outputs": [
    {
     "data": {
      "text/html": [
       "<div>\n",
       "<style scoped>\n",
       "    .dataframe tbody tr th:only-of-type {\n",
       "        vertical-align: middle;\n",
       "    }\n",
       "\n",
       "    .dataframe tbody tr th {\n",
       "        vertical-align: top;\n",
       "    }\n",
       "\n",
       "    .dataframe thead th {\n",
       "        text-align: right;\n",
       "    }\n",
       "</style>\n",
       "<table border=\"1\" class=\"dataframe\">\n",
       "  <thead>\n",
       "    <tr style=\"text-align: right;\">\n",
       "      <th></th>\n",
       "      <th>age</th>\n",
       "      <th>job</th>\n",
       "      <th>marital</th>\n",
       "      <th>bank_debt</th>\n",
       "      <th>avg_balance</th>\n",
       "      <th>housing_loan</th>\n",
       "      <th>personal_loan</th>\n",
       "      <th>contact</th>\n",
       "      <th>month</th>\n",
       "      <th>n_contacts_done</th>\n",
       "      <th>pre_n_contacts_done</th>\n",
       "      <th>results_prev_campains</th>\n",
       "      <th>campaign_results</th>\n",
       "      <th>age_group</th>\n",
       "    </tr>\n",
       "    <tr>\n",
       "      <th>education</th>\n",
       "      <th></th>\n",
       "      <th></th>\n",
       "      <th></th>\n",
       "      <th></th>\n",
       "      <th></th>\n",
       "      <th></th>\n",
       "      <th></th>\n",
       "      <th></th>\n",
       "      <th></th>\n",
       "      <th></th>\n",
       "      <th></th>\n",
       "      <th></th>\n",
       "      <th></th>\n",
       "      <th></th>\n",
       "    </tr>\n",
       "  </thead>\n",
       "  <tbody>\n",
       "    <tr>\n",
       "      <th>primary</th>\n",
       "      <td>678</td>\n",
       "      <td>671</td>\n",
       "      <td>678</td>\n",
       "      <td>668</td>\n",
       "      <td>678</td>\n",
       "      <td>678</td>\n",
       "      <td>678</td>\n",
       "      <td>418</td>\n",
       "      <td>678</td>\n",
       "      <td>678</td>\n",
       "      <td>678</td>\n",
       "      <td>98</td>\n",
       "      <td>678</td>\n",
       "      <td>678</td>\n",
       "    </tr>\n",
       "    <tr>\n",
       "      <th>secondary</th>\n",
       "      <td>2306</td>\n",
       "      <td>2298</td>\n",
       "      <td>2306</td>\n",
       "      <td>2260</td>\n",
       "      <td>2306</td>\n",
       "      <td>2306</td>\n",
       "      <td>2306</td>\n",
       "      <td>1587</td>\n",
       "      <td>2306</td>\n",
       "      <td>2306</td>\n",
       "      <td>2306</td>\n",
       "      <td>415</td>\n",
       "      <td>2306</td>\n",
       "      <td>2306</td>\n",
       "    </tr>\n",
       "    <tr>\n",
       "      <th>tertiary</th>\n",
       "      <td>1350</td>\n",
       "      <td>1342</td>\n",
       "      <td>1350</td>\n",
       "      <td>1333</td>\n",
       "      <td>1350</td>\n",
       "      <td>1350</td>\n",
       "      <td>1350</td>\n",
       "      <td>1078</td>\n",
       "      <td>1350</td>\n",
       "      <td>1350</td>\n",
       "      <td>1350</td>\n",
       "      <td>266</td>\n",
       "      <td>1350</td>\n",
       "      <td>1350</td>\n",
       "    </tr>\n",
       "  </tbody>\n",
       "</table>\n",
       "</div>"
      ],
      "text/plain": [
       "            age   job  marital  bank_debt  avg_balance  housing_loan  \\\n",
       "education                                                              \n",
       "primary     678   671      678        668          678           678   \n",
       "secondary  2306  2298     2306       2260         2306          2306   \n",
       "tertiary   1350  1342     1350       1333         1350          1350   \n",
       "\n",
       "           personal_loan  contact  month  n_contacts_done  \\\n",
       "education                                                   \n",
       "primary              678      418    678              678   \n",
       "secondary           2306     1587   2306             2306   \n",
       "tertiary            1350     1078   1350             1350   \n",
       "\n",
       "           pre_n_contacts_done  results_prev_campains  campaign_results  \\\n",
       "education                                                                 \n",
       "primary                    678                     98               678   \n",
       "secondary                 2306                    415              2306   \n",
       "tertiary                  1350                    266              1350   \n",
       "\n",
       "           age_group  \n",
       "education             \n",
       "primary          678  \n",
       "secondary       2306  \n",
       "tertiary        1350  "
      ]
     },
     "execution_count": 79,
     "metadata": {},
     "output_type": "execute_result"
    }
   ],
   "source": [
    "campaign_performance=df2.groupby('education',axis=0).count()\n",
    "campaign_performance"
   ]
  },
  {
   "cell_type": "markdown",
   "id": "4f79dc41",
   "metadata": {},
   "source": [
    "### Education achieved Analysis"
   ]
  },
  {
   "cell_type": "code",
   "execution_count": 80,
   "id": "25a0d545",
   "metadata": {},
   "outputs": [
    {
     "data": {
      "text/plain": [
       "<Figure size 720x720 with 0 Axes>"
      ]
     },
     "execution_count": 80,
     "metadata": {},
     "output_type": "execute_result"
    },
    {
     "data": {
      "image/png": "[encoded data removed]",
      "text/plain": [
       "<Figure size 432x288 with 1 Axes>"
      ]
     },
     "metadata": {},
     "output_type": "display_data"
    },
    {
     "data": {
      "text/plain": [
       "<Figure size 720x720 with 0 Axes>"
      ]
     },
     "metadata": {},
     "output_type": "display_data"
    }
   ],
   "source": [
    "educatiom_overview=['primary','secondary','tertiary']\n",
    "campaign_performance['campaign_results'].plot(kind='pie', labels=educatiom_overview,radius=1,autopct='%1.1f%%', shadow = True)\n",
    "\n",
    "plt.title('Education achieved Analysis')\n",
    "plt.ylabel(\"\")\n",
    "plt.tight_layout()\n",
    "plt.figure(figsize=(10, 10))"
   ]
  },
  {
   "cell_type": "markdown",
   "id": "43d502f4",
   "metadata": {},
   "source": [
    "### Campaign Results by Education Achieved"
   ]
  },
  {
   "cell_type": "code",
   "execution_count": 81,
   "id": "c4a38942",
   "metadata": {},
   "outputs": [
    {
     "data": {
      "image/png": "[encoded data removed]",
      "text/plain": [
       "<Figure size 720x432 with 1 Axes>"
      ]
     },
     "metadata": {},
     "output_type": "display_data"
    }
   ],
   "source": [
    "sns.set(style='whitegrid')\n",
    "plt.figure(figsize=(10, 6))\n",
    "\n",
    "sns.countplot(data=df2, x='education', hue='campaign_results')\n",
    "\n",
    "plt.xlabel('Campaign Results')\n",
    "plt.ylabel('Count')\n",
    "plt.title('Campaign Results by Education Achieved \\n (0 = Unsuccesfully Suscribed to a Term Deposit | 1 = Succesfully Suscribed to a Term Deposit)')\n",
    "\n",
    "plt.show()"
   ]
  },
  {
   "cell_type": "code",
   "execution_count": 82,
   "id": "f71e1191",
   "metadata": {},
   "outputs": [
    {
     "data": {
      "image/png": "[encoded data removed]",
      "text/plain": [
       "<Figure size 720x432 with 1 Axes>"
      ]
     },
     "metadata": {},
     "output_type": "display_data"
    }
   ],
   "source": [
    "primary_education_data = df2[df2['education'] == 'primary']\n",
    "secondary_education_data = df2[df2['education'] == 'secondary']\n",
    "tertiary_education_data = df2[df2['education'] == 'tertiary']\n",
    "\n",
    "sns.set(style='whitegrid')\n",
    "plt.figure(figsize=(10, 6))\n",
    "\n",
    "sns.countplot(data=tertiary_education_data, x='education', hue='campaign_results')\n",
    "\n",
    "plt.xlabel('Campaign Results')\n",
    "plt.ylabel('Count')\n",
    "plt.title('Campaign Results by Education Achieved \\n (0 = Unsuccesfully Suscribed to a Term Deposit | 1 = Succesfully Suscribed to a Term Deposit)')\n",
    "\n",
    "plt.show()"
   ]
  },
  {
   "cell_type": "code",
   "execution_count": 83,
   "id": "c70fb406",
   "metadata": {},
   "outputs": [
    {
     "name": "stdout",
     "output_type": "stream",
     "text": [
      "0    1157\n",
      "1     193\n",
      "Name: campaign_results, dtype: int64\n"
     ]
    }
   ],
   "source": [
    "tertiary_education_data = df2[df2['education'] == 'tertiary']\n",
    "\n",
    "tertiary_education_counts = tertiary_education_data['campaign_results'].value_counts()\n",
    "\n",
    "print(tertiary_education_counts)"
   ]
  },
  {
   "cell_type": "markdown",
   "id": "20455f55",
   "metadata": {},
   "source": [
    "> 2.6.1 Analysis of Relative Frequencies"
   ]
  },
  {
   "cell_type": "code",
   "execution_count": 23,
   "id": "665d5233",
   "metadata": {},
   "outputs": [
    {
     "data": {
      "text/html": [
       "<div>\n",
       "<style scoped>\n",
       "    .dataframe tbody tr th:only-of-type {\n",
       "        vertical-align: middle;\n",
       "    }\n",
       "\n",
       "    .dataframe tbody tr th {\n",
       "        vertical-align: top;\n",
       "    }\n",
       "\n",
       "    .dataframe thead th {\n",
       "        text-align: right;\n",
       "    }\n",
       "</style>\n",
       "<table border=\"1\" class=\"dataframe\">\n",
       "  <thead>\n",
       "    <tr style=\"text-align: right;\">\n",
       "      <th></th>\n",
       "      <th>education</th>\n",
       "      <th>Frequency</th>\n",
       "      <th>relative_frequencies</th>\n",
       "    </tr>\n",
       "  </thead>\n",
       "  <tbody>\n",
       "    <tr>\n",
       "      <th>0</th>\n",
       "      <td>secondary</td>\n",
       "      <td>2306</td>\n",
       "      <td>0.510064</td>\n",
       "    </tr>\n",
       "    <tr>\n",
       "      <th>1</th>\n",
       "      <td>tertiary</td>\n",
       "      <td>1350</td>\n",
       "      <td>0.298607</td>\n",
       "    </tr>\n",
       "    <tr>\n",
       "      <th>2</th>\n",
       "      <td>primary</td>\n",
       "      <td>678</td>\n",
       "      <td>0.149967</td>\n",
       "    </tr>\n",
       "  </tbody>\n",
       "</table>\n",
       "</div>"
      ],
      "text/plain": [
       "   education  Frequency  relative_frequencies\n",
       "0  secondary       2306              0.510064\n",
       "1   tertiary       1350              0.298607\n",
       "2    primary        678              0.149967"
      ]
     },
     "execution_count": 23,
     "metadata": {},
     "output_type": "execute_result"
    }
   ],
   "source": [
    "value_counts=df2['education'].value_counts()\n",
    "relative_frequencies=value_counts/len(df2)\n",
    "subtable=pd.DataFrame({'education':value_counts.index,\n",
    "                      'Frequency':value_counts.values,\n",
    "                      'relative_frequencies':relative_frequencies.values})\n",
    "subtable"
   ]
  },
  {
   "cell_type": "markdown",
   "id": "5336d483",
   "metadata": {},
   "source": [
    "> 2.7 Campaign Results by Average Balance in the Bank"
   ]
  },
  {
   "cell_type": "code",
   "execution_count": 84,
   "id": "95010223",
   "metadata": {},
   "outputs": [
    {
     "name": "stdout",
     "output_type": "stream",
     "text": [
      "Maximum Balance: 71188\n"
     ]
    }
   ],
   "source": [
    "max_balance = df2['avg_balance'].max()\n",
    "print(\"Maximum Balance:\", max_balance)"
   ]
  },
  {
   "cell_type": "code",
   "execution_count": 85,
   "id": "b215bca4",
   "metadata": {},
   "outputs": [
    {
     "name": "stdout",
     "output_type": "stream",
     "text": [
      "Minimum Balance: -3313\n"
     ]
    }
   ],
   "source": [
    "min_balance = df2['avg_balance'].min()\n",
    "print(\"Minimum Balance:\", min_balance)"
   ]
  },
  {
   "cell_type": "code",
   "execution_count": 86,
   "id": "36884fda",
   "metadata": {},
   "outputs": [
    {
     "name": "stdout",
     "output_type": "stream",
     "text": [
      "Mean Balance: 1422.6578190665782\n"
     ]
    }
   ],
   "source": [
    "mean_balance = df2['avg_balance'].mean()\n",
    "print(\"Mean Balance:\", mean_balance)"
   ]
  },
  {
   "cell_type": "markdown",
   "id": "ca663a54",
   "metadata": {},
   "source": [
    "In order to study how sucessful was the campaing by the average balance in the bank account, we have decided to creat a new column grouping the column 'avg_balance' by group of balance where low is population from -3333 to 1421, standard from 1422 to 4000 and high from 4001 to 71188."
   ]
  },
  {
   "cell_type": "code",
   "execution_count": 87,
   "id": "87ea9c74",
   "metadata": {},
   "outputs": [],
   "source": [
    "balance_distribution = [-3333, 1422, 4000, float('inf')]\n",
    "balance_labels = ['low', 'standard', 'high']\n",
    "df2['balance_clasification'] = pd.cut(df2['avg_balance'], bins=balance_distribution, labels=balance_labels, right=False)"
   ]
  },
  {
   "cell_type": "code",
   "execution_count": 88,
   "id": "9891517c",
   "metadata": {},
   "outputs": [
    {
     "data": {
      "text/html": [
       "<div>\n",
       "<style scoped>\n",
       "    .dataframe tbody tr th:only-of-type {\n",
       "        vertical-align: middle;\n",
       "    }\n",
       "\n",
       "    .dataframe tbody tr th {\n",
       "        vertical-align: top;\n",
       "    }\n",
       "\n",
       "    .dataframe thead th {\n",
       "        text-align: right;\n",
       "    }\n",
       "</style>\n",
       "<table border=\"1\" class=\"dataframe\">\n",
       "  <thead>\n",
       "    <tr style=\"text-align: right;\">\n",
       "      <th></th>\n",
       "      <th>age</th>\n",
       "      <th>job</th>\n",
       "      <th>marital</th>\n",
       "      <th>education</th>\n",
       "      <th>bank_debt</th>\n",
       "      <th>avg_balance</th>\n",
       "      <th>housing_loan</th>\n",
       "      <th>personal_loan</th>\n",
       "      <th>contact</th>\n",
       "      <th>month</th>\n",
       "      <th>n_contacts_done</th>\n",
       "      <th>pre_n_contacts_done</th>\n",
       "      <th>results_prev_campains</th>\n",
       "      <th>campaign_results</th>\n",
       "      <th>age_group</th>\n",
       "      <th>balance_clasification</th>\n",
       "    </tr>\n",
       "  </thead>\n",
       "  <tbody>\n",
       "    <tr>\n",
       "      <th>0</th>\n",
       "      <td>30</td>\n",
       "      <td>unemployed</td>\n",
       "      <td>married</td>\n",
       "      <td>primary</td>\n",
       "      <td>0</td>\n",
       "      <td>1787</td>\n",
       "      <td>0</td>\n",
       "      <td>0</td>\n",
       "      <td>cellular</td>\n",
       "      <td>oct</td>\n",
       "      <td>1</td>\n",
       "      <td>0</td>\n",
       "      <td>NaN</td>\n",
       "      <td>0</td>\n",
       "      <td>Young</td>\n",
       "      <td>standard</td>\n",
       "    </tr>\n",
       "    <tr>\n",
       "      <th>1</th>\n",
       "      <td>33</td>\n",
       "      <td>services</td>\n",
       "      <td>married</td>\n",
       "      <td>secondary</td>\n",
       "      <td>0</td>\n",
       "      <td>4789</td>\n",
       "      <td>1</td>\n",
       "      <td>1</td>\n",
       "      <td>cellular</td>\n",
       "      <td>may</td>\n",
       "      <td>1</td>\n",
       "      <td>4</td>\n",
       "      <td>0.0</td>\n",
       "      <td>0</td>\n",
       "      <td>Young</td>\n",
       "      <td>high</td>\n",
       "    </tr>\n",
       "    <tr>\n",
       "      <th>2</th>\n",
       "      <td>35</td>\n",
       "      <td>management</td>\n",
       "      <td>single</td>\n",
       "      <td>tertiary</td>\n",
       "      <td>0</td>\n",
       "      <td>1350</td>\n",
       "      <td>1</td>\n",
       "      <td>0</td>\n",
       "      <td>cellular</td>\n",
       "      <td>apr</td>\n",
       "      <td>1</td>\n",
       "      <td>1</td>\n",
       "      <td>0.0</td>\n",
       "      <td>0</td>\n",
       "      <td>Adult</td>\n",
       "      <td>low</td>\n",
       "    </tr>\n",
       "    <tr>\n",
       "      <th>3</th>\n",
       "      <td>30</td>\n",
       "      <td>management</td>\n",
       "      <td>married</td>\n",
       "      <td>tertiary</td>\n",
       "      <td>0</td>\n",
       "      <td>1476</td>\n",
       "      <td>1</td>\n",
       "      <td>1</td>\n",
       "      <td>NaN</td>\n",
       "      <td>jun</td>\n",
       "      <td>4</td>\n",
       "      <td>0</td>\n",
       "      <td>NaN</td>\n",
       "      <td>0</td>\n",
       "      <td>Young</td>\n",
       "      <td>standard</td>\n",
       "    </tr>\n",
       "    <tr>\n",
       "      <th>4</th>\n",
       "      <td>59</td>\n",
       "      <td>blue-collar</td>\n",
       "      <td>married</td>\n",
       "      <td>secondary</td>\n",
       "      <td>0</td>\n",
       "      <td>0</td>\n",
       "      <td>1</td>\n",
       "      <td>0</td>\n",
       "      <td>NaN</td>\n",
       "      <td>may</td>\n",
       "      <td>1</td>\n",
       "      <td>0</td>\n",
       "      <td>NaN</td>\n",
       "      <td>0</td>\n",
       "      <td>Adult</td>\n",
       "      <td>low</td>\n",
       "    </tr>\n",
       "  </tbody>\n",
       "</table>\n",
       "</div>"
      ],
      "text/plain": [
       "   age          job  marital  education bank_debt  avg_balance  housing_loan  \\\n",
       "0   30   unemployed  married    primary         0         1787             0   \n",
       "1   33     services  married  secondary         0         4789             1   \n",
       "2   35   management   single   tertiary         0         1350             1   \n",
       "3   30   management  married   tertiary         0         1476             1   \n",
       "4   59  blue-collar  married  secondary         0            0             1   \n",
       "\n",
       "   personal_loan   contact month  n_contacts_done  pre_n_contacts_done  \\\n",
       "0              0  cellular   oct                1                    0   \n",
       "1              1  cellular   may                1                    4   \n",
       "2              0  cellular   apr                1                    1   \n",
       "3              1       NaN   jun                4                    0   \n",
       "4              0       NaN   may                1                    0   \n",
       "\n",
       "   results_prev_campains  campaign_results age_group balance_clasification  \n",
       "0                    NaN                 0     Young              standard  \n",
       "1                    0.0                 0     Young                  high  \n",
       "2                    0.0                 0     Adult                   low  \n",
       "3                    NaN                 0     Young              standard  \n",
       "4                    NaN                 0     Adult                   low  "
      ]
     },
     "execution_count": 88,
     "metadata": {},
     "output_type": "execute_result"
    }
   ],
   "source": [
    "df2.head()"
   ]
  },
  {
   "cell_type": "code",
   "execution_count": 89,
   "id": "4d2f79a0",
   "metadata": {},
   "outputs": [
    {
     "data": {
      "text/html": [
       "<div>\n",
       "<style scoped>\n",
       "    .dataframe tbody tr th:only-of-type {\n",
       "        vertical-align: middle;\n",
       "    }\n",
       "\n",
       "    .dataframe tbody tr th {\n",
       "        vertical-align: top;\n",
       "    }\n",
       "\n",
       "    .dataframe thead th {\n",
       "        text-align: right;\n",
       "    }\n",
       "</style>\n",
       "<table border=\"1\" class=\"dataframe\">\n",
       "  <thead>\n",
       "    <tr style=\"text-align: right;\">\n",
       "      <th></th>\n",
       "      <th>age</th>\n",
       "      <th>job</th>\n",
       "      <th>marital</th>\n",
       "      <th>education</th>\n",
       "      <th>bank_debt</th>\n",
       "      <th>avg_balance</th>\n",
       "      <th>housing_loan</th>\n",
       "      <th>personal_loan</th>\n",
       "      <th>contact</th>\n",
       "      <th>month</th>\n",
       "      <th>n_contacts_done</th>\n",
       "      <th>pre_n_contacts_done</th>\n",
       "      <th>results_prev_campains</th>\n",
       "      <th>campaign_results</th>\n",
       "      <th>age_group</th>\n",
       "    </tr>\n",
       "    <tr>\n",
       "      <th>balance_clasification</th>\n",
       "      <th></th>\n",
       "      <th></th>\n",
       "      <th></th>\n",
       "      <th></th>\n",
       "      <th></th>\n",
       "      <th></th>\n",
       "      <th></th>\n",
       "      <th></th>\n",
       "      <th></th>\n",
       "      <th></th>\n",
       "      <th></th>\n",
       "      <th></th>\n",
       "      <th></th>\n",
       "      <th></th>\n",
       "      <th></th>\n",
       "    </tr>\n",
       "  </thead>\n",
       "  <tbody>\n",
       "    <tr>\n",
       "      <th>low</th>\n",
       "      <td>3359</td>\n",
       "      <td>3334</td>\n",
       "      <td>3359</td>\n",
       "      <td>3231</td>\n",
       "      <td>3283</td>\n",
       "      <td>3359</td>\n",
       "      <td>3359</td>\n",
       "      <td>3359</td>\n",
       "      <td>2354</td>\n",
       "      <td>3359</td>\n",
       "      <td>3359</td>\n",
       "      <td>3359</td>\n",
       "      <td>574</td>\n",
       "      <td>3359</td>\n",
       "      <td>3359</td>\n",
       "    </tr>\n",
       "    <tr>\n",
       "      <th>standard</th>\n",
       "      <td>729</td>\n",
       "      <td>720</td>\n",
       "      <td>729</td>\n",
       "      <td>695</td>\n",
       "      <td>729</td>\n",
       "      <td>729</td>\n",
       "      <td>729</td>\n",
       "      <td>729</td>\n",
       "      <td>527</td>\n",
       "      <td>729</td>\n",
       "      <td>729</td>\n",
       "      <td>729</td>\n",
       "      <td>150</td>\n",
       "      <td>729</td>\n",
       "      <td>729</td>\n",
       "    </tr>\n",
       "    <tr>\n",
       "      <th>high</th>\n",
       "      <td>433</td>\n",
       "      <td>429</td>\n",
       "      <td>433</td>\n",
       "      <td>408</td>\n",
       "      <td>433</td>\n",
       "      <td>433</td>\n",
       "      <td>433</td>\n",
       "      <td>433</td>\n",
       "      <td>316</td>\n",
       "      <td>433</td>\n",
       "      <td>433</td>\n",
       "      <td>433</td>\n",
       "      <td>92</td>\n",
       "      <td>433</td>\n",
       "      <td>433</td>\n",
       "    </tr>\n",
       "  </tbody>\n",
       "</table>\n",
       "</div>"
      ],
      "text/plain": [
       "                        age   job  marital  education  bank_debt  avg_balance  \\\n",
       "balance_clasification                                                           \n",
       "low                    3359  3334     3359       3231       3283         3359   \n",
       "standard                729   720      729        695        729          729   \n",
       "high                    433   429      433        408        433          433   \n",
       "\n",
       "                       housing_loan  personal_loan  contact  month  \\\n",
       "balance_clasification                                                \n",
       "low                            3359           3359     2354   3359   \n",
       "standard                        729            729      527    729   \n",
       "high                            433            433      316    433   \n",
       "\n",
       "                       n_contacts_done  pre_n_contacts_done  \\\n",
       "balance_clasification                                         \n",
       "low                               3359                 3359   \n",
       "standard                           729                  729   \n",
       "high                               433                  433   \n",
       "\n",
       "                       results_prev_campains  campaign_results  age_group  \n",
       "balance_clasification                                                      \n",
       "low                                      574              3359       3359  \n",
       "standard                                 150               729        729  \n",
       "high                                      92               433        433  "
      ]
     },
     "execution_count": 89,
     "metadata": {},
     "output_type": "execute_result"
    }
   ],
   "source": [
    "balance_reached=df2.groupby('balance_clasification',axis=0).count()\n",
    "balance_reached"
   ]
  },
  {
   "cell_type": "markdown",
   "id": "19626831",
   "metadata": {},
   "source": [
    "### Group of People Reached by Average Balance in their Bank Account"
   ]
  },
  {
   "cell_type": "code",
   "execution_count": 90,
   "id": "e12a6ff5",
   "metadata": {},
   "outputs": [
    {
     "data": {
      "image/png": "[encoded data removed]",
      "text/plain": [
       "<Figure size 432x288 with 1 Axes>"
      ]
     },
     "metadata": {},
     "output_type": "display_data"
    }
   ],
   "source": [
    "balance_group=['low','standard','high']\n",
    "balance_reached['campaign_results'].plot(kind='pie', labels=balance_group,radius=1,autopct='%1.1f%%', shadow = True)\n",
    "plt.title('Group of People Reached by Average Balance in their Bank Account')\n",
    "plt.ylabel(\"\")\n",
    "plt.tight_layout()"
   ]
  },
  {
   "cell_type": "markdown",
   "id": "eef9b7d8",
   "metadata": {},
   "source": [
    "### Campaign Results by Age Group"
   ]
  },
  {
   "cell_type": "code",
   "execution_count": 91,
   "id": "b9c2a64c",
   "metadata": {},
   "outputs": [
    {
     "data": {
      "image/png": "[encoded data removed]",
      "text/plain": [
       "<Figure size 720x432 with 1 Axes>"
      ]
     },
     "metadata": {},
     "output_type": "display_data"
    }
   ],
   "source": [
    "sns.set(style='whitegrid')\n",
    "plt.figure(figsize=(10, 6))\n",
    "\n",
    "sns.countplot(data=df2, x='balance_clasification', hue='campaign_results')\n",
    "\n",
    "plt.xlabel('Campaign Results')\n",
    "plt.ylabel('Count')\n",
    "plt.title('Campaign Results by Average Balance Status \\n (0 = Unsuccesfully suscribed to a term deposit | 1 = Succesfully suscribed to a term deposit)')\n",
    "plt.show()"
   ]
  },
  {
   "cell_type": "markdown",
   "id": "e145a383",
   "metadata": {},
   "source": [
    "### Campaign Results by Customer by Average Balance Status"
   ]
  },
  {
   "cell_type": "code",
   "execution_count": 92,
   "id": "618b4858",
   "metadata": {},
   "outputs": [
    {
     "data": {
      "image/png": "[encoded data removed]",
      "text/plain": [
       "<Figure size 720x432 with 1 Axes>"
      ]
     },
     "metadata": {},
     "output_type": "display_data"
    }
   ],
   "source": [
    "standard_bank_data = df2[df2['balance_clasification'] == 'standard']\n",
    "\n",
    "sns.set(style='whitegrid')\n",
    "plt.figure(figsize=(10, 6))\n",
    "\n",
    "sns.countplot(data=standard_bank_data , x='balance_clasification', hue='campaign_results')\n",
    "\n",
    "plt.xlabel('Campaign Results')\n",
    "plt.ylabel('Count')\n",
    "plt.title('Campaign Results by Customer by Average Balance Status \\n (0 = Unsuccesfully Suscribed to a Term Deposit | 1 = Succesfully Suscribed to a Term Deposit)')\n",
    "\n",
    "plt.show()"
   ]
  },
  {
   "cell_type": "code",
   "execution_count": 93,
   "id": "ab8a0a1d",
   "metadata": {},
   "outputs": [
    {
     "name": "stdout",
     "output_type": "stream",
     "text": [
      "0    611\n",
      "1    118\n",
      "Name: campaign_results, dtype: int64\n"
     ]
    }
   ],
   "source": [
    "standard_bank_data = df2[df2['balance_clasification'] == 'standard']\n",
    "\n",
    "campaign_results_counts = standard_bank_data['campaign_results'].value_counts()\n",
    "\n",
    "print(campaign_results_counts)"
   ]
  },
  {
   "cell_type": "code",
   "execution_count": 94,
   "id": "d752650b",
   "metadata": {},
   "outputs": [
    {
     "data": {
      "text/html": [
       "<div>\n",
       "<style scoped>\n",
       "    .dataframe tbody tr th:only-of-type {\n",
       "        vertical-align: middle;\n",
       "    }\n",
       "\n",
       "    .dataframe tbody tr th {\n",
       "        vertical-align: top;\n",
       "    }\n",
       "\n",
       "    .dataframe thead th {\n",
       "        text-align: right;\n",
       "    }\n",
       "</style>\n",
       "<table border=\"1\" class=\"dataframe\">\n",
       "  <thead>\n",
       "    <tr style=\"text-align: right;\">\n",
       "      <th></th>\n",
       "      <th>age</th>\n",
       "      <th>job</th>\n",
       "      <th>marital</th>\n",
       "      <th>education</th>\n",
       "      <th>bank_debt</th>\n",
       "      <th>avg_balance</th>\n",
       "      <th>housing_loan</th>\n",
       "      <th>personal_loan</th>\n",
       "      <th>contact</th>\n",
       "      <th>month</th>\n",
       "      <th>n_contacts_done</th>\n",
       "      <th>pre_n_contacts_done</th>\n",
       "      <th>results_prev_campains</th>\n",
       "      <th>campaign_results</th>\n",
       "      <th>age_group</th>\n",
       "      <th>balance_clasification</th>\n",
       "    </tr>\n",
       "  </thead>\n",
       "  <tbody>\n",
       "    <tr>\n",
       "      <th>0</th>\n",
       "      <td>30</td>\n",
       "      <td>unemployed</td>\n",
       "      <td>married</td>\n",
       "      <td>primary</td>\n",
       "      <td>0</td>\n",
       "      <td>1787</td>\n",
       "      <td>0</td>\n",
       "      <td>0</td>\n",
       "      <td>cellular</td>\n",
       "      <td>oct</td>\n",
       "      <td>1</td>\n",
       "      <td>0</td>\n",
       "      <td>NaN</td>\n",
       "      <td>0</td>\n",
       "      <td>Young</td>\n",
       "      <td>standard</td>\n",
       "    </tr>\n",
       "    <tr>\n",
       "      <th>1</th>\n",
       "      <td>33</td>\n",
       "      <td>services</td>\n",
       "      <td>married</td>\n",
       "      <td>secondary</td>\n",
       "      <td>0</td>\n",
       "      <td>4789</td>\n",
       "      <td>1</td>\n",
       "      <td>1</td>\n",
       "      <td>cellular</td>\n",
       "      <td>may</td>\n",
       "      <td>1</td>\n",
       "      <td>4</td>\n",
       "      <td>0.0</td>\n",
       "      <td>0</td>\n",
       "      <td>Young</td>\n",
       "      <td>high</td>\n",
       "    </tr>\n",
       "    <tr>\n",
       "      <th>2</th>\n",
       "      <td>35</td>\n",
       "      <td>management</td>\n",
       "      <td>single</td>\n",
       "      <td>tertiary</td>\n",
       "      <td>0</td>\n",
       "      <td>1350</td>\n",
       "      <td>1</td>\n",
       "      <td>0</td>\n",
       "      <td>cellular</td>\n",
       "      <td>apr</td>\n",
       "      <td>1</td>\n",
       "      <td>1</td>\n",
       "      <td>0.0</td>\n",
       "      <td>0</td>\n",
       "      <td>Adult</td>\n",
       "      <td>low</td>\n",
       "    </tr>\n",
       "    <tr>\n",
       "      <th>3</th>\n",
       "      <td>30</td>\n",
       "      <td>management</td>\n",
       "      <td>married</td>\n",
       "      <td>tertiary</td>\n",
       "      <td>0</td>\n",
       "      <td>1476</td>\n",
       "      <td>1</td>\n",
       "      <td>1</td>\n",
       "      <td>NaN</td>\n",
       "      <td>jun</td>\n",
       "      <td>4</td>\n",
       "      <td>0</td>\n",
       "      <td>NaN</td>\n",
       "      <td>0</td>\n",
       "      <td>Young</td>\n",
       "      <td>standard</td>\n",
       "    </tr>\n",
       "    <tr>\n",
       "      <th>4</th>\n",
       "      <td>59</td>\n",
       "      <td>blue-collar</td>\n",
       "      <td>married</td>\n",
       "      <td>secondary</td>\n",
       "      <td>0</td>\n",
       "      <td>0</td>\n",
       "      <td>1</td>\n",
       "      <td>0</td>\n",
       "      <td>NaN</td>\n",
       "      <td>may</td>\n",
       "      <td>1</td>\n",
       "      <td>0</td>\n",
       "      <td>NaN</td>\n",
       "      <td>0</td>\n",
       "      <td>Adult</td>\n",
       "      <td>low</td>\n",
       "    </tr>\n",
       "  </tbody>\n",
       "</table>\n",
       "</div>"
      ],
      "text/plain": [
       "   age          job  marital  education bank_debt  avg_balance  housing_loan  \\\n",
       "0   30   unemployed  married    primary         0         1787             0   \n",
       "1   33     services  married  secondary         0         4789             1   \n",
       "2   35   management   single   tertiary         0         1350             1   \n",
       "3   30   management  married   tertiary         0         1476             1   \n",
       "4   59  blue-collar  married  secondary         0            0             1   \n",
       "\n",
       "   personal_loan   contact month  n_contacts_done  pre_n_contacts_done  \\\n",
       "0              0  cellular   oct                1                    0   \n",
       "1              1  cellular   may                1                    4   \n",
       "2              0  cellular   apr                1                    1   \n",
       "3              1       NaN   jun                4                    0   \n",
       "4              0       NaN   may                1                    0   \n",
       "\n",
       "   results_prev_campains  campaign_results age_group balance_clasification  \n",
       "0                    NaN                 0     Young              standard  \n",
       "1                    0.0                 0     Young                  high  \n",
       "2                    0.0                 0     Adult                   low  \n",
       "3                    NaN                 0     Young              standard  \n",
       "4                    NaN                 0     Adult                   low  "
      ]
     },
     "execution_count": 94,
     "metadata": {},
     "output_type": "execute_result"
    }
   ],
   "source": [
    "df2.head()"
   ]
  },
  {
   "cell_type": "markdown",
   "id": "8bddde55",
   "metadata": {},
   "source": [
    "> 2.7.1 Analysis of Relative Frequencies"
   ]
  },
  {
   "cell_type": "code",
   "execution_count": 98,
   "id": "607d75d5",
   "metadata": {},
   "outputs": [
    {
     "data": {
      "text/html": [
       "<div>\n",
       "<style scoped>\n",
       "    .dataframe tbody tr th:only-of-type {\n",
       "        vertical-align: middle;\n",
       "    }\n",
       "\n",
       "    .dataframe tbody tr th {\n",
       "        vertical-align: top;\n",
       "    }\n",
       "\n",
       "    .dataframe thead th {\n",
       "        text-align: right;\n",
       "    }\n",
       "</style>\n",
       "<table border=\"1\" class=\"dataframe\">\n",
       "  <thead>\n",
       "    <tr style=\"text-align: right;\">\n",
       "      <th></th>\n",
       "      <th>balance_clasification</th>\n",
       "      <th>Frequency</th>\n",
       "      <th>relative_frequencies</th>\n",
       "    </tr>\n",
       "  </thead>\n",
       "  <tbody>\n",
       "    <tr>\n",
       "      <th>0</th>\n",
       "      <td>0</td>\n",
       "      <td>357</td>\n",
       "      <td>0.078965</td>\n",
       "    </tr>\n",
       "    <tr>\n",
       "      <th>1</th>\n",
       "      <td>2</td>\n",
       "      <td>24</td>\n",
       "      <td>0.005309</td>\n",
       "    </tr>\n",
       "    <tr>\n",
       "      <th>2</th>\n",
       "      <td>1</td>\n",
       "      <td>15</td>\n",
       "      <td>0.003318</td>\n",
       "    </tr>\n",
       "    <tr>\n",
       "      <th>3</th>\n",
       "      <td>4</td>\n",
       "      <td>13</td>\n",
       "      <td>0.002875</td>\n",
       "    </tr>\n",
       "    <tr>\n",
       "      <th>4</th>\n",
       "      <td>5</td>\n",
       "      <td>11</td>\n",
       "      <td>0.002433</td>\n",
       "    </tr>\n",
       "    <tr>\n",
       "      <th>...</th>\n",
       "      <td>...</td>\n",
       "      <td>...</td>\n",
       "      <td>...</td>\n",
       "    </tr>\n",
       "    <tr>\n",
       "      <th>2348</th>\n",
       "      <td>539</td>\n",
       "      <td>1</td>\n",
       "      <td>0.000221</td>\n",
       "    </tr>\n",
       "    <tr>\n",
       "      <th>2349</th>\n",
       "      <td>1041</td>\n",
       "      <td>1</td>\n",
       "      <td>0.000221</td>\n",
       "    </tr>\n",
       "    <tr>\n",
       "      <th>2350</th>\n",
       "      <td>464</td>\n",
       "      <td>1</td>\n",
       "      <td>0.000221</td>\n",
       "    </tr>\n",
       "    <tr>\n",
       "      <th>2351</th>\n",
       "      <td>7702</td>\n",
       "      <td>1</td>\n",
       "      <td>0.000221</td>\n",
       "    </tr>\n",
       "    <tr>\n",
       "      <th>2352</th>\n",
       "      <td>1137</td>\n",
       "      <td>1</td>\n",
       "      <td>0.000221</td>\n",
       "    </tr>\n",
       "  </tbody>\n",
       "</table>\n",
       "<p>2353 rows × 3 columns</p>\n",
       "</div>"
      ],
      "text/plain": [
       "      balance_clasification  Frequency  relative_frequencies\n",
       "0                         0        357              0.078965\n",
       "1                         2         24              0.005309\n",
       "2                         1         15              0.003318\n",
       "3                         4         13              0.002875\n",
       "4                         5         11              0.002433\n",
       "...                     ...        ...                   ...\n",
       "2348                    539          1              0.000221\n",
       "2349                   1041          1              0.000221\n",
       "2350                    464          1              0.000221\n",
       "2351                   7702          1              0.000221\n",
       "2352                   1137          1              0.000221\n",
       "\n",
       "[2353 rows x 3 columns]"
      ]
     },
     "execution_count": 98,
     "metadata": {},
     "output_type": "execute_result"
    }
   ],
   "source": [
    "value_counts=df2['avg_balance'].value_counts()\n",
    "relative_frequencies=value_counts/len(df2)\n",
    "subtable=pd.DataFrame({'balance_clasification':value_counts.index,\n",
    "                      'Frequency':value_counts.values,\n",
    "                      'relative_frequencies':relative_frequencies.values})\n",
    "subtable"
   ]
  },
  {
   "cell_type": "code",
   "execution_count": 97,
   "id": "8ee820d6",
   "metadata": {},
   "outputs": [
    {
     "data": {
      "text/html": [
       "<div>\n",
       "<style scoped>\n",
       "    .dataframe tbody tr th:only-of-type {\n",
       "        vertical-align: middle;\n",
       "    }\n",
       "\n",
       "    .dataframe tbody tr th {\n",
       "        vertical-align: top;\n",
       "    }\n",
       "\n",
       "    .dataframe thead th {\n",
       "        text-align: right;\n",
       "    }\n",
       "</style>\n",
       "<table border=\"1\" class=\"dataframe\">\n",
       "  <thead>\n",
       "    <tr style=\"text-align: right;\">\n",
       "      <th></th>\n",
       "      <th>balance_clasification</th>\n",
       "      <th>Frequency</th>\n",
       "      <th>relative_frequencies</th>\n",
       "    </tr>\n",
       "  </thead>\n",
       "  <tbody>\n",
       "    <tr>\n",
       "      <th>0</th>\n",
       "      <td>low</td>\n",
       "      <td>3359</td>\n",
       "      <td>0.742977</td>\n",
       "    </tr>\n",
       "    <tr>\n",
       "      <th>1</th>\n",
       "      <td>standard</td>\n",
       "      <td>729</td>\n",
       "      <td>0.161248</td>\n",
       "    </tr>\n",
       "    <tr>\n",
       "      <th>2</th>\n",
       "      <td>high</td>\n",
       "      <td>433</td>\n",
       "      <td>0.095775</td>\n",
       "    </tr>\n",
       "  </tbody>\n",
       "</table>\n",
       "</div>"
      ],
      "text/plain": [
       "  balance_clasification  Frequency  relative_frequencies\n",
       "0                   low       3359              0.742977\n",
       "1              standard        729              0.161248\n",
       "2                  high        433              0.095775"
      ]
     },
     "execution_count": 97,
     "metadata": {},
     "output_type": "execute_result"
    }
   ],
   "source": [
    "value_counts=df2['balance_clasification'].value_counts()\n",
    "relative_frequencies=value_counts/len(df2)\n",
    "subtable=pd.DataFrame({'balance_clasification':value_counts.index,\n",
    "                      'Frequency':value_counts.values,\n",
    "                      'relative_frequencies':relative_frequencies.values})\n",
    "subtable"
   ]
  },
  {
   "cell_type": "markdown",
   "id": "68d9f2e4",
   "metadata": {},
   "source": [
    "> 2.2.7 Summary analysis"
   ]
  },
  {
   "cell_type": "markdown",
   "id": "10959fb8",
   "metadata": {},
   "source": [
    "### Numerical Features"
   ]
  },
  {
   "cell_type": "code",
   "execution_count": 95,
   "id": "9a75f94a",
   "metadata": {},
   "outputs": [
    {
     "data": {
      "image/png": "[encoded data removed]",
      "text/plain": [
       "<Figure size 1008x720 with 3 Axes>"
      ]
     },
     "metadata": {},
     "output_type": "display_data"
    }
   ],
   "source": [
    "# Set the style and size for the plots\n",
    "sns.set(style=\"whitegrid\")\n",
    "plt.figure(figsize=(14, 10))\n",
    "\n",
    "# List of numerical features\n",
    "numerical_features = ['age', 'avg_balance','n_contacts_done']\n",
    "\n",
    "# Plot the distribution of numerical features\n",
    "for i, feature in enumerate(numerical_features, 1):\n",
    "    plt.subplot(3, 3, i)\n",
    "    sns.histplot(df2[feature], bins=30, kde=True)\n",
    "    plt.title(f'Distribution of {feature}')\n",
    "\n",
    "plt.tight_layout()\n",
    "plt.show()"
   ]
  },
  {
   "cell_type": "markdown",
   "id": "63e3f491",
   "metadata": {},
   "source": [
    "### Categorical Features"
   ]
  },
  {
   "cell_type": "markdown",
   "id": "2cdfc23a",
   "metadata": {},
   "source": [
    "### Note\n",
    "We have decided not to include data on customers, whether or not they have bank loans, as we consider them to be high-risk targets."
   ]
  },
  {
   "cell_type": "code",
   "execution_count": 96,
   "id": "2d8b44de",
   "metadata": {},
   "outputs": [
    {
     "data": {
      "image/png": "[encoded data removed]",
      "text/plain": [
       "<Figure size 1440x1296 with 9 Axes>"
      ]
     },
     "metadata": {},
     "output_type": "display_data"
    }
   ],
   "source": [
    "# List of categorical features\n",
    "categorical_features = ['job', 'marital', 'education', 'housing_loan', 'personal_loan', 'contact', 'month','age_group','balance_clasification']\n",
    "\n",
    "# Set the size for the plots\n",
    "plt.figure(figsize=(20, 18))\n",
    "\n",
    "# Plot the distribution of categorical features in relation to the target variable 'deposit'\n",
    "for i, feature in enumerate(categorical_features, 1):\n",
    "    plt.subplot(3, 3, i)\n",
    "    sns.countplot(data=df2, x=feature, hue='campaign_results')\n",
    "    plt.title(f'{feature} vs campaign_results')\n",
    "    plt.xticks(rotation=45)\n",
    "\n",
    "plt.tight_layout()\n",
    "plt.show()"
   ]
  },
  {
   "cell_type": "code",
   "execution_count": 99,
   "id": "b1045ae8",
   "metadata": {},
   "outputs": [
    {
     "name": "stdout",
     "output_type": "stream",
     "text": [
      "<class 'pandas.core.frame.DataFrame'>\n",
      "RangeIndex: 4521 entries, 0 to 4520\n",
      "Data columns (total 16 columns):\n",
      " #   Column                 Non-Null Count  Dtype   \n",
      "---  ------                 --------------  -----   \n",
      " 0   age                    4521 non-null   int64   \n",
      " 1   job                    4483 non-null   object  \n",
      " 2   marital                4521 non-null   object  \n",
      " 3   education              4334 non-null   object  \n",
      " 4   bank_debt              4445 non-null   object  \n",
      " 5   avg_balance            4521 non-null   int64   \n",
      " 6   housing_loan           4521 non-null   int64   \n",
      " 7   personal_loan          4521 non-null   int64   \n",
      " 8   contact                3197 non-null   object  \n",
      " 9   month                  4521 non-null   object  \n",
      " 10  n_contacts_done        4521 non-null   int64   \n",
      " 11  pre_n_contacts_done    4521 non-null   int64   \n",
      " 12  results_prev_campains  816 non-null    float64 \n",
      " 13  campaign_results       4521 non-null   int64   \n",
      " 14  age_group              4521 non-null   category\n",
      " 15  balance_clasification  4521 non-null   category\n",
      "dtypes: category(2), float64(1), int64(7), object(6)\n",
      "memory usage: 503.7+ KB\n"
     ]
    }
   ],
   "source": [
    "df2.info()"
   ]
  },
  {
   "cell_type": "markdown",
   "id": "b67cc654",
   "metadata": {},
   "source": [
    "### References"
   ]
  },
  {
   "cell_type": "markdown",
   "id": "758c5bf7",
   "metadata": {},
   "source": [
    "archive.ics.uci.edu. (n.d.). UCI Machine Learning Repository. [online] Available at: https://archive.ics.uci.edu/dataset/222/bank+marketing [Acceesed 05 Nov 2023]."
   ]
  },
  {
   "cell_type": "markdown",
   "id": "6d0ea97b",
   "metadata": {},
   "source": [
    "pandas.pydata.org. (n.d.). pandas.cut — pandas 1.4.2 documentation. [online] Available at: https://pandas.pydata.org/docs/reference/api/pandas.cut.html [Acceesed 05 Nov 2023]."
   ]
  }
 ],
 "metadata": {
  "kernelspec": {
   "display_name": "Python 3 (ipykernel)",
   "language": "python",
   "name": "python3"
  },
  "language_info": {
   "codemirror_mode": {
    "name": "ipython",
    "version": 3
   },
   "file_extension": ".py",
   "mimetype": "text/x-python",
   "name": "python",
   "nbconvert_exporter": "python",
   "pygments_lexer": "ipython3",
   "version": "3.9.7"
  }
 },
 "nbformat": 4,
 "nbformat_minor": 5
}
